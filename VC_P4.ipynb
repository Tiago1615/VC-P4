{
 "cells": [
  {
   "cell_type": "markdown",
   "metadata": {},
   "source": [
    "#Paquetes necesarios"
   ]
  },
  {
   "cell_type": "code",
   "execution_count": 1,
   "metadata": {},
   "outputs": [
    {
     "name": "stdout",
     "output_type": "stream",
     "text": [
      "WARNING  Python>=3.10 is required, but Python==3.9.20 is currently installed \n"
     ]
    }
   ],
   "source": [
    "import cv2  \n",
    "import math \n",
    "from ultralytics import YOLO"
   ]
  },
  {
   "cell_type": "code",
   "execution_count": 3,
   "metadata": {},
   "outputs": [
    {
     "name": "stdout",
     "output_type": "stream",
     "text": [
      "New https://pypi.org/project/ultralytics/8.3.20 available  Update with 'pip install -U ultralytics'\n",
      "Ultralytics 8.3.14  Python-3.9.20 torch-2.4.1+cpu CPU (Intel Core(TM) i5-10300H 2.50GHz)\n",
      "\u001b[34m\u001b[1mengine\\trainer: \u001b[0mtask=detect, mode=train, model=yolo11n.pt, data=datasets/data.yaml, epochs=40, time=None, patience=100, batch=4, imgsz=416, save=True, save_period=-1, cache=False, device=cpu, workers=8, project=None, name=train2, exist_ok=False, pretrained=True, optimizer=auto, verbose=True, seed=0, deterministic=True, single_cls=False, rect=False, cos_lr=False, close_mosaic=10, resume=False, amp=True, fraction=1.0, profile=False, freeze=None, multi_scale=False, overlap_mask=True, mask_ratio=4, dropout=0.0, val=True, split=val, save_json=False, save_hybrid=False, conf=None, iou=0.7, max_det=300, half=False, dnn=False, plots=True, source=None, vid_stride=1, stream_buffer=False, visualize=False, augment=False, agnostic_nms=False, classes=None, retina_masks=False, embed=None, show=False, save_frames=False, save_txt=False, save_conf=False, save_crop=False, show_labels=True, show_conf=True, show_boxes=True, line_width=None, format=torchscript, keras=False, optimize=False, int8=False, dynamic=False, simplify=True, opset=None, workspace=4, nms=False, lr0=0.01, lrf=0.01, momentum=0.937, weight_decay=0.0005, warmup_epochs=3.0, warmup_momentum=0.8, warmup_bias_lr=0.1, box=7.5, cls=0.5, dfl=1.5, pose=12.0, kobj=1.0, label_smoothing=0.0, nbs=64, hsv_h=0.015, hsv_s=0.7, hsv_v=0.4, degrees=0.0, translate=0.1, scale=0.5, shear=0.0, perspective=0.0, flipud=0.0, fliplr=0.5, bgr=0.0, mosaic=1.0, mixup=0.0, copy_paste=0.0, copy_paste_mode=flip, auto_augment=randaugment, erasing=0.4, crop_fraction=1.0, cfg=None, tracker=botsort.yaml, save_dir=runs\\detect\\train2\n",
      "Overriding model.yaml nc=80 with nc=1\n",
      "\n",
      "                   from  n    params  module                                       arguments                     \n",
      "  0                  -1  1       464  ultralytics.nn.modules.conv.Conv             [3, 16, 3, 2]                 \n",
      "  1                  -1  1      4672  ultralytics.nn.modules.conv.Conv             [16, 32, 3, 2]                \n",
      "  2                  -1  1      6640  ultralytics.nn.modules.block.C3k2            [32, 64, 1, False, 0.25]      \n",
      "  3                  -1  1     36992  ultralytics.nn.modules.conv.Conv             [64, 64, 3, 2]                \n",
      "  4                  -1  1     26080  ultralytics.nn.modules.block.C3k2            [64, 128, 1, False, 0.25]     \n",
      "  5                  -1  1    147712  ultralytics.nn.modules.conv.Conv             [128, 128, 3, 2]              \n",
      "  6                  -1  1     87040  ultralytics.nn.modules.block.C3k2            [128, 128, 1, True]           \n",
      "  7                  -1  1    295424  ultralytics.nn.modules.conv.Conv             [128, 256, 3, 2]              \n",
      "  8                  -1  1    346112  ultralytics.nn.modules.block.C3k2            [256, 256, 1, True]           \n",
      "  9                  -1  1    164608  ultralytics.nn.modules.block.SPPF            [256, 256, 5]                 \n",
      " 10                  -1  1    249728  ultralytics.nn.modules.block.C2PSA           [256, 256, 1]                 \n",
      " 11                  -1  1         0  torch.nn.modules.upsampling.Upsample         [None, 2, 'nearest']          \n",
      " 12             [-1, 6]  1         0  ultralytics.nn.modules.conv.Concat           [1]                           \n",
      " 13                  -1  1    111296  ultralytics.nn.modules.block.C3k2            [384, 128, 1, False]          \n",
      " 14                  -1  1         0  torch.nn.modules.upsampling.Upsample         [None, 2, 'nearest']          \n",
      " 15             [-1, 4]  1         0  ultralytics.nn.modules.conv.Concat           [1]                           \n",
      " 16                  -1  1     32096  ultralytics.nn.modules.block.C3k2            [256, 64, 1, False]           \n",
      " 17                  -1  1     36992  ultralytics.nn.modules.conv.Conv             [64, 64, 3, 2]                \n",
      " 18            [-1, 13]  1         0  ultralytics.nn.modules.conv.Concat           [1]                           \n",
      " 19                  -1  1     86720  ultralytics.nn.modules.block.C3k2            [192, 128, 1, False]          \n",
      " 20                  -1  1    147712  ultralytics.nn.modules.conv.Conv             [128, 128, 3, 2]              \n",
      " 21            [-1, 10]  1         0  ultralytics.nn.modules.conv.Concat           [1]                           \n",
      " 22                  -1  1    378880  ultralytics.nn.modules.block.C3k2            [384, 256, 1, True]           \n",
      " 23        [16, 19, 22]  1    430867  ultralytics.nn.modules.head.Detect           [1, [64, 128, 256]]           \n",
      "YOLO11n summary: 319 layers, 2,590,035 parameters, 2,590,019 gradients, 6.4 GFLOPs\n",
      "\n",
      "Transferred 448/499 items from pretrained weights\n",
      "Freezing layer 'model.23.dfl.conv.weight'\n"
     ]
    },
    {
     "name": "stderr",
     "output_type": "stream",
     "text": [
      "\u001b[34m\u001b[1mtrain: \u001b[0mScanning C:\\Users\\santu\\OneDrive\\Escritorio\\Documentos ULPGC\\VC\\P4\\VC-P4\\datasets\\train\\labels... 178 images, 1 backgrounds, 0 corrupt: 100%|██████████| 178/178 [00:00<00:00, 1618.15it/s]"
     ]
    },
    {
     "name": "stdout",
     "output_type": "stream",
     "text": [
      "\u001b[34m\u001b[1mtrain: \u001b[0mNew cache created: C:\\Users\\santu\\OneDrive\\Escritorio\\Documentos ULPGC\\VC\\P4\\VC-P4\\datasets\\train\\labels.cache\n"
     ]
    },
    {
     "name": "stderr",
     "output_type": "stream",
     "text": [
      "\n",
      "\u001b[34m\u001b[1mval: \u001b[0mScanning C:\\Users\\santu\\OneDrive\\Escritorio\\Documentos ULPGC\\VC\\P4\\VC-P4\\datasets\\valid\\labels... 59 images, 0 backgrounds, 0 corrupt: 100%|██████████| 59/59 [00:00<00:00, 1787.89it/s]"
     ]
    },
    {
     "name": "stdout",
     "output_type": "stream",
     "text": [
      "\u001b[34m\u001b[1mval: \u001b[0mNew cache created: C:\\Users\\santu\\OneDrive\\Escritorio\\Documentos ULPGC\\VC\\P4\\VC-P4\\datasets\\valid\\labels.cache\n"
     ]
    },
    {
     "name": "stderr",
     "output_type": "stream",
     "text": [
      "\n"
     ]
    },
    {
     "name": "stdout",
     "output_type": "stream",
     "text": [
      "Plotting labels to runs\\detect\\train2\\labels.jpg... \n",
      "\u001b[34m\u001b[1moptimizer:\u001b[0m 'optimizer=auto' found, ignoring 'lr0=0.01' and 'momentum=0.937' and determining best 'optimizer', 'lr0' and 'momentum' automatically... \n",
      "\u001b[34m\u001b[1moptimizer:\u001b[0m AdamW(lr=0.002, momentum=0.9) with parameter groups 81 weight(decay=0.0), 88 weight(decay=0.0005), 87 bias(decay=0.0)\n",
      "Image sizes 416 train, 416 val\n",
      "Using 0 dataloader workers\n",
      "Logging results to \u001b[1mruns\\detect\\train2\u001b[0m\n",
      "Starting training for 40 epochs...\n",
      "\n",
      "      Epoch    GPU_mem   box_loss   cls_loss   dfl_loss  Instances       Size\n"
     ]
    },
    {
     "name": "stderr",
     "output_type": "stream",
     "text": [
      "       1/40         0G      1.336      3.043      1.169          3        416: 100%|██████████| 45/45 [00:22<00:00,  2.00it/s]\n",
      "                 Class     Images  Instances      Box(P          R      mAP50  mAP50-95): 100%|██████████| 8/8 [00:03<00:00,  2.38it/s]"
     ]
    },
    {
     "name": "stdout",
     "output_type": "stream",
     "text": [
      "                   all         59         90    0.00339      0.667      0.228      0.105\n"
     ]
    },
    {
     "name": "stderr",
     "output_type": "stream",
     "text": [
      "\n"
     ]
    },
    {
     "name": "stdout",
     "output_type": "stream",
     "text": [
      "\n",
      "      Epoch    GPU_mem   box_loss   cls_loss   dfl_loss  Instances       Size\n"
     ]
    },
    {
     "name": "stderr",
     "output_type": "stream",
     "text": [
      "       2/40         0G      1.411      2.131      1.193          2        416: 100%|██████████| 45/45 [00:21<00:00,  2.09it/s]\n",
      "                 Class     Images  Instances      Box(P          R      mAP50  mAP50-95): 100%|██████████| 8/8 [00:02<00:00,  2.77it/s]"
     ]
    },
    {
     "name": "stdout",
     "output_type": "stream",
     "text": [
      "                   all         59         90      0.452      0.178      0.212      0.125\n"
     ]
    },
    {
     "name": "stderr",
     "output_type": "stream",
     "text": [
      "\n"
     ]
    },
    {
     "name": "stdout",
     "output_type": "stream",
     "text": [
      "\n",
      "      Epoch    GPU_mem   box_loss   cls_loss   dfl_loss  Instances       Size\n"
     ]
    },
    {
     "name": "stderr",
     "output_type": "stream",
     "text": [
      "       3/40         0G      1.483      2.121      1.202          3        416: 100%|██████████| 45/45 [00:21<00:00,  2.14it/s]\n",
      "                 Class     Images  Instances      Box(P          R      mAP50  mAP50-95): 100%|██████████| 8/8 [00:02<00:00,  2.67it/s]"
     ]
    },
    {
     "name": "stdout",
     "output_type": "stream",
     "text": [
      "                   all         59         90      0.731      0.544      0.582      0.342\n"
     ]
    },
    {
     "name": "stderr",
     "output_type": "stream",
     "text": [
      "\n"
     ]
    },
    {
     "name": "stdout",
     "output_type": "stream",
     "text": [
      "\n",
      "      Epoch    GPU_mem   box_loss   cls_loss   dfl_loss  Instances       Size\n"
     ]
    },
    {
     "name": "stderr",
     "output_type": "stream",
     "text": [
      "       4/40         0G      1.538      1.883      1.242          4        416: 100%|██████████| 45/45 [00:21<00:00,  2.14it/s]\n",
      "                 Class     Images  Instances      Box(P          R      mAP50  mAP50-95): 100%|██████████| 8/8 [00:02<00:00,  2.74it/s]"
     ]
    },
    {
     "name": "stdout",
     "output_type": "stream",
     "text": [
      "                   all         59         90      0.585      0.422      0.372      0.195\n"
     ]
    },
    {
     "name": "stderr",
     "output_type": "stream",
     "text": [
      "\n"
     ]
    },
    {
     "name": "stdout",
     "output_type": "stream",
     "text": [
      "\n",
      "      Epoch    GPU_mem   box_loss   cls_loss   dfl_loss  Instances       Size\n"
     ]
    },
    {
     "name": "stderr",
     "output_type": "stream",
     "text": [
      "       5/40         0G      1.489      1.969      1.229          2        416: 100%|██████████| 45/45 [00:21<00:00,  2.11it/s]\n",
      "                 Class     Images  Instances      Box(P          R      mAP50  mAP50-95): 100%|██████████| 8/8 [00:02<00:00,  2.67it/s]"
     ]
    },
    {
     "name": "stdout",
     "output_type": "stream",
     "text": [
      "                   all         59         90       0.66      0.475      0.527      0.281\n"
     ]
    },
    {
     "name": "stderr",
     "output_type": "stream",
     "text": [
      "\n"
     ]
    },
    {
     "name": "stdout",
     "output_type": "stream",
     "text": [
      "\n",
      "      Epoch    GPU_mem   box_loss   cls_loss   dfl_loss  Instances       Size\n"
     ]
    },
    {
     "name": "stderr",
     "output_type": "stream",
     "text": [
      "       6/40         0G      1.585      1.894      1.231          6        416: 100%|██████████| 45/45 [00:22<00:00,  1.99it/s]\n",
      "                 Class     Images  Instances      Box(P          R      mAP50  mAP50-95): 100%|██████████| 8/8 [00:03<00:00,  2.55it/s]\n"
     ]
    },
    {
     "name": "stdout",
     "output_type": "stream",
     "text": [
      "                   all         59         90      0.657      0.522      0.559      0.317\n",
      "\n",
      "      Epoch    GPU_mem   box_loss   cls_loss   dfl_loss  Instances       Size\n"
     ]
    },
    {
     "name": "stderr",
     "output_type": "stream",
     "text": [
      "       7/40         0G      1.526      1.872      1.282          4        416: 100%|██████████| 45/45 [00:21<00:00,  2.11it/s]\n",
      "                 Class     Images  Instances      Box(P          R      mAP50  mAP50-95): 100%|██████████| 8/8 [00:02<00:00,  2.68it/s]"
     ]
    },
    {
     "name": "stdout",
     "output_type": "stream",
     "text": [
      "                   all         59         90       0.67      0.578      0.569      0.338\n"
     ]
    },
    {
     "name": "stderr",
     "output_type": "stream",
     "text": [
      "\n"
     ]
    },
    {
     "name": "stdout",
     "output_type": "stream",
     "text": [
      "\n",
      "      Epoch    GPU_mem   box_loss   cls_loss   dfl_loss  Instances       Size\n"
     ]
    },
    {
     "name": "stderr",
     "output_type": "stream",
     "text": [
      "       8/40         0G      1.487      1.788      1.226          7        416: 100%|██████████| 45/45 [00:21<00:00,  2.13it/s]\n",
      "                 Class     Images  Instances      Box(P          R      mAP50  mAP50-95): 100%|██████████| 8/8 [00:03<00:00,  2.65it/s]"
     ]
    },
    {
     "name": "stdout",
     "output_type": "stream",
     "text": [
      "                   all         59         90      0.759        0.6       0.67      0.385\n"
     ]
    },
    {
     "name": "stderr",
     "output_type": "stream",
     "text": [
      "\n"
     ]
    },
    {
     "name": "stdout",
     "output_type": "stream",
     "text": [
      "\n",
      "      Epoch    GPU_mem   box_loss   cls_loss   dfl_loss  Instances       Size\n"
     ]
    },
    {
     "name": "stderr",
     "output_type": "stream",
     "text": [
      "       9/40         0G      1.415      1.692      1.186          2        416: 100%|██████████| 45/45 [00:21<00:00,  2.11it/s]\n",
      "                 Class     Images  Instances      Box(P          R      mAP50  mAP50-95): 100%|██████████| 8/8 [00:02<00:00,  2.74it/s]"
     ]
    },
    {
     "name": "stdout",
     "output_type": "stream",
     "text": [
      "                   all         59         90      0.755      0.544      0.591      0.362\n"
     ]
    },
    {
     "name": "stderr",
     "output_type": "stream",
     "text": [
      "\n"
     ]
    },
    {
     "name": "stdout",
     "output_type": "stream",
     "text": [
      "\n",
      "      Epoch    GPU_mem   box_loss   cls_loss   dfl_loss  Instances       Size\n"
     ]
    },
    {
     "name": "stderr",
     "output_type": "stream",
     "text": [
      "      10/40         0G      1.439      1.569      1.199          3        416: 100%|██████████| 45/45 [00:21<00:00,  2.12it/s]\n",
      "                 Class     Images  Instances      Box(P          R      mAP50  mAP50-95): 100%|██████████| 8/8 [00:02<00:00,  2.71it/s]"
     ]
    },
    {
     "name": "stdout",
     "output_type": "stream",
     "text": [
      "                   all         59         90      0.713      0.467      0.524      0.316\n"
     ]
    },
    {
     "name": "stderr",
     "output_type": "stream",
     "text": [
      "\n"
     ]
    },
    {
     "name": "stdout",
     "output_type": "stream",
     "text": [
      "\n",
      "      Epoch    GPU_mem   box_loss   cls_loss   dfl_loss  Instances       Size\n"
     ]
    },
    {
     "name": "stderr",
     "output_type": "stream",
     "text": [
      "      11/40         0G      1.446      1.525      1.206          5        416: 100%|██████████| 45/45 [00:21<00:00,  2.13it/s]\n",
      "                 Class     Images  Instances      Box(P          R      mAP50  mAP50-95): 100%|██████████| 8/8 [00:02<00:00,  2.75it/s]"
     ]
    },
    {
     "name": "stdout",
     "output_type": "stream",
     "text": [
      "                   all         59         90      0.779      0.625      0.723      0.426\n"
     ]
    },
    {
     "name": "stderr",
     "output_type": "stream",
     "text": [
      "\n"
     ]
    },
    {
     "name": "stdout",
     "output_type": "stream",
     "text": [
      "\n",
      "      Epoch    GPU_mem   box_loss   cls_loss   dfl_loss  Instances       Size\n"
     ]
    },
    {
     "name": "stderr",
     "output_type": "stream",
     "text": [
      "      12/40         0G      1.387      1.408      1.185          3        416: 100%|██████████| 45/45 [00:25<00:00,  1.77it/s]\n",
      "                 Class     Images  Instances      Box(P          R      mAP50  mAP50-95): 100%|██████████| 8/8 [00:03<00:00,  2.09it/s]"
     ]
    },
    {
     "name": "stdout",
     "output_type": "stream",
     "text": [
      "                   all         59         90      0.849      0.644       0.73      0.449\n"
     ]
    },
    {
     "name": "stderr",
     "output_type": "stream",
     "text": [
      "\n"
     ]
    },
    {
     "name": "stdout",
     "output_type": "stream",
     "text": [
      "\n",
      "      Epoch    GPU_mem   box_loss   cls_loss   dfl_loss  Instances       Size\n"
     ]
    },
    {
     "name": "stderr",
     "output_type": "stream",
     "text": [
      "      13/40         0G      1.336      1.498      1.172          6        416: 100%|██████████| 45/45 [00:23<00:00,  1.95it/s]\n",
      "                 Class     Images  Instances      Box(P          R      mAP50  mAP50-95): 100%|██████████| 8/8 [00:02<00:00,  2.72it/s]"
     ]
    },
    {
     "name": "stdout",
     "output_type": "stream",
     "text": [
      "                   all         59         90      0.802      0.656      0.721      0.435\n"
     ]
    },
    {
     "name": "stderr",
     "output_type": "stream",
     "text": [
      "\n"
     ]
    },
    {
     "name": "stdout",
     "output_type": "stream",
     "text": [
      "\n",
      "      Epoch    GPU_mem   box_loss   cls_loss   dfl_loss  Instances       Size\n"
     ]
    },
    {
     "name": "stderr",
     "output_type": "stream",
     "text": [
      "      14/40         0G      1.396      1.504       1.19          4        416: 100%|██████████| 45/45 [00:22<00:00,  1.97it/s]\n",
      "                 Class     Images  Instances      Box(P          R      mAP50  mAP50-95): 100%|██████████| 8/8 [00:02<00:00,  2.71it/s]"
     ]
    },
    {
     "name": "stdout",
     "output_type": "stream",
     "text": [
      "                   all         59         90      0.792      0.678      0.705      0.416\n"
     ]
    },
    {
     "name": "stderr",
     "output_type": "stream",
     "text": [
      "\n"
     ]
    },
    {
     "name": "stdout",
     "output_type": "stream",
     "text": [
      "\n",
      "      Epoch    GPU_mem   box_loss   cls_loss   dfl_loss  Instances       Size\n"
     ]
    },
    {
     "name": "stderr",
     "output_type": "stream",
     "text": [
      "      15/40         0G      1.342      1.361      1.163          8        416: 100%|██████████| 45/45 [00:22<00:00,  2.03it/s]\n",
      "                 Class     Images  Instances      Box(P          R      mAP50  mAP50-95): 100%|██████████| 8/8 [00:02<00:00,  2.71it/s]"
     ]
    },
    {
     "name": "stdout",
     "output_type": "stream",
     "text": [
      "                   all         59         90      0.751      0.669      0.677      0.412\n"
     ]
    },
    {
     "name": "stderr",
     "output_type": "stream",
     "text": [
      "\n"
     ]
    },
    {
     "name": "stdout",
     "output_type": "stream",
     "text": [
      "\n",
      "      Epoch    GPU_mem   box_loss   cls_loss   dfl_loss  Instances       Size\n"
     ]
    },
    {
     "name": "stderr",
     "output_type": "stream",
     "text": [
      "      16/40         0G      1.324       1.28      1.167          2        416: 100%|██████████| 45/45 [00:22<00:00,  1.97it/s]\n",
      "                 Class     Images  Instances      Box(P          R      mAP50  mAP50-95): 100%|██████████| 8/8 [00:03<00:00,  2.56it/s]"
     ]
    },
    {
     "name": "stdout",
     "output_type": "stream",
     "text": [
      "                   all         59         90      0.812      0.626      0.688        0.4\n"
     ]
    },
    {
     "name": "stderr",
     "output_type": "stream",
     "text": [
      "\n"
     ]
    },
    {
     "name": "stdout",
     "output_type": "stream",
     "text": [
      "\n",
      "      Epoch    GPU_mem   box_loss   cls_loss   dfl_loss  Instances       Size\n"
     ]
    },
    {
     "name": "stderr",
     "output_type": "stream",
     "text": [
      "      17/40         0G      1.289      1.242      1.142          3        416: 100%|██████████| 45/45 [00:22<00:00,  2.00it/s]\n",
      "                 Class     Images  Instances      Box(P          R      mAP50  mAP50-95): 100%|██████████| 8/8 [00:02<00:00,  2.72it/s]"
     ]
    },
    {
     "name": "stdout",
     "output_type": "stream",
     "text": [
      "                   all         59         90       0.85      0.632      0.717      0.432\n"
     ]
    },
    {
     "name": "stderr",
     "output_type": "stream",
     "text": [
      "\n"
     ]
    },
    {
     "name": "stdout",
     "output_type": "stream",
     "text": [
      "\n",
      "      Epoch    GPU_mem   box_loss   cls_loss   dfl_loss  Instances       Size\n"
     ]
    },
    {
     "name": "stderr",
     "output_type": "stream",
     "text": [
      "      18/40         0G      1.263      1.265      1.111          5        416: 100%|██████████| 45/45 [00:24<00:00,  1.82it/s]\n",
      "                 Class     Images  Instances      Box(P          R      mAP50  mAP50-95): 100%|██████████| 8/8 [00:04<00:00,  1.72it/s]"
     ]
    },
    {
     "name": "stdout",
     "output_type": "stream",
     "text": [
      "                   all         59         90      0.835      0.744      0.805      0.489\n"
     ]
    },
    {
     "name": "stderr",
     "output_type": "stream",
     "text": [
      "\n"
     ]
    },
    {
     "name": "stdout",
     "output_type": "stream",
     "text": [
      "\n",
      "      Epoch    GPU_mem   box_loss   cls_loss   dfl_loss  Instances       Size\n"
     ]
    },
    {
     "name": "stderr",
     "output_type": "stream",
     "text": [
      "      19/40         0G       1.31      1.276      1.148          5        416: 100%|██████████| 45/45 [00:25<00:00,  1.79it/s]\n",
      "                 Class     Images  Instances      Box(P          R      mAP50  mAP50-95): 100%|██████████| 8/8 [00:02<00:00,  2.76it/s]"
     ]
    },
    {
     "name": "stdout",
     "output_type": "stream",
     "text": [
      "                   all         59         90      0.813      0.722      0.804      0.473\n"
     ]
    },
    {
     "name": "stderr",
     "output_type": "stream",
     "text": [
      "\n"
     ]
    },
    {
     "name": "stdout",
     "output_type": "stream",
     "text": [
      "\n",
      "      Epoch    GPU_mem   box_loss   cls_loss   dfl_loss  Instances       Size\n"
     ]
    },
    {
     "name": "stderr",
     "output_type": "stream",
     "text": [
      "      20/40         0G      1.261      1.193      1.123          9        416: 100%|██████████| 45/45 [00:21<00:00,  2.07it/s]\n",
      "                 Class     Images  Instances      Box(P          R      mAP50  mAP50-95): 100%|██████████| 8/8 [00:02<00:00,  2.86it/s]"
     ]
    },
    {
     "name": "stdout",
     "output_type": "stream",
     "text": [
      "                   all         59         90      0.852      0.722      0.788      0.483\n"
     ]
    },
    {
     "name": "stderr",
     "output_type": "stream",
     "text": [
      "\n"
     ]
    },
    {
     "name": "stdout",
     "output_type": "stream",
     "text": [
      "\n",
      "      Epoch    GPU_mem   box_loss   cls_loss   dfl_loss  Instances       Size\n"
     ]
    },
    {
     "name": "stderr",
     "output_type": "stream",
     "text": [
      "      21/40         0G      1.318      1.203      1.121          4        416: 100%|██████████| 45/45 [00:21<00:00,  2.13it/s]\n",
      "                 Class     Images  Instances      Box(P          R      mAP50  mAP50-95): 100%|██████████| 8/8 [00:02<00:00,  2.87it/s]"
     ]
    },
    {
     "name": "stdout",
     "output_type": "stream",
     "text": [
      "                   all         59         90      0.814      0.679      0.739      0.446\n"
     ]
    },
    {
     "name": "stderr",
     "output_type": "stream",
     "text": [
      "\n"
     ]
    },
    {
     "name": "stdout",
     "output_type": "stream",
     "text": [
      "\n",
      "      Epoch    GPU_mem   box_loss   cls_loss   dfl_loss  Instances       Size\n"
     ]
    },
    {
     "name": "stderr",
     "output_type": "stream",
     "text": [
      "      22/40         0G      1.273      1.085      1.093          7        416: 100%|██████████| 45/45 [00:21<00:00,  2.10it/s]\n",
      "                 Class     Images  Instances      Box(P          R      mAP50  mAP50-95): 100%|██████████| 8/8 [00:02<00:00,  2.90it/s]"
     ]
    },
    {
     "name": "stdout",
     "output_type": "stream",
     "text": [
      "                   all         59         90       0.87      0.689      0.789      0.479\n"
     ]
    },
    {
     "name": "stderr",
     "output_type": "stream",
     "text": [
      "\n"
     ]
    },
    {
     "name": "stdout",
     "output_type": "stream",
     "text": [
      "\n",
      "      Epoch    GPU_mem   box_loss   cls_loss   dfl_loss  Instances       Size\n"
     ]
    },
    {
     "name": "stderr",
     "output_type": "stream",
     "text": [
      "      23/40         0G      1.187      1.108       1.12          3        416: 100%|██████████| 45/45 [00:21<00:00,  2.11it/s]\n",
      "                 Class     Images  Instances      Box(P          R      mAP50  mAP50-95): 100%|██████████| 8/8 [00:02<00:00,  2.85it/s]"
     ]
    },
    {
     "name": "stdout",
     "output_type": "stream",
     "text": [
      "                   all         59         90      0.818      0.722      0.777      0.463\n"
     ]
    },
    {
     "name": "stderr",
     "output_type": "stream",
     "text": [
      "\n"
     ]
    },
    {
     "name": "stdout",
     "output_type": "stream",
     "text": [
      "\n",
      "      Epoch    GPU_mem   box_loss   cls_loss   dfl_loss  Instances       Size\n"
     ]
    },
    {
     "name": "stderr",
     "output_type": "stream",
     "text": [
      "      24/40         0G      1.197      1.097      1.102          3        416: 100%|██████████| 45/45 [00:21<00:00,  2.07it/s]\n",
      "                 Class     Images  Instances      Box(P          R      mAP50  mAP50-95): 100%|██████████| 8/8 [00:02<00:00,  2.88it/s]"
     ]
    },
    {
     "name": "stdout",
     "output_type": "stream",
     "text": [
      "                   all         59         90      0.841      0.689      0.774       0.48\n"
     ]
    },
    {
     "name": "stderr",
     "output_type": "stream",
     "text": [
      "\n"
     ]
    },
    {
     "name": "stdout",
     "output_type": "stream",
     "text": [
      "\n",
      "      Epoch    GPU_mem   box_loss   cls_loss   dfl_loss  Instances       Size\n"
     ]
    },
    {
     "name": "stderr",
     "output_type": "stream",
     "text": [
      "      25/40         0G      1.239       1.12      1.118          5        416: 100%|██████████| 45/45 [00:21<00:00,  2.13it/s]\n",
      "                 Class     Images  Instances      Box(P          R      mAP50  mAP50-95): 100%|██████████| 8/8 [00:02<00:00,  2.83it/s]"
     ]
    },
    {
     "name": "stdout",
     "output_type": "stream",
     "text": [
      "                   all         59         90      0.914      0.711      0.796      0.505\n"
     ]
    },
    {
     "name": "stderr",
     "output_type": "stream",
     "text": [
      "\n"
     ]
    },
    {
     "name": "stdout",
     "output_type": "stream",
     "text": [
      "\n",
      "      Epoch    GPU_mem   box_loss   cls_loss   dfl_loss  Instances       Size\n"
     ]
    },
    {
     "name": "stderr",
     "output_type": "stream",
     "text": [
      "      26/40         0G      1.213      1.074      1.094          8        416: 100%|██████████| 45/45 [00:21<00:00,  2.12it/s]\n",
      "                 Class     Images  Instances      Box(P          R      mAP50  mAP50-95): 100%|██████████| 8/8 [00:02<00:00,  2.91it/s]"
     ]
    },
    {
     "name": "stdout",
     "output_type": "stream",
     "text": [
      "                   all         59         90      0.876      0.705      0.805       0.51\n"
     ]
    },
    {
     "name": "stderr",
     "output_type": "stream",
     "text": [
      "\n"
     ]
    },
    {
     "name": "stdout",
     "output_type": "stream",
     "text": [
      "\n",
      "      Epoch    GPU_mem   box_loss   cls_loss   dfl_loss  Instances       Size\n"
     ]
    },
    {
     "name": "stderr",
     "output_type": "stream",
     "text": [
      "      27/40         0G      1.179      1.026      1.066          6        416: 100%|██████████| 45/45 [00:21<00:00,  2.13it/s]\n",
      "                 Class     Images  Instances      Box(P          R      mAP50  mAP50-95): 100%|██████████| 8/8 [00:02<00:00,  2.91it/s]"
     ]
    },
    {
     "name": "stdout",
     "output_type": "stream",
     "text": [
      "                   all         59         90      0.842      0.733      0.798      0.502\n"
     ]
    },
    {
     "name": "stderr",
     "output_type": "stream",
     "text": [
      "\n"
     ]
    },
    {
     "name": "stdout",
     "output_type": "stream",
     "text": [
      "\n",
      "      Epoch    GPU_mem   box_loss   cls_loss   dfl_loss  Instances       Size\n"
     ]
    },
    {
     "name": "stderr",
     "output_type": "stream",
     "text": [
      "      28/40         0G      1.206      1.025      1.086          4        416: 100%|██████████| 45/45 [00:21<00:00,  2.13it/s]\n",
      "                 Class     Images  Instances      Box(P          R      mAP50  mAP50-95): 100%|██████████| 8/8 [00:02<00:00,  2.78it/s]"
     ]
    },
    {
     "name": "stdout",
     "output_type": "stream",
     "text": [
      "                   all         59         90      0.769      0.744      0.784       0.51\n"
     ]
    },
    {
     "name": "stderr",
     "output_type": "stream",
     "text": [
      "\n"
     ]
    },
    {
     "name": "stdout",
     "output_type": "stream",
     "text": [
      "\n",
      "      Epoch    GPU_mem   box_loss   cls_loss   dfl_loss  Instances       Size\n"
     ]
    },
    {
     "name": "stderr",
     "output_type": "stream",
     "text": [
      "      29/40         0G      1.208      1.033       1.07          1        416: 100%|██████████| 45/45 [00:21<00:00,  2.11it/s]\n",
      "                 Class     Images  Instances      Box(P          R      mAP50  mAP50-95): 100%|██████████| 8/8 [00:02<00:00,  2.83it/s]"
     ]
    },
    {
     "name": "stdout",
     "output_type": "stream",
     "text": [
      "                   all         59         90      0.894      0.656      0.741      0.477\n"
     ]
    },
    {
     "name": "stderr",
     "output_type": "stream",
     "text": [
      "\n"
     ]
    },
    {
     "name": "stdout",
     "output_type": "stream",
     "text": [
      "\n",
      "      Epoch    GPU_mem   box_loss   cls_loss   dfl_loss  Instances       Size\n"
     ]
    },
    {
     "name": "stderr",
     "output_type": "stream",
     "text": [
      "      30/40         0G      1.194      1.022      1.087          4        416: 100%|██████████| 45/45 [00:21<00:00,  2.10it/s]\n",
      "                 Class     Images  Instances      Box(P          R      mAP50  mAP50-95): 100%|██████████| 8/8 [00:02<00:00,  2.92it/s]"
     ]
    },
    {
     "name": "stdout",
     "output_type": "stream",
     "text": [
      "                   all         59         90      0.864      0.689      0.781        0.5\n"
     ]
    },
    {
     "name": "stderr",
     "output_type": "stream",
     "text": [
      "\n"
     ]
    },
    {
     "name": "stdout",
     "output_type": "stream",
     "text": [
      "Closing dataloader mosaic\n",
      "\n",
      "      Epoch    GPU_mem   box_loss   cls_loss   dfl_loss  Instances       Size\n"
     ]
    },
    {
     "name": "stderr",
     "output_type": "stream",
     "text": [
      "      31/40         0G      1.192     0.9919      1.068          7        416: 100%|██████████| 45/45 [00:20<00:00,  2.15it/s]\n",
      "                 Class     Images  Instances      Box(P          R      mAP50  mAP50-95): 100%|██████████| 8/8 [00:02<00:00,  2.90it/s]"
     ]
    },
    {
     "name": "stdout",
     "output_type": "stream",
     "text": [
      "                   all         59         90      0.953      0.678      0.793      0.486\n"
     ]
    },
    {
     "name": "stderr",
     "output_type": "stream",
     "text": [
      "\n"
     ]
    },
    {
     "name": "stdout",
     "output_type": "stream",
     "text": [
      "\n",
      "      Epoch    GPU_mem   box_loss   cls_loss   dfl_loss  Instances       Size\n"
     ]
    },
    {
     "name": "stderr",
     "output_type": "stream",
     "text": [
      "      32/40         0G      1.148      0.971      1.038          4        416: 100%|██████████| 45/45 [00:21<00:00,  2.14it/s]\n",
      "                 Class     Images  Instances      Box(P          R      mAP50  mAP50-95): 100%|██████████| 8/8 [00:02<00:00,  2.92it/s]"
     ]
    },
    {
     "name": "stdout",
     "output_type": "stream",
     "text": [
      "                   all         59         90       0.96      0.667      0.796      0.493\n"
     ]
    },
    {
     "name": "stderr",
     "output_type": "stream",
     "text": [
      "\n"
     ]
    },
    {
     "name": "stdout",
     "output_type": "stream",
     "text": [
      "\n",
      "      Epoch    GPU_mem   box_loss   cls_loss   dfl_loss  Instances       Size\n"
     ]
    },
    {
     "name": "stderr",
     "output_type": "stream",
     "text": [
      "      33/40         0G      1.067     0.8832     0.9854          2        416: 100%|██████████| 45/45 [00:20<00:00,  2.15it/s]\n",
      "                 Class     Images  Instances      Box(P          R      mAP50  mAP50-95): 100%|██████████| 8/8 [00:02<00:00,  2.91it/s]"
     ]
    },
    {
     "name": "stdout",
     "output_type": "stream",
     "text": [
      "                   all         59         90       0.86      0.711      0.797      0.513\n"
     ]
    },
    {
     "name": "stderr",
     "output_type": "stream",
     "text": [
      "\n"
     ]
    },
    {
     "name": "stdout",
     "output_type": "stream",
     "text": [
      "\n",
      "      Epoch    GPU_mem   box_loss   cls_loss   dfl_loss  Instances       Size\n"
     ]
    },
    {
     "name": "stderr",
     "output_type": "stream",
     "text": [
      "      34/40         0G      1.095     0.8721      1.001          2        416: 100%|██████████| 45/45 [00:21<00:00,  2.14it/s]\n",
      "                 Class     Images  Instances      Box(P          R      mAP50  mAP50-95): 100%|██████████| 8/8 [00:02<00:00,  2.92it/s]"
     ]
    },
    {
     "name": "stdout",
     "output_type": "stream",
     "text": [
      "                   all         59         90      0.914      0.667      0.806      0.521\n"
     ]
    },
    {
     "name": "stderr",
     "output_type": "stream",
     "text": [
      "\n"
     ]
    },
    {
     "name": "stdout",
     "output_type": "stream",
     "text": [
      "\n",
      "      Epoch    GPU_mem   box_loss   cls_loss   dfl_loss  Instances       Size\n"
     ]
    },
    {
     "name": "stderr",
     "output_type": "stream",
     "text": [
      "      35/40         0G      1.066       0.88      0.984          2        416: 100%|██████████| 45/45 [00:21<00:00,  2.09it/s]\n",
      "                 Class     Images  Instances      Box(P          R      mAP50  mAP50-95): 100%|██████████| 8/8 [00:02<00:00,  2.86it/s]"
     ]
    },
    {
     "name": "stdout",
     "output_type": "stream",
     "text": [
      "                   all         59         90      0.855      0.711       0.81      0.526\n"
     ]
    },
    {
     "name": "stderr",
     "output_type": "stream",
     "text": [
      "\n"
     ]
    },
    {
     "name": "stdout",
     "output_type": "stream",
     "text": [
      "\n",
      "      Epoch    GPU_mem   box_loss   cls_loss   dfl_loss  Instances       Size\n"
     ]
    },
    {
     "name": "stderr",
     "output_type": "stream",
     "text": [
      "      36/40         0G      1.065     0.8565      1.031          2        416: 100%|██████████| 45/45 [00:21<00:00,  2.10it/s]\n",
      "                 Class     Images  Instances      Box(P          R      mAP50  mAP50-95): 100%|██████████| 8/8 [00:02<00:00,  2.88it/s]"
     ]
    },
    {
     "name": "stdout",
     "output_type": "stream",
     "text": [
      "                   all         59         90        0.9      0.722      0.822      0.514\n"
     ]
    },
    {
     "name": "stderr",
     "output_type": "stream",
     "text": [
      "\n"
     ]
    },
    {
     "name": "stdout",
     "output_type": "stream",
     "text": [
      "\n",
      "      Epoch    GPU_mem   box_loss   cls_loss   dfl_loss  Instances       Size\n"
     ]
    },
    {
     "name": "stderr",
     "output_type": "stream",
     "text": [
      "      37/40         0G      1.048     0.8514     0.9808          3        416: 100%|██████████| 45/45 [00:21<00:00,  2.12it/s]\n",
      "                 Class     Images  Instances      Box(P          R      mAP50  mAP50-95): 100%|██████████| 8/8 [00:02<00:00,  2.88it/s]"
     ]
    },
    {
     "name": "stdout",
     "output_type": "stream",
     "text": [
      "                   all         59         90      0.861      0.744      0.823      0.517\n"
     ]
    },
    {
     "name": "stderr",
     "output_type": "stream",
     "text": [
      "\n"
     ]
    },
    {
     "name": "stdout",
     "output_type": "stream",
     "text": [
      "\n",
      "      Epoch    GPU_mem   box_loss   cls_loss   dfl_loss  Instances       Size\n"
     ]
    },
    {
     "name": "stderr",
     "output_type": "stream",
     "text": [
      "      38/40         0G      1.051       0.83     0.9936          3        416: 100%|██████████| 45/45 [00:21<00:00,  2.10it/s]\n",
      "                 Class     Images  Instances      Box(P          R      mAP50  mAP50-95): 100%|██████████| 8/8 [00:02<00:00,  2.91it/s]"
     ]
    },
    {
     "name": "stdout",
     "output_type": "stream",
     "text": [
      "                   all         59         90      0.906      0.733      0.824      0.541\n"
     ]
    },
    {
     "name": "stderr",
     "output_type": "stream",
     "text": [
      "\n"
     ]
    },
    {
     "name": "stdout",
     "output_type": "stream",
     "text": [
      "\n",
      "      Epoch    GPU_mem   box_loss   cls_loss   dfl_loss  Instances       Size\n"
     ]
    },
    {
     "name": "stderr",
     "output_type": "stream",
     "text": [
      "      39/40         0G       1.05     0.8412     0.9801          5        416: 100%|██████████| 45/45 [00:21<00:00,  2.05it/s]\n",
      "                 Class     Images  Instances      Box(P          R      mAP50  mAP50-95): 100%|██████████| 8/8 [00:02<00:00,  2.69it/s]"
     ]
    },
    {
     "name": "stdout",
     "output_type": "stream",
     "text": [
      "                   all         59         90       0.91      0.744      0.829      0.543\n"
     ]
    },
    {
     "name": "stderr",
     "output_type": "stream",
     "text": [
      "\n"
     ]
    },
    {
     "name": "stdout",
     "output_type": "stream",
     "text": [
      "\n",
      "      Epoch    GPU_mem   box_loss   cls_loss   dfl_loss  Instances       Size\n"
     ]
    },
    {
     "name": "stderr",
     "output_type": "stream",
     "text": [
      "      40/40         0G      1.014     0.7961     0.9561          3        416: 100%|██████████| 45/45 [00:24<00:00,  1.82it/s]\n",
      "                 Class     Images  Instances      Box(P          R      mAP50  mAP50-95): 100%|██████████| 8/8 [00:02<00:00,  2.83it/s]"
     ]
    },
    {
     "name": "stdout",
     "output_type": "stream",
     "text": [
      "                   all         59         90      0.899      0.744      0.816      0.539\n"
     ]
    },
    {
     "name": "stderr",
     "output_type": "stream",
     "text": [
      "\n"
     ]
    },
    {
     "name": "stdout",
     "output_type": "stream",
     "text": [
      "\n",
      "40 epochs completed in 0.281 hours.\n",
      "Optimizer stripped from runs\\detect\\train2\\weights\\last.pt, 5.4MB\n",
      "Optimizer stripped from runs\\detect\\train2\\weights\\best.pt, 5.4MB\n",
      "\n",
      "Validating runs\\detect\\train2\\weights\\best.pt...\n",
      "Ultralytics 8.3.14  Python-3.9.20 torch-2.4.1+cpu CPU (Intel Core(TM) i5-10300H 2.50GHz)\n",
      "YOLO11n summary (fused): 238 layers, 2,582,347 parameters, 0 gradients, 6.3 GFLOPs\n"
     ]
    },
    {
     "name": "stderr",
     "output_type": "stream",
     "text": [
      "                 Class     Images  Instances      Box(P          R      mAP50  mAP50-95): 100%|██████████| 8/8 [00:02<00:00,  3.00it/s]\n"
     ]
    },
    {
     "name": "stdout",
     "output_type": "stream",
     "text": [
      "                   all         59         90       0.91      0.744      0.829      0.543\n",
      "Speed: 0.7ms preprocess, 33.8ms inference, 0.0ms loss, 0.7ms postprocess per image\n",
      "Results saved to \u001b[1mruns\\detect\\train2\u001b[0m\n",
      "Ultralytics 8.3.14  Python-3.9.20 torch-2.4.1+cpu CPU (Intel Core(TM) i5-10300H 2.50GHz)\n",
      "YOLO11n summary (fused): 238 layers, 2,582,347 parameters, 0 gradients, 6.3 GFLOPs\n"
     ]
    },
    {
     "name": "stderr",
     "output_type": "stream",
     "text": [
      "\u001b[34m\u001b[1mval: \u001b[0mScanning C:\\Users\\santu\\OneDrive\\Escritorio\\Documentos ULPGC\\VC\\P4\\VC-P4\\datasets\\valid\\labels.cache... 59 images, 0 backgrounds, 0 corrupt: 100%|██████████| 59/59 [00:00<?, ?it/s]\n",
      "                 Class     Images  Instances      Box(P          R      mAP50  mAP50-95): 100%|██████████| 15/15 [00:02<00:00,  5.84it/s]\n"
     ]
    },
    {
     "name": "stdout",
     "output_type": "stream",
     "text": [
      "                   all         59         90       0.91      0.744      0.829      0.543\n",
      "Speed: 0.7ms preprocess, 33.3ms inference, 0.0ms loss, 0.7ms postprocess per image\n",
      "Results saved to \u001b[1mruns\\detect\\train22\u001b[0m\n"
     ]
    }
   ],
   "source": [
    "model_default = YOLO('yolo11n-seg.pt')\n",
    "model_car_plates = YOLO(\"yolo11n.pt\")\n",
    "\n",
    "# Train the model\n",
    "results = model_car_plates.train(data=\"datasets/data.yaml\", epochs=40, imgsz=416, batch=4, device=\"cpu\")\n",
    "\n",
    "results = model_car_plates.val()"
   ]
  },
  {
   "cell_type": "code",
   "execution_count": 7,
   "metadata": {},
   "outputs": [
    {
     "name": "stdout",
     "output_type": "stream",
     "text": [
      "\n",
      "\n",
      "WARNING  inference results will accumulate in RAM unless `stream=True` is passed, causing potential out-of-memory\n",
      "errors for large sources or long-running streams and videos. See https://docs.ultralytics.com/modes/predict/ for help.\n",
      "\n",
      "Example:\n",
      "    results = model(source=..., stream=True)  # generator of Results objects\n",
      "    for r in results:\n",
      "        boxes = r.boxes  # Boxes object for bbox outputs\n",
      "        masks = r.masks  # Masks object for segment masks outputs\n",
      "        probs = r.probs  # Class probabilities for classification outputs\n",
      "\n",
      "video 1/1 (frame 1/2832) c:\\Users\\santu\\OneDrive\\Escritorio\\Documentos ULPGC\\VC\\P4\\VC-P4\\C0142.MP4: 384x640 1 car, 1 bus, 53.0ms\n",
      "video 1/1 (frame 2/2832) c:\\Users\\santu\\OneDrive\\Escritorio\\Documentos ULPGC\\VC\\P4\\VC-P4\\C0142.MP4: 384x640 1 car, 1 bus, 53.0ms\n",
      "video 1/1 (frame 3/2832) c:\\Users\\santu\\OneDrive\\Escritorio\\Documentos ULPGC\\VC\\P4\\VC-P4\\C0142.MP4: 384x640 1 car, 1 bus, 51.0ms\n",
      "video 1/1 (frame 4/2832) c:\\Users\\santu\\OneDrive\\Escritorio\\Documentos ULPGC\\VC\\P4\\VC-P4\\C0142.MP4: 384x640 1 car, 1 bus, 54.0ms\n",
      "video 1/1 (frame 5/2832) c:\\Users\\santu\\OneDrive\\Escritorio\\Documentos ULPGC\\VC\\P4\\VC-P4\\C0142.MP4: 384x640 1 car, 1 bus, 58.0ms\n",
      "video 1/1 (frame 6/2832) c:\\Users\\santu\\OneDrive\\Escritorio\\Documentos ULPGC\\VC\\P4\\VC-P4\\C0142.MP4: 384x640 1 car, 1 bus, 52.0ms\n",
      "video 1/1 (frame 7/2832) c:\\Users\\santu\\OneDrive\\Escritorio\\Documentos ULPGC\\VC\\P4\\VC-P4\\C0142.MP4: 384x640 1 car, 1 bus, 52.0ms\n",
      "video 1/1 (frame 8/2832) c:\\Users\\santu\\OneDrive\\Escritorio\\Documentos ULPGC\\VC\\P4\\VC-P4\\C0142.MP4: 384x640 1 car, 1 bus, 55.0ms\n",
      "video 1/1 (frame 9/2832) c:\\Users\\santu\\OneDrive\\Escritorio\\Documentos ULPGC\\VC\\P4\\VC-P4\\C0142.MP4: 384x640 1 car, 1 bus, 54.0ms\n",
      "video 1/1 (frame 10/2832) c:\\Users\\santu\\OneDrive\\Escritorio\\Documentos ULPGC\\VC\\P4\\VC-P4\\C0142.MP4: 384x640 1 car, 1 bus, 59.0ms\n",
      "video 1/1 (frame 11/2832) c:\\Users\\santu\\OneDrive\\Escritorio\\Documentos ULPGC\\VC\\P4\\VC-P4\\C0142.MP4: 384x640 1 car, 1 bus, 53.0ms\n",
      "video 1/1 (frame 12/2832) c:\\Users\\santu\\OneDrive\\Escritorio\\Documentos ULPGC\\VC\\P4\\VC-P4\\C0142.MP4: 384x640 1 car, 1 bus, 53.0ms\n",
      "video 1/1 (frame 13/2832) c:\\Users\\santu\\OneDrive\\Escritorio\\Documentos ULPGC\\VC\\P4\\VC-P4\\C0142.MP4: 384x640 1 car, 1 bus, 53.0ms\n",
      "video 1/1 (frame 14/2832) c:\\Users\\santu\\OneDrive\\Escritorio\\Documentos ULPGC\\VC\\P4\\VC-P4\\C0142.MP4: 384x640 1 car, 1 bus, 51.0ms\n",
      "video 1/1 (frame 15/2832) c:\\Users\\santu\\OneDrive\\Escritorio\\Documentos ULPGC\\VC\\P4\\VC-P4\\C0142.MP4: 384x640 1 car, 1 bus, 52.0ms\n",
      "video 1/1 (frame 16/2832) c:\\Users\\santu\\OneDrive\\Escritorio\\Documentos ULPGC\\VC\\P4\\VC-P4\\C0142.MP4: 384x640 1 car, 1 bus, 52.0ms\n",
      "video 1/1 (frame 17/2832) c:\\Users\\santu\\OneDrive\\Escritorio\\Documentos ULPGC\\VC\\P4\\VC-P4\\C0142.MP4: 384x640 1 car, 1 bus, 60.0ms\n",
      "video 1/1 (frame 18/2832) c:\\Users\\santu\\OneDrive\\Escritorio\\Documentos ULPGC\\VC\\P4\\VC-P4\\C0142.MP4: 384x640 1 car, 1 bus, 55.0ms\n",
      "video 1/1 (frame 19/2832) c:\\Users\\santu\\OneDrive\\Escritorio\\Documentos ULPGC\\VC\\P4\\VC-P4\\C0142.MP4: 384x640 1 car, 1 bus, 58.0ms\n",
      "video 1/1 (frame 20/2832) c:\\Users\\santu\\OneDrive\\Escritorio\\Documentos ULPGC\\VC\\P4\\VC-P4\\C0142.MP4: 384x640 1 car, 1 bus, 60.0ms\n",
      "video 1/1 (frame 21/2832) c:\\Users\\santu\\OneDrive\\Escritorio\\Documentos ULPGC\\VC\\P4\\VC-P4\\C0142.MP4: 384x640 1 car, 1 bus, 54.0ms\n",
      "video 1/1 (frame 22/2832) c:\\Users\\santu\\OneDrive\\Escritorio\\Documentos ULPGC\\VC\\P4\\VC-P4\\C0142.MP4: 384x640 1 car, 1 bus, 55.0ms\n",
      "video 1/1 (frame 23/2832) c:\\Users\\santu\\OneDrive\\Escritorio\\Documentos ULPGC\\VC\\P4\\VC-P4\\C0142.MP4: 384x640 1 car, 1 bus, 53.0ms\n",
      "video 1/1 (frame 24/2832) c:\\Users\\santu\\OneDrive\\Escritorio\\Documentos ULPGC\\VC\\P4\\VC-P4\\C0142.MP4: 384x640 1 car, 1 bus, 55.0ms\n",
      "video 1/1 (frame 25/2832) c:\\Users\\santu\\OneDrive\\Escritorio\\Documentos ULPGC\\VC\\P4\\VC-P4\\C0142.MP4: 384x640 1 car, 1 bus, 54.0ms\n",
      "video 1/1 (frame 26/2832) c:\\Users\\santu\\OneDrive\\Escritorio\\Documentos ULPGC\\VC\\P4\\VC-P4\\C0142.MP4: 384x640 1 car, 1 bus, 53.0ms\n",
      "video 1/1 (frame 27/2832) c:\\Users\\santu\\OneDrive\\Escritorio\\Documentos ULPGC\\VC\\P4\\VC-P4\\C0142.MP4: 384x640 1 car, 1 bus, 54.0ms\n",
      "video 1/1 (frame 28/2832) c:\\Users\\santu\\OneDrive\\Escritorio\\Documentos ULPGC\\VC\\P4\\VC-P4\\C0142.MP4: 384x640 1 car, 1 bus, 55.0ms\n",
      "video 1/1 (frame 29/2832) c:\\Users\\santu\\OneDrive\\Escritorio\\Documentos ULPGC\\VC\\P4\\VC-P4\\C0142.MP4: 384x640 1 car, 1 bus, 57.0ms\n",
      "video 1/1 (frame 30/2832) c:\\Users\\santu\\OneDrive\\Escritorio\\Documentos ULPGC\\VC\\P4\\VC-P4\\C0142.MP4: 384x640 1 car, 1 bus, 54.0ms\n",
      "video 1/1 (frame 31/2832) c:\\Users\\santu\\OneDrive\\Escritorio\\Documentos ULPGC\\VC\\P4\\VC-P4\\C0142.MP4: 384x640 1 car, 1 bus, 52.0ms\n",
      "video 1/1 (frame 32/2832) c:\\Users\\santu\\OneDrive\\Escritorio\\Documentos ULPGC\\VC\\P4\\VC-P4\\C0142.MP4: 384x640 1 car, 1 bus, 54.0ms\n",
      "video 1/1 (frame 33/2832) c:\\Users\\santu\\OneDrive\\Escritorio\\Documentos ULPGC\\VC\\P4\\VC-P4\\C0142.MP4: 384x640 1 car, 1 bus, 52.0ms\n",
      "video 1/1 (frame 34/2832) c:\\Users\\santu\\OneDrive\\Escritorio\\Documentos ULPGC\\VC\\P4\\VC-P4\\C0142.MP4: 384x640 1 car, 1 bus, 51.0ms\n",
      "video 1/1 (frame 35/2832) c:\\Users\\santu\\OneDrive\\Escritorio\\Documentos ULPGC\\VC\\P4\\VC-P4\\C0142.MP4: 384x640 1 car, 1 bus, 51.0ms\n",
      "video 1/1 (frame 36/2832) c:\\Users\\santu\\OneDrive\\Escritorio\\Documentos ULPGC\\VC\\P4\\VC-P4\\C0142.MP4: 384x640 1 car, 1 bus, 52.0ms\n",
      "video 1/1 (frame 37/2832) c:\\Users\\santu\\OneDrive\\Escritorio\\Documentos ULPGC\\VC\\P4\\VC-P4\\C0142.MP4: 384x640 1 car, 1 bus, 52.0ms\n",
      "video 1/1 (frame 38/2832) c:\\Users\\santu\\OneDrive\\Escritorio\\Documentos ULPGC\\VC\\P4\\VC-P4\\C0142.MP4: 384x640 1 car, 1 bus, 54.0ms\n",
      "video 1/1 (frame 39/2832) c:\\Users\\santu\\OneDrive\\Escritorio\\Documentos ULPGC\\VC\\P4\\VC-P4\\C0142.MP4: 384x640 1 car, 1 bus, 54.0ms\n",
      "video 1/1 (frame 40/2832) c:\\Users\\santu\\OneDrive\\Escritorio\\Documentos ULPGC\\VC\\P4\\VC-P4\\C0142.MP4: 384x640 1 car, 1 bus, 58.0ms\n",
      "video 1/1 (frame 41/2832) c:\\Users\\santu\\OneDrive\\Escritorio\\Documentos ULPGC\\VC\\P4\\VC-P4\\C0142.MP4: 384x640 1 car, 1 bus, 58.0ms\n",
      "video 1/1 (frame 42/2832) c:\\Users\\santu\\OneDrive\\Escritorio\\Documentos ULPGC\\VC\\P4\\VC-P4\\C0142.MP4: 384x640 1 car, 1 bus, 52.0ms\n",
      "video 1/1 (frame 43/2832) c:\\Users\\santu\\OneDrive\\Escritorio\\Documentos ULPGC\\VC\\P4\\VC-P4\\C0142.MP4: 384x640 1 car, 1 bus, 53.0ms\n",
      "video 1/1 (frame 44/2832) c:\\Users\\santu\\OneDrive\\Escritorio\\Documentos ULPGC\\VC\\P4\\VC-P4\\C0142.MP4: 384x640 1 car, 1 bus, 54.0ms\n",
      "video 1/1 (frame 45/2832) c:\\Users\\santu\\OneDrive\\Escritorio\\Documentos ULPGC\\VC\\P4\\VC-P4\\C0142.MP4: 384x640 1 car, 1 bus, 58.0ms\n",
      "video 1/1 (frame 46/2832) c:\\Users\\santu\\OneDrive\\Escritorio\\Documentos ULPGC\\VC\\P4\\VC-P4\\C0142.MP4: 384x640 1 car, 1 bus, 52.5ms\n",
      "video 1/1 (frame 47/2832) c:\\Users\\santu\\OneDrive\\Escritorio\\Documentos ULPGC\\VC\\P4\\VC-P4\\C0142.MP4: 384x640 1 car, 1 bus, 54.0ms\n",
      "video 1/1 (frame 48/2832) c:\\Users\\santu\\OneDrive\\Escritorio\\Documentos ULPGC\\VC\\P4\\VC-P4\\C0142.MP4: 384x640 1 car, 1 bus, 54.0ms\n",
      "video 1/1 (frame 49/2832) c:\\Users\\santu\\OneDrive\\Escritorio\\Documentos ULPGC\\VC\\P4\\VC-P4\\C0142.MP4: 384x640 1 car, 1 bus, 54.0ms\n",
      "video 1/1 (frame 50/2832) c:\\Users\\santu\\OneDrive\\Escritorio\\Documentos ULPGC\\VC\\P4\\VC-P4\\C0142.MP4: 384x640 1 car, 1 bus, 53.0ms\n",
      "video 1/1 (frame 51/2832) c:\\Users\\santu\\OneDrive\\Escritorio\\Documentos ULPGC\\VC\\P4\\VC-P4\\C0142.MP4: 384x640 1 car, 1 bus, 54.0ms\n",
      "video 1/1 (frame 52/2832) c:\\Users\\santu\\OneDrive\\Escritorio\\Documentos ULPGC\\VC\\P4\\VC-P4\\C0142.MP4: 384x640 1 car, 1 bus, 80.0ms\n",
      "video 1/1 (frame 53/2832) c:\\Users\\santu\\OneDrive\\Escritorio\\Documentos ULPGC\\VC\\P4\\VC-P4\\C0142.MP4: 384x640 1 car, 1 bus, 59.0ms\n",
      "video 1/1 (frame 54/2832) c:\\Users\\santu\\OneDrive\\Escritorio\\Documentos ULPGC\\VC\\P4\\VC-P4\\C0142.MP4: 384x640 1 car, 1 bus, 54.0ms\n",
      "video 1/1 (frame 55/2832) c:\\Users\\santu\\OneDrive\\Escritorio\\Documentos ULPGC\\VC\\P4\\VC-P4\\C0142.MP4: 384x640 1 car, 1 bus, 56.0ms\n",
      "video 1/1 (frame 56/2832) c:\\Users\\santu\\OneDrive\\Escritorio\\Documentos ULPGC\\VC\\P4\\VC-P4\\C0142.MP4: 384x640 1 car, 1 bus, 51.0ms\n",
      "video 1/1 (frame 57/2832) c:\\Users\\santu\\OneDrive\\Escritorio\\Documentos ULPGC\\VC\\P4\\VC-P4\\C0142.MP4: 384x640 1 car, 1 bus, 54.0ms\n",
      "video 1/1 (frame 58/2832) c:\\Users\\santu\\OneDrive\\Escritorio\\Documentos ULPGC\\VC\\P4\\VC-P4\\C0142.MP4: 384x640 1 car, 1 bus, 51.0ms\n",
      "video 1/1 (frame 59/2832) c:\\Users\\santu\\OneDrive\\Escritorio\\Documentos ULPGC\\VC\\P4\\VC-P4\\C0142.MP4: 384x640 1 car, 1 bus, 55.0ms\n",
      "video 1/1 (frame 60/2832) c:\\Users\\santu\\OneDrive\\Escritorio\\Documentos ULPGC\\VC\\P4\\VC-P4\\C0142.MP4: 384x640 1 car, 1 bus, 54.0ms\n",
      "video 1/1 (frame 61/2832) c:\\Users\\santu\\OneDrive\\Escritorio\\Documentos ULPGC\\VC\\P4\\VC-P4\\C0142.MP4: 384x640 1 car, 1 bus, 51.0ms\n",
      "video 1/1 (frame 62/2832) c:\\Users\\santu\\OneDrive\\Escritorio\\Documentos ULPGC\\VC\\P4\\VC-P4\\C0142.MP4: 384x640 1 car, 1 bus, 52.0ms\n",
      "video 1/1 (frame 63/2832) c:\\Users\\santu\\OneDrive\\Escritorio\\Documentos ULPGC\\VC\\P4\\VC-P4\\C0142.MP4: 384x640 1 car, 1 bus, 54.0ms\n"
     ]
    },
    {
     "ename": "KeyboardInterrupt",
     "evalue": "",
     "output_type": "error",
     "traceback": [
      "\u001b[1;31m---------------------------------------------------------------------------\u001b[0m",
      "\u001b[1;31mKeyboardInterrupt\u001b[0m                         Traceback (most recent call last)",
      "Cell \u001b[1;32mIn[7], line 9\u001b[0m\n\u001b[0;32m      7\u001b[0m \u001b[38;5;66;03m#Para un vídeo \u001b[39;00m\n\u001b[0;32m      8\u001b[0m filename \u001b[38;5;241m=\u001b[39m \u001b[38;5;124m\"\u001b[39m\u001b[38;5;124mC0142.MP4\u001b[39m\u001b[38;5;124m\"\u001b[39m\n\u001b[1;32m----> 9\u001b[0m results \u001b[38;5;241m=\u001b[39m \u001b[43mresult_default\u001b[49m\u001b[38;5;241;43m.\u001b[39;49m\u001b[43mtrack\u001b[49m\u001b[43m(\u001b[49m\u001b[43mfilename\u001b[49m\u001b[43m,\u001b[49m\u001b[43m \u001b[49m\u001b[43mshow\u001b[49m\u001b[38;5;241;43m=\u001b[39;49m\u001b[38;5;28;43;01mFalse\u001b[39;49;00m\u001b[43m)\u001b[49m\n\u001b[0;32m     11\u001b[0m cv2\u001b[38;5;241m.\u001b[39mdestroyAllWindows()\n",
      "File \u001b[1;32mc:\\Users\\santu\\anaconda3\\envs\\P4_VC\\lib\\site-packages\\ultralytics\\engine\\model.py:601\u001b[0m, in \u001b[0;36mModel.track\u001b[1;34m(self, source, stream, persist, **kwargs)\u001b[0m\n\u001b[0;32m    599\u001b[0m kwargs[\u001b[38;5;124m\"\u001b[39m\u001b[38;5;124mbatch\u001b[39m\u001b[38;5;124m\"\u001b[39m] \u001b[38;5;241m=\u001b[39m kwargs\u001b[38;5;241m.\u001b[39mget(\u001b[38;5;124m\"\u001b[39m\u001b[38;5;124mbatch\u001b[39m\u001b[38;5;124m\"\u001b[39m) \u001b[38;5;129;01mor\u001b[39;00m \u001b[38;5;241m1\u001b[39m  \u001b[38;5;66;03m# batch-size 1 for tracking in videos\u001b[39;00m\n\u001b[0;32m    600\u001b[0m kwargs[\u001b[38;5;124m\"\u001b[39m\u001b[38;5;124mmode\u001b[39m\u001b[38;5;124m\"\u001b[39m] \u001b[38;5;241m=\u001b[39m \u001b[38;5;124m\"\u001b[39m\u001b[38;5;124mtrack\u001b[39m\u001b[38;5;124m\"\u001b[39m\n\u001b[1;32m--> 601\u001b[0m \u001b[38;5;28;01mreturn\u001b[39;00m \u001b[38;5;28mself\u001b[39m\u001b[38;5;241m.\u001b[39mpredict(source\u001b[38;5;241m=\u001b[39msource, stream\u001b[38;5;241m=\u001b[39mstream, \u001b[38;5;241m*\u001b[39m\u001b[38;5;241m*\u001b[39mkwargs)\n",
      "File \u001b[1;32mc:\\Users\\santu\\anaconda3\\envs\\P4_VC\\lib\\site-packages\\ultralytics\\engine\\model.py:554\u001b[0m, in \u001b[0;36mModel.predict\u001b[1;34m(self, source, stream, predictor, **kwargs)\u001b[0m\n\u001b[0;32m    552\u001b[0m \u001b[38;5;28;01mif\u001b[39;00m prompts \u001b[38;5;129;01mand\u001b[39;00m \u001b[38;5;28mhasattr\u001b[39m(\u001b[38;5;28mself\u001b[39m\u001b[38;5;241m.\u001b[39mpredictor, \u001b[38;5;124m\"\u001b[39m\u001b[38;5;124mset_prompts\u001b[39m\u001b[38;5;124m\"\u001b[39m):  \u001b[38;5;66;03m# for SAM-type models\u001b[39;00m\n\u001b[0;32m    553\u001b[0m     \u001b[38;5;28mself\u001b[39m\u001b[38;5;241m.\u001b[39mpredictor\u001b[38;5;241m.\u001b[39mset_prompts(prompts)\n\u001b[1;32m--> 554\u001b[0m \u001b[38;5;28;01mreturn\u001b[39;00m \u001b[38;5;28mself\u001b[39m\u001b[38;5;241m.\u001b[39mpredictor\u001b[38;5;241m.\u001b[39mpredict_cli(source\u001b[38;5;241m=\u001b[39msource) \u001b[38;5;28;01mif\u001b[39;00m is_cli \u001b[38;5;28;01melse\u001b[39;00m \u001b[38;5;28;43mself\u001b[39;49m\u001b[38;5;241;43m.\u001b[39;49m\u001b[43mpredictor\u001b[49m\u001b[43m(\u001b[49m\u001b[43msource\u001b[49m\u001b[38;5;241;43m=\u001b[39;49m\u001b[43msource\u001b[49m\u001b[43m,\u001b[49m\u001b[43m \u001b[49m\u001b[43mstream\u001b[49m\u001b[38;5;241;43m=\u001b[39;49m\u001b[43mstream\u001b[49m\u001b[43m)\u001b[49m\n",
      "File \u001b[1;32mc:\\Users\\santu\\anaconda3\\envs\\P4_VC\\lib\\site-packages\\ultralytics\\engine\\predictor.py:168\u001b[0m, in \u001b[0;36mBasePredictor.__call__\u001b[1;34m(self, source, model, stream, *args, **kwargs)\u001b[0m\n\u001b[0;32m    166\u001b[0m     \u001b[38;5;28;01mreturn\u001b[39;00m \u001b[38;5;28mself\u001b[39m\u001b[38;5;241m.\u001b[39mstream_inference(source, model, \u001b[38;5;241m*\u001b[39margs, \u001b[38;5;241m*\u001b[39m\u001b[38;5;241m*\u001b[39mkwargs)\n\u001b[0;32m    167\u001b[0m \u001b[38;5;28;01melse\u001b[39;00m:\n\u001b[1;32m--> 168\u001b[0m     \u001b[38;5;28;01mreturn\u001b[39;00m \u001b[38;5;28;43mlist\u001b[39;49m\u001b[43m(\u001b[49m\u001b[38;5;28;43mself\u001b[39;49m\u001b[38;5;241;43m.\u001b[39;49m\u001b[43mstream_inference\u001b[49m\u001b[43m(\u001b[49m\u001b[43msource\u001b[49m\u001b[43m,\u001b[49m\u001b[43m \u001b[49m\u001b[43mmodel\u001b[49m\u001b[43m,\u001b[49m\u001b[43m \u001b[49m\u001b[38;5;241;43m*\u001b[39;49m\u001b[43margs\u001b[49m\u001b[43m,\u001b[49m\u001b[43m \u001b[49m\u001b[38;5;241;43m*\u001b[39;49m\u001b[38;5;241;43m*\u001b[39;49m\u001b[43mkwargs\u001b[49m\u001b[43m)\u001b[49m\u001b[43m)\u001b[49m\n",
      "File \u001b[1;32mc:\\Users\\santu\\anaconda3\\envs\\P4_VC\\lib\\site-packages\\torch\\utils\\_contextlib.py:57\u001b[0m, in \u001b[0;36m_wrap_generator.<locals>.generator_context\u001b[1;34m(*args, **kwargs)\u001b[0m\n\u001b[0;32m     54\u001b[0m         \u001b[38;5;28;01melse\u001b[39;00m:\n\u001b[0;32m     55\u001b[0m             \u001b[38;5;66;03m# Pass the last request to the generator and get its response\u001b[39;00m\n\u001b[0;32m     56\u001b[0m             \u001b[38;5;28;01mwith\u001b[39;00m ctx_factory():\n\u001b[1;32m---> 57\u001b[0m                 response \u001b[38;5;241m=\u001b[39m \u001b[43mgen\u001b[49m\u001b[38;5;241;43m.\u001b[39;49m\u001b[43msend\u001b[49m\u001b[43m(\u001b[49m\u001b[43mrequest\u001b[49m\u001b[43m)\u001b[49m\n\u001b[0;32m     59\u001b[0m \u001b[38;5;66;03m# We let the exceptions raised above by the generator's `.throw` or\u001b[39;00m\n\u001b[0;32m     60\u001b[0m \u001b[38;5;66;03m# `.send` methods bubble up to our caller, except for StopIteration\u001b[39;00m\n\u001b[0;32m     61\u001b[0m \u001b[38;5;28;01mexcept\u001b[39;00m \u001b[38;5;167;01mStopIteration\u001b[39;00m \u001b[38;5;28;01mas\u001b[39;00m e:\n\u001b[0;32m     62\u001b[0m     \u001b[38;5;66;03m# The generator informed us that it is done: take whatever its\u001b[39;00m\n\u001b[0;32m     63\u001b[0m     \u001b[38;5;66;03m# returned value (if any) was and indicate that we're done too\u001b[39;00m\n\u001b[0;32m     64\u001b[0m     \u001b[38;5;66;03m# by returning it (see docs for python's return-statement).\u001b[39;00m\n",
      "File \u001b[1;32mc:\\Users\\santu\\anaconda3\\envs\\P4_VC\\lib\\site-packages\\ultralytics\\engine\\predictor.py:244\u001b[0m, in \u001b[0;36mBasePredictor.stream_inference\u001b[1;34m(self, source, model, *args, **kwargs)\u001b[0m\n\u001b[0;32m    238\u001b[0m profilers \u001b[38;5;241m=\u001b[39m (\n\u001b[0;32m    239\u001b[0m     ops\u001b[38;5;241m.\u001b[39mProfile(device\u001b[38;5;241m=\u001b[39m\u001b[38;5;28mself\u001b[39m\u001b[38;5;241m.\u001b[39mdevice),\n\u001b[0;32m    240\u001b[0m     ops\u001b[38;5;241m.\u001b[39mProfile(device\u001b[38;5;241m=\u001b[39m\u001b[38;5;28mself\u001b[39m\u001b[38;5;241m.\u001b[39mdevice),\n\u001b[0;32m    241\u001b[0m     ops\u001b[38;5;241m.\u001b[39mProfile(device\u001b[38;5;241m=\u001b[39m\u001b[38;5;28mself\u001b[39m\u001b[38;5;241m.\u001b[39mdevice),\n\u001b[0;32m    242\u001b[0m )\n\u001b[0;32m    243\u001b[0m \u001b[38;5;28mself\u001b[39m\u001b[38;5;241m.\u001b[39mrun_callbacks(\u001b[38;5;124m\"\u001b[39m\u001b[38;5;124mon_predict_start\u001b[39m\u001b[38;5;124m\"\u001b[39m)\n\u001b[1;32m--> 244\u001b[0m \u001b[38;5;28;01mfor\u001b[39;00m \u001b[38;5;28mself\u001b[39m\u001b[38;5;241m.\u001b[39mbatch \u001b[38;5;129;01min\u001b[39;00m \u001b[38;5;28mself\u001b[39m\u001b[38;5;241m.\u001b[39mdataset:\n\u001b[0;32m    245\u001b[0m     \u001b[38;5;28mself\u001b[39m\u001b[38;5;241m.\u001b[39mrun_callbacks(\u001b[38;5;124m\"\u001b[39m\u001b[38;5;124mon_predict_batch_start\u001b[39m\u001b[38;5;124m\"\u001b[39m)\n\u001b[0;32m    246\u001b[0m     paths, im0s, s \u001b[38;5;241m=\u001b[39m \u001b[38;5;28mself\u001b[39m\u001b[38;5;241m.\u001b[39mbatch\n",
      "File \u001b[1;32mc:\\Users\\santu\\anaconda3\\envs\\P4_VC\\lib\\site-packages\\ultralytics\\data\\loaders.py:395\u001b[0m, in \u001b[0;36mLoadImagesAndVideos.__next__\u001b[1;34m(self)\u001b[0m\n\u001b[0;32m    392\u001b[0m         \u001b[38;5;28;01mbreak\u001b[39;00m  \u001b[38;5;66;03m# end of video or failure\u001b[39;00m\n\u001b[0;32m    394\u001b[0m \u001b[38;5;28;01mif\u001b[39;00m success:\n\u001b[1;32m--> 395\u001b[0m     success, im0 \u001b[38;5;241m=\u001b[39m \u001b[38;5;28;43mself\u001b[39;49m\u001b[38;5;241;43m.\u001b[39;49m\u001b[43mcap\u001b[49m\u001b[38;5;241;43m.\u001b[39;49m\u001b[43mretrieve\u001b[49m\u001b[43m(\u001b[49m\u001b[43m)\u001b[49m\n\u001b[0;32m    396\u001b[0m     \u001b[38;5;28;01mif\u001b[39;00m success:\n\u001b[0;32m    397\u001b[0m         \u001b[38;5;28mself\u001b[39m\u001b[38;5;241m.\u001b[39mframe \u001b[38;5;241m+\u001b[39m\u001b[38;5;241m=\u001b[39m \u001b[38;5;241m1\u001b[39m\n",
      "\u001b[1;31mKeyboardInterrupt\u001b[0m: "
     ]
    }
   ],
   "source": [
    "# Carga del modelo\n",
    "result_default = YOLO('yolo11n.pt')\n",
    "result_car_plates = YOLO('runs/detect/train2/weights/best.pt')\n",
    "\n",
    "\n",
    "\n",
    "#Para un vídeo \n",
    "filename = \"C0142.MP4\"\n",
    "results = result_default.track(filename, show=False)\n",
    "\n",
    "cv2.destroyAllWindows()"
   ]
  },
  {
   "cell_type": "markdown",
   "metadata": {},
   "source": [
    "Modelos preentrenados, visualizando con las utilidades de ultralytics"
   ]
  },
  {
   "cell_type": "code",
   "execution_count": 2,
   "metadata": {},
   "outputs": [
    {
     "name": "stdout",
     "output_type": "stream",
     "text": [
      "\n",
      "\n",
      "WARNING  inference results will accumulate in RAM unless `stream=True` is passed, causing potential out-of-memory\n",
      "errors for large sources or long-running streams and videos. See https://docs.ultralytics.com/modes/predict/ for help.\n",
      "\n",
      "Example:\n",
      "    results = model(source=..., stream=True)  # generator of Results objects\n",
      "    for r in results:\n",
      "        boxes = r.boxes  # Boxes object for bbox outputs\n",
      "        masks = r.masks  # Masks object for segment masks outputs\n",
      "        probs = r.probs  # Class probabilities for classification outputs\n",
      "\n",
      "video 1/1 (frame 1/375) c:\\Users\\santu\\OneDrive\\Escritorio\\Documentos ULPGC\\VC\\P4\\VC-P4\\TGC23_PdH_C0056cut.mp4: 384x640 3 persons, 157.0ms\n",
      "video 1/1 (frame 2/375) c:\\Users\\santu\\OneDrive\\Escritorio\\Documentos ULPGC\\VC\\P4\\VC-P4\\TGC23_PdH_C0056cut.mp4: 384x640 3 persons, 126.9ms\n",
      "video 1/1 (frame 3/375) c:\\Users\\santu\\OneDrive\\Escritorio\\Documentos ULPGC\\VC\\P4\\VC-P4\\TGC23_PdH_C0056cut.mp4: 384x640 3 persons, 123.0ms\n",
      "video 1/1 (frame 4/375) c:\\Users\\santu\\OneDrive\\Escritorio\\Documentos ULPGC\\VC\\P4\\VC-P4\\TGC23_PdH_C0056cut.mp4: 384x640 4 persons, 114.0ms\n",
      "video 1/1 (frame 5/375) c:\\Users\\santu\\OneDrive\\Escritorio\\Documentos ULPGC\\VC\\P4\\VC-P4\\TGC23_PdH_C0056cut.mp4: 384x640 4 persons, 117.0ms\n",
      "video 1/1 (frame 6/375) c:\\Users\\santu\\OneDrive\\Escritorio\\Documentos ULPGC\\VC\\P4\\VC-P4\\TGC23_PdH_C0056cut.mp4: 384x640 4 persons, 118.0ms\n",
      "video 1/1 (frame 7/375) c:\\Users\\santu\\OneDrive\\Escritorio\\Documentos ULPGC\\VC\\P4\\VC-P4\\TGC23_PdH_C0056cut.mp4: 384x640 4 persons, 158.2ms\n",
      "video 1/1 (frame 8/375) c:\\Users\\santu\\OneDrive\\Escritorio\\Documentos ULPGC\\VC\\P4\\VC-P4\\TGC23_PdH_C0056cut.mp4: 384x640 3 persons, 120.0ms\n",
      "video 1/1 (frame 9/375) c:\\Users\\santu\\OneDrive\\Escritorio\\Documentos ULPGC\\VC\\P4\\VC-P4\\TGC23_PdH_C0056cut.mp4: 384x640 3 persons, 118.7ms\n",
      "video 1/1 (frame 10/375) c:\\Users\\santu\\OneDrive\\Escritorio\\Documentos ULPGC\\VC\\P4\\VC-P4\\TGC23_PdH_C0056cut.mp4: 384x640 3 persons, 117.7ms\n",
      "video 1/1 (frame 11/375) c:\\Users\\santu\\OneDrive\\Escritorio\\Documentos ULPGC\\VC\\P4\\VC-P4\\TGC23_PdH_C0056cut.mp4: 384x640 3 persons, 115.0ms\n",
      "video 1/1 (frame 12/375) c:\\Users\\santu\\OneDrive\\Escritorio\\Documentos ULPGC\\VC\\P4\\VC-P4\\TGC23_PdH_C0056cut.mp4: 384x640 3 persons, 132.4ms\n",
      "video 1/1 (frame 13/375) c:\\Users\\santu\\OneDrive\\Escritorio\\Documentos ULPGC\\VC\\P4\\VC-P4\\TGC23_PdH_C0056cut.mp4: 384x640 4 persons, 172.4ms\n",
      "video 1/1 (frame 14/375) c:\\Users\\santu\\OneDrive\\Escritorio\\Documentos ULPGC\\VC\\P4\\VC-P4\\TGC23_PdH_C0056cut.mp4: 384x640 4 persons, 161.3ms\n",
      "video 1/1 (frame 15/375) c:\\Users\\santu\\OneDrive\\Escritorio\\Documentos ULPGC\\VC\\P4\\VC-P4\\TGC23_PdH_C0056cut.mp4: 384x640 4 persons, 161.0ms\n",
      "video 1/1 (frame 16/375) c:\\Users\\santu\\OneDrive\\Escritorio\\Documentos ULPGC\\VC\\P4\\VC-P4\\TGC23_PdH_C0056cut.mp4: 384x640 4 persons, 164.0ms\n",
      "video 1/1 (frame 17/375) c:\\Users\\santu\\OneDrive\\Escritorio\\Documentos ULPGC\\VC\\P4\\VC-P4\\TGC23_PdH_C0056cut.mp4: 384x640 4 persons, 158.0ms\n",
      "video 1/1 (frame 18/375) c:\\Users\\santu\\OneDrive\\Escritorio\\Documentos ULPGC\\VC\\P4\\VC-P4\\TGC23_PdH_C0056cut.mp4: 384x640 4 persons, 164.0ms\n",
      "video 1/1 (frame 19/375) c:\\Users\\santu\\OneDrive\\Escritorio\\Documentos ULPGC\\VC\\P4\\VC-P4\\TGC23_PdH_C0056cut.mp4: 384x640 4 persons, 183.0ms\n",
      "video 1/1 (frame 20/375) c:\\Users\\santu\\OneDrive\\Escritorio\\Documentos ULPGC\\VC\\P4\\VC-P4\\TGC23_PdH_C0056cut.mp4: 384x640 4 persons, 176.0ms\n",
      "video 1/1 (frame 21/375) c:\\Users\\santu\\OneDrive\\Escritorio\\Documentos ULPGC\\VC\\P4\\VC-P4\\TGC23_PdH_C0056cut.mp4: 384x640 4 persons, 163.0ms\n",
      "video 1/1 (frame 22/375) c:\\Users\\santu\\OneDrive\\Escritorio\\Documentos ULPGC\\VC\\P4\\VC-P4\\TGC23_PdH_C0056cut.mp4: 384x640 4 persons, 166.0ms\n",
      "video 1/1 (frame 23/375) c:\\Users\\santu\\OneDrive\\Escritorio\\Documentos ULPGC\\VC\\P4\\VC-P4\\TGC23_PdH_C0056cut.mp4: 384x640 4 persons, 224.7ms\n",
      "video 1/1 (frame 24/375) c:\\Users\\santu\\OneDrive\\Escritorio\\Documentos ULPGC\\VC\\P4\\VC-P4\\TGC23_PdH_C0056cut.mp4: 384x640 4 persons, 192.0ms\n",
      "video 1/1 (frame 25/375) c:\\Users\\santu\\OneDrive\\Escritorio\\Documentos ULPGC\\VC\\P4\\VC-P4\\TGC23_PdH_C0056cut.mp4: 384x640 3 persons, 168.0ms\n",
      "video 1/1 (frame 26/375) c:\\Users\\santu\\OneDrive\\Escritorio\\Documentos ULPGC\\VC\\P4\\VC-P4\\TGC23_PdH_C0056cut.mp4: 384x640 3 persons, 171.1ms\n",
      "video 1/1 (frame 27/375) c:\\Users\\santu\\OneDrive\\Escritorio\\Documentos ULPGC\\VC\\P4\\VC-P4\\TGC23_PdH_C0056cut.mp4: 384x640 3 persons, 213.0ms\n",
      "video 1/1 (frame 28/375) c:\\Users\\santu\\OneDrive\\Escritorio\\Documentos ULPGC\\VC\\P4\\VC-P4\\TGC23_PdH_C0056cut.mp4: 384x640 3 persons, 174.0ms\n",
      "video 1/1 (frame 29/375) c:\\Users\\santu\\OneDrive\\Escritorio\\Documentos ULPGC\\VC\\P4\\VC-P4\\TGC23_PdH_C0056cut.mp4: 384x640 3 persons, 168.0ms\n",
      "video 1/1 (frame 30/375) c:\\Users\\santu\\OneDrive\\Escritorio\\Documentos ULPGC\\VC\\P4\\VC-P4\\TGC23_PdH_C0056cut.mp4: 384x640 3 persons, 220.0ms\n",
      "video 1/1 (frame 31/375) c:\\Users\\santu\\OneDrive\\Escritorio\\Documentos ULPGC\\VC\\P4\\VC-P4\\TGC23_PdH_C0056cut.mp4: 384x640 3 persons, 176.4ms\n",
      "video 1/1 (frame 32/375) c:\\Users\\santu\\OneDrive\\Escritorio\\Documentos ULPGC\\VC\\P4\\VC-P4\\TGC23_PdH_C0056cut.mp4: 384x640 3 persons, 166.9ms\n",
      "video 1/1 (frame 33/375) c:\\Users\\santu\\OneDrive\\Escritorio\\Documentos ULPGC\\VC\\P4\\VC-P4\\TGC23_PdH_C0056cut.mp4: 384x640 3 persons, 156.0ms\n",
      "video 1/1 (frame 34/375) c:\\Users\\santu\\OneDrive\\Escritorio\\Documentos ULPGC\\VC\\P4\\VC-P4\\TGC23_PdH_C0056cut.mp4: 384x640 3 persons, 170.0ms\n",
      "video 1/1 (frame 35/375) c:\\Users\\santu\\OneDrive\\Escritorio\\Documentos ULPGC\\VC\\P4\\VC-P4\\TGC23_PdH_C0056cut.mp4: 384x640 3 persons, 168.2ms\n",
      "video 1/1 (frame 36/375) c:\\Users\\santu\\OneDrive\\Escritorio\\Documentos ULPGC\\VC\\P4\\VC-P4\\TGC23_PdH_C0056cut.mp4: 384x640 3 persons, 202.8ms\n",
      "video 1/1 (frame 37/375) c:\\Users\\santu\\OneDrive\\Escritorio\\Documentos ULPGC\\VC\\P4\\VC-P4\\TGC23_PdH_C0056cut.mp4: 384x640 3 persons, 176.3ms\n",
      "video 1/1 (frame 38/375) c:\\Users\\santu\\OneDrive\\Escritorio\\Documentos ULPGC\\VC\\P4\\VC-P4\\TGC23_PdH_C0056cut.mp4: 384x640 3 persons, 132.0ms\n",
      "video 1/1 (frame 39/375) c:\\Users\\santu\\OneDrive\\Escritorio\\Documentos ULPGC\\VC\\P4\\VC-P4\\TGC23_PdH_C0056cut.mp4: 384x640 3 persons, 124.0ms\n",
      "video 1/1 (frame 40/375) c:\\Users\\santu\\OneDrive\\Escritorio\\Documentos ULPGC\\VC\\P4\\VC-P4\\TGC23_PdH_C0056cut.mp4: 384x640 3 persons, 131.0ms\n",
      "video 1/1 (frame 41/375) c:\\Users\\santu\\OneDrive\\Escritorio\\Documentos ULPGC\\VC\\P4\\VC-P4\\TGC23_PdH_C0056cut.mp4: 384x640 3 persons, 126.0ms\n",
      "video 1/1 (frame 42/375) c:\\Users\\santu\\OneDrive\\Escritorio\\Documentos ULPGC\\VC\\P4\\VC-P4\\TGC23_PdH_C0056cut.mp4: 384x640 3 persons, 116.0ms\n",
      "video 1/1 (frame 43/375) c:\\Users\\santu\\OneDrive\\Escritorio\\Documentos ULPGC\\VC\\P4\\VC-P4\\TGC23_PdH_C0056cut.mp4: 384x640 3 persons, 183.0ms\n",
      "video 1/1 (frame 44/375) c:\\Users\\santu\\OneDrive\\Escritorio\\Documentos ULPGC\\VC\\P4\\VC-P4\\TGC23_PdH_C0056cut.mp4: 384x640 4 persons, 126.0ms\n",
      "video 1/1 (frame 45/375) c:\\Users\\santu\\OneDrive\\Escritorio\\Documentos ULPGC\\VC\\P4\\VC-P4\\TGC23_PdH_C0056cut.mp4: 384x640 4 persons, 117.0ms\n",
      "video 1/1 (frame 46/375) c:\\Users\\santu\\OneDrive\\Escritorio\\Documentos ULPGC\\VC\\P4\\VC-P4\\TGC23_PdH_C0056cut.mp4: 384x640 3 persons, 122.0ms\n",
      "video 1/1 (frame 47/375) c:\\Users\\santu\\OneDrive\\Escritorio\\Documentos ULPGC\\VC\\P4\\VC-P4\\TGC23_PdH_C0056cut.mp4: 384x640 4 persons, 130.1ms\n",
      "video 1/1 (frame 48/375) c:\\Users\\santu\\OneDrive\\Escritorio\\Documentos ULPGC\\VC\\P4\\VC-P4\\TGC23_PdH_C0056cut.mp4: 384x640 4 persons, 123.0ms\n",
      "video 1/1 (frame 49/375) c:\\Users\\santu\\OneDrive\\Escritorio\\Documentos ULPGC\\VC\\P4\\VC-P4\\TGC23_PdH_C0056cut.mp4: 384x640 4 persons, 111.0ms\n",
      "video 1/1 (frame 50/375) c:\\Users\\santu\\OneDrive\\Escritorio\\Documentos ULPGC\\VC\\P4\\VC-P4\\TGC23_PdH_C0056cut.mp4: 384x640 4 persons, 109.9ms\n",
      "video 1/1 (frame 51/375) c:\\Users\\santu\\OneDrive\\Escritorio\\Documentos ULPGC\\VC\\P4\\VC-P4\\TGC23_PdH_C0056cut.mp4: 384x640 3 persons, 111.0ms\n",
      "video 1/1 (frame 52/375) c:\\Users\\santu\\OneDrive\\Escritorio\\Documentos ULPGC\\VC\\P4\\VC-P4\\TGC23_PdH_C0056cut.mp4: 384x640 3 persons, 111.0ms\n",
      "video 1/1 (frame 53/375) c:\\Users\\santu\\OneDrive\\Escritorio\\Documentos ULPGC\\VC\\P4\\VC-P4\\TGC23_PdH_C0056cut.mp4: 384x640 3 persons, 110.0ms\n",
      "video 1/1 (frame 54/375) c:\\Users\\santu\\OneDrive\\Escritorio\\Documentos ULPGC\\VC\\P4\\VC-P4\\TGC23_PdH_C0056cut.mp4: 384x640 3 persons, 124.0ms\n",
      "video 1/1 (frame 55/375) c:\\Users\\santu\\OneDrive\\Escritorio\\Documentos ULPGC\\VC\\P4\\VC-P4\\TGC23_PdH_C0056cut.mp4: 384x640 3 persons, 132.0ms\n",
      "video 1/1 (frame 56/375) c:\\Users\\santu\\OneDrive\\Escritorio\\Documentos ULPGC\\VC\\P4\\VC-P4\\TGC23_PdH_C0056cut.mp4: 384x640 3 persons, 116.0ms\n",
      "video 1/1 (frame 57/375) c:\\Users\\santu\\OneDrive\\Escritorio\\Documentos ULPGC\\VC\\P4\\VC-P4\\TGC23_PdH_C0056cut.mp4: 384x640 3 persons, 115.5ms\n",
      "video 1/1 (frame 58/375) c:\\Users\\santu\\OneDrive\\Escritorio\\Documentos ULPGC\\VC\\P4\\VC-P4\\TGC23_PdH_C0056cut.mp4: 384x640 3 persons, 126.0ms\n",
      "video 1/1 (frame 59/375) c:\\Users\\santu\\OneDrive\\Escritorio\\Documentos ULPGC\\VC\\P4\\VC-P4\\TGC23_PdH_C0056cut.mp4: 384x640 3 persons, 139.0ms\n",
      "video 1/1 (frame 60/375) c:\\Users\\santu\\OneDrive\\Escritorio\\Documentos ULPGC\\VC\\P4\\VC-P4\\TGC23_PdH_C0056cut.mp4: 384x640 3 persons, 117.0ms\n",
      "video 1/1 (frame 61/375) c:\\Users\\santu\\OneDrive\\Escritorio\\Documentos ULPGC\\VC\\P4\\VC-P4\\TGC23_PdH_C0056cut.mp4: 384x640 4 persons, 127.0ms\n",
      "video 1/1 (frame 62/375) c:\\Users\\santu\\OneDrive\\Escritorio\\Documentos ULPGC\\VC\\P4\\VC-P4\\TGC23_PdH_C0056cut.mp4: 384x640 3 persons, 131.0ms\n",
      "video 1/1 (frame 63/375) c:\\Users\\santu\\OneDrive\\Escritorio\\Documentos ULPGC\\VC\\P4\\VC-P4\\TGC23_PdH_C0056cut.mp4: 384x640 3 persons, 116.0ms\n",
      "video 1/1 (frame 64/375) c:\\Users\\santu\\OneDrive\\Escritorio\\Documentos ULPGC\\VC\\P4\\VC-P4\\TGC23_PdH_C0056cut.mp4: 384x640 4 persons, 112.0ms\n",
      "video 1/1 (frame 65/375) c:\\Users\\santu\\OneDrive\\Escritorio\\Documentos ULPGC\\VC\\P4\\VC-P4\\TGC23_PdH_C0056cut.mp4: 384x640 4 persons, 138.0ms\n",
      "video 1/1 (frame 66/375) c:\\Users\\santu\\OneDrive\\Escritorio\\Documentos ULPGC\\VC\\P4\\VC-P4\\TGC23_PdH_C0056cut.mp4: 384x640 4 persons, 125.0ms\n",
      "video 1/1 (frame 67/375) c:\\Users\\santu\\OneDrive\\Escritorio\\Documentos ULPGC\\VC\\P4\\VC-P4\\TGC23_PdH_C0056cut.mp4: 384x640 4 persons, 114.0ms\n",
      "video 1/1 (frame 68/375) c:\\Users\\santu\\OneDrive\\Escritorio\\Documentos ULPGC\\VC\\P4\\VC-P4\\TGC23_PdH_C0056cut.mp4: 384x640 4 persons, 108.0ms\n",
      "video 1/1 (frame 69/375) c:\\Users\\santu\\OneDrive\\Escritorio\\Documentos ULPGC\\VC\\P4\\VC-P4\\TGC23_PdH_C0056cut.mp4: 384x640 4 persons, 113.0ms\n",
      "video 1/1 (frame 70/375) c:\\Users\\santu\\OneDrive\\Escritorio\\Documentos ULPGC\\VC\\P4\\VC-P4\\TGC23_PdH_C0056cut.mp4: 384x640 4 persons, 129.0ms\n",
      "video 1/1 (frame 71/375) c:\\Users\\santu\\OneDrive\\Escritorio\\Documentos ULPGC\\VC\\P4\\VC-P4\\TGC23_PdH_C0056cut.mp4: 384x640 4 persons, 130.0ms\n",
      "video 1/1 (frame 72/375) c:\\Users\\santu\\OneDrive\\Escritorio\\Documentos ULPGC\\VC\\P4\\VC-P4\\TGC23_PdH_C0056cut.mp4: 384x640 4 persons, 122.0ms\n",
      "video 1/1 (frame 73/375) c:\\Users\\santu\\OneDrive\\Escritorio\\Documentos ULPGC\\VC\\P4\\VC-P4\\TGC23_PdH_C0056cut.mp4: 384x640 3 persons, 1 bird, 121.0ms\n",
      "video 1/1 (frame 74/375) c:\\Users\\santu\\OneDrive\\Escritorio\\Documentos ULPGC\\VC\\P4\\VC-P4\\TGC23_PdH_C0056cut.mp4: 384x640 3 persons, 1 bird, 119.3ms\n",
      "video 1/1 (frame 75/375) c:\\Users\\santu\\OneDrive\\Escritorio\\Documentos ULPGC\\VC\\P4\\VC-P4\\TGC23_PdH_C0056cut.mp4: 384x640 4 persons, 1 bird, 114.0ms\n",
      "video 1/1 (frame 76/375) c:\\Users\\santu\\OneDrive\\Escritorio\\Documentos ULPGC\\VC\\P4\\VC-P4\\TGC23_PdH_C0056cut.mp4: 384x640 3 persons, 1 bird, 112.0ms\n",
      "video 1/1 (frame 77/375) c:\\Users\\santu\\OneDrive\\Escritorio\\Documentos ULPGC\\VC\\P4\\VC-P4\\TGC23_PdH_C0056cut.mp4: 384x640 3 persons, 1 bird, 113.0ms\n",
      "video 1/1 (frame 78/375) c:\\Users\\santu\\OneDrive\\Escritorio\\Documentos ULPGC\\VC\\P4\\VC-P4\\TGC23_PdH_C0056cut.mp4: 384x640 3 persons, 1 bird, 155.5ms\n",
      "video 1/1 (frame 79/375) c:\\Users\\santu\\OneDrive\\Escritorio\\Documentos ULPGC\\VC\\P4\\VC-P4\\TGC23_PdH_C0056cut.mp4: 384x640 3 persons, 1 bird, 120.0ms\n",
      "video 1/1 (frame 80/375) c:\\Users\\santu\\OneDrive\\Escritorio\\Documentos ULPGC\\VC\\P4\\VC-P4\\TGC23_PdH_C0056cut.mp4: 384x640 3 persons, 112.3ms\n",
      "video 1/1 (frame 81/375) c:\\Users\\santu\\OneDrive\\Escritorio\\Documentos ULPGC\\VC\\P4\\VC-P4\\TGC23_PdH_C0056cut.mp4: 384x640 4 persons, 110.0ms\n",
      "video 1/1 (frame 82/375) c:\\Users\\santu\\OneDrive\\Escritorio\\Documentos ULPGC\\VC\\P4\\VC-P4\\TGC23_PdH_C0056cut.mp4: 384x640 4 persons, 117.0ms\n",
      "video 1/1 (frame 83/375) c:\\Users\\santu\\OneDrive\\Escritorio\\Documentos ULPGC\\VC\\P4\\VC-P4\\TGC23_PdH_C0056cut.mp4: 384x640 4 persons, 112.0ms\n",
      "video 1/1 (frame 84/375) c:\\Users\\santu\\OneDrive\\Escritorio\\Documentos ULPGC\\VC\\P4\\VC-P4\\TGC23_PdH_C0056cut.mp4: 384x640 4 persons, 125.0ms\n",
      "video 1/1 (frame 85/375) c:\\Users\\santu\\OneDrive\\Escritorio\\Documentos ULPGC\\VC\\P4\\VC-P4\\TGC23_PdH_C0056cut.mp4: 384x640 4 persons, 172.0ms\n",
      "video 1/1 (frame 86/375) c:\\Users\\santu\\OneDrive\\Escritorio\\Documentos ULPGC\\VC\\P4\\VC-P4\\TGC23_PdH_C0056cut.mp4: 384x640 5 persons, 115.0ms\n",
      "video 1/1 (frame 87/375) c:\\Users\\santu\\OneDrive\\Escritorio\\Documentos ULPGC\\VC\\P4\\VC-P4\\TGC23_PdH_C0056cut.mp4: 384x640 4 persons, 116.0ms\n",
      "video 1/1 (frame 88/375) c:\\Users\\santu\\OneDrive\\Escritorio\\Documentos ULPGC\\VC\\P4\\VC-P4\\TGC23_PdH_C0056cut.mp4: 384x640 5 persons, 112.0ms\n",
      "video 1/1 (frame 89/375) c:\\Users\\santu\\OneDrive\\Escritorio\\Documentos ULPGC\\VC\\P4\\VC-P4\\TGC23_PdH_C0056cut.mp4: 384x640 5 persons, 128.0ms\n",
      "video 1/1 (frame 90/375) c:\\Users\\santu\\OneDrive\\Escritorio\\Documentos ULPGC\\VC\\P4\\VC-P4\\TGC23_PdH_C0056cut.mp4: 384x640 4 persons, 1 horse, 132.0ms\n",
      "video 1/1 (frame 91/375) c:\\Users\\santu\\OneDrive\\Escritorio\\Documentos ULPGC\\VC\\P4\\VC-P4\\TGC23_PdH_C0056cut.mp4: 384x640 3 persons, 1 horse, 116.0ms\n",
      "video 1/1 (frame 92/375) c:\\Users\\santu\\OneDrive\\Escritorio\\Documentos ULPGC\\VC\\P4\\VC-P4\\TGC23_PdH_C0056cut.mp4: 384x640 3 persons, 1 horse, 119.0ms\n",
      "video 1/1 (frame 93/375) c:\\Users\\santu\\OneDrive\\Escritorio\\Documentos ULPGC\\VC\\P4\\VC-P4\\TGC23_PdH_C0056cut.mp4: 384x640 3 persons, 1 horse, 115.0ms\n",
      "video 1/1 (frame 94/375) c:\\Users\\santu\\OneDrive\\Escritorio\\Documentos ULPGC\\VC\\P4\\VC-P4\\TGC23_PdH_C0056cut.mp4: 384x640 3 persons, 1 horse, 112.0ms\n",
      "video 1/1 (frame 95/375) c:\\Users\\santu\\OneDrive\\Escritorio\\Documentos ULPGC\\VC\\P4\\VC-P4\\TGC23_PdH_C0056cut.mp4: 384x640 6 persons, 111.0ms\n",
      "video 1/1 (frame 96/375) c:\\Users\\santu\\OneDrive\\Escritorio\\Documentos ULPGC\\VC\\P4\\VC-P4\\TGC23_PdH_C0056cut.mp4: 384x640 6 persons, 116.0ms\n",
      "video 1/1 (frame 97/375) c:\\Users\\santu\\OneDrive\\Escritorio\\Documentos ULPGC\\VC\\P4\\VC-P4\\TGC23_PdH_C0056cut.mp4: 384x640 6 persons, 111.0ms\n",
      "video 1/1 (frame 98/375) c:\\Users\\santu\\OneDrive\\Escritorio\\Documentos ULPGC\\VC\\P4\\VC-P4\\TGC23_PdH_C0056cut.mp4: 384x640 6 persons, 111.1ms\n",
      "video 1/1 (frame 99/375) c:\\Users\\santu\\OneDrive\\Escritorio\\Documentos ULPGC\\VC\\P4\\VC-P4\\TGC23_PdH_C0056cut.mp4: 384x640 6 persons, 116.0ms\n",
      "video 1/1 (frame 100/375) c:\\Users\\santu\\OneDrive\\Escritorio\\Documentos ULPGC\\VC\\P4\\VC-P4\\TGC23_PdH_C0056cut.mp4: 384x640 6 persons, 113.0ms\n",
      "video 1/1 (frame 101/375) c:\\Users\\santu\\OneDrive\\Escritorio\\Documentos ULPGC\\VC\\P4\\VC-P4\\TGC23_PdH_C0056cut.mp4: 384x640 5 persons, 110.0ms\n",
      "video 1/1 (frame 102/375) c:\\Users\\santu\\OneDrive\\Escritorio\\Documentos ULPGC\\VC\\P4\\VC-P4\\TGC23_PdH_C0056cut.mp4: 384x640 5 persons, 109.0ms\n",
      "video 1/1 (frame 103/375) c:\\Users\\santu\\OneDrive\\Escritorio\\Documentos ULPGC\\VC\\P4\\VC-P4\\TGC23_PdH_C0056cut.mp4: 384x640 5 persons, 112.0ms\n",
      "video 1/1 (frame 104/375) c:\\Users\\santu\\OneDrive\\Escritorio\\Documentos ULPGC\\VC\\P4\\VC-P4\\TGC23_PdH_C0056cut.mp4: 384x640 6 persons, 111.0ms\n",
      "video 1/1 (frame 105/375) c:\\Users\\santu\\OneDrive\\Escritorio\\Documentos ULPGC\\VC\\P4\\VC-P4\\TGC23_PdH_C0056cut.mp4: 384x640 6 persons, 112.0ms\n",
      "video 1/1 (frame 106/375) c:\\Users\\santu\\OneDrive\\Escritorio\\Documentos ULPGC\\VC\\P4\\VC-P4\\TGC23_PdH_C0056cut.mp4: 384x640 6 persons, 110.0ms\n",
      "video 1/1 (frame 107/375) c:\\Users\\santu\\OneDrive\\Escritorio\\Documentos ULPGC\\VC\\P4\\VC-P4\\TGC23_PdH_C0056cut.mp4: 384x640 6 persons, 109.0ms\n",
      "video 1/1 (frame 108/375) c:\\Users\\santu\\OneDrive\\Escritorio\\Documentos ULPGC\\VC\\P4\\VC-P4\\TGC23_PdH_C0056cut.mp4: 384x640 6 persons, 109.6ms\n",
      "video 1/1 (frame 109/375) c:\\Users\\santu\\OneDrive\\Escritorio\\Documentos ULPGC\\VC\\P4\\VC-P4\\TGC23_PdH_C0056cut.mp4: 384x640 4 persons, 108.0ms\n",
      "video 1/1 (frame 110/375) c:\\Users\\santu\\OneDrive\\Escritorio\\Documentos ULPGC\\VC\\P4\\VC-P4\\TGC23_PdH_C0056cut.mp4: 384x640 5 persons, 108.0ms\n",
      "video 1/1 (frame 111/375) c:\\Users\\santu\\OneDrive\\Escritorio\\Documentos ULPGC\\VC\\P4\\VC-P4\\TGC23_PdH_C0056cut.mp4: 384x640 5 persons, 112.0ms\n",
      "video 1/1 (frame 112/375) c:\\Users\\santu\\OneDrive\\Escritorio\\Documentos ULPGC\\VC\\P4\\VC-P4\\TGC23_PdH_C0056cut.mp4: 384x640 5 persons, 109.0ms\n",
      "video 1/1 (frame 113/375) c:\\Users\\santu\\OneDrive\\Escritorio\\Documentos ULPGC\\VC\\P4\\VC-P4\\TGC23_PdH_C0056cut.mp4: 384x640 5 persons, 111.0ms\n",
      "video 1/1 (frame 114/375) c:\\Users\\santu\\OneDrive\\Escritorio\\Documentos ULPGC\\VC\\P4\\VC-P4\\TGC23_PdH_C0056cut.mp4: 384x640 5 persons, 113.0ms\n",
      "video 1/1 (frame 115/375) c:\\Users\\santu\\OneDrive\\Escritorio\\Documentos ULPGC\\VC\\P4\\VC-P4\\TGC23_PdH_C0056cut.mp4: 384x640 5 persons, 112.0ms\n",
      "video 1/1 (frame 116/375) c:\\Users\\santu\\OneDrive\\Escritorio\\Documentos ULPGC\\VC\\P4\\VC-P4\\TGC23_PdH_C0056cut.mp4: 384x640 5 persons, 110.0ms\n",
      "video 1/1 (frame 117/375) c:\\Users\\santu\\OneDrive\\Escritorio\\Documentos ULPGC\\VC\\P4\\VC-P4\\TGC23_PdH_C0056cut.mp4: 384x640 5 persons, 112.0ms\n",
      "video 1/1 (frame 118/375) c:\\Users\\santu\\OneDrive\\Escritorio\\Documentos ULPGC\\VC\\P4\\VC-P4\\TGC23_PdH_C0056cut.mp4: 384x640 5 persons, 109.0ms\n",
      "video 1/1 (frame 119/375) c:\\Users\\santu\\OneDrive\\Escritorio\\Documentos ULPGC\\VC\\P4\\VC-P4\\TGC23_PdH_C0056cut.mp4: 384x640 6 persons, 111.0ms\n",
      "video 1/1 (frame 120/375) c:\\Users\\santu\\OneDrive\\Escritorio\\Documentos ULPGC\\VC\\P4\\VC-P4\\TGC23_PdH_C0056cut.mp4: 384x640 6 persons, 110.0ms\n",
      "video 1/1 (frame 121/375) c:\\Users\\santu\\OneDrive\\Escritorio\\Documentos ULPGC\\VC\\P4\\VC-P4\\TGC23_PdH_C0056cut.mp4: 384x640 6 persons, 113.0ms\n",
      "video 1/1 (frame 122/375) c:\\Users\\santu\\OneDrive\\Escritorio\\Documentos ULPGC\\VC\\P4\\VC-P4\\TGC23_PdH_C0056cut.mp4: 384x640 5 persons, 114.0ms\n",
      "video 1/1 (frame 123/375) c:\\Users\\santu\\OneDrive\\Escritorio\\Documentos ULPGC\\VC\\P4\\VC-P4\\TGC23_PdH_C0056cut.mp4: 384x640 4 persons, 107.0ms\n",
      "video 1/1 (frame 124/375) c:\\Users\\santu\\OneDrive\\Escritorio\\Documentos ULPGC\\VC\\P4\\VC-P4\\TGC23_PdH_C0056cut.mp4: 384x640 4 persons, 108.0ms\n",
      "video 1/1 (frame 125/375) c:\\Users\\santu\\OneDrive\\Escritorio\\Documentos ULPGC\\VC\\P4\\VC-P4\\TGC23_PdH_C0056cut.mp4: 384x640 4 persons, 110.7ms\n",
      "video 1/1 (frame 126/375) c:\\Users\\santu\\OneDrive\\Escritorio\\Documentos ULPGC\\VC\\P4\\VC-P4\\TGC23_PdH_C0056cut.mp4: 384x640 4 persons, 108.0ms\n",
      "video 1/1 (frame 127/375) c:\\Users\\santu\\OneDrive\\Escritorio\\Documentos ULPGC\\VC\\P4\\VC-P4\\TGC23_PdH_C0056cut.mp4: 384x640 4 persons, 110.0ms\n",
      "video 1/1 (frame 128/375) c:\\Users\\santu\\OneDrive\\Escritorio\\Documentos ULPGC\\VC\\P4\\VC-P4\\TGC23_PdH_C0056cut.mp4: 384x640 5 persons, 111.0ms\n",
      "video 1/1 (frame 129/375) c:\\Users\\santu\\OneDrive\\Escritorio\\Documentos ULPGC\\VC\\P4\\VC-P4\\TGC23_PdH_C0056cut.mp4: 384x640 5 persons, 114.0ms\n",
      "video 1/1 (frame 130/375) c:\\Users\\santu\\OneDrive\\Escritorio\\Documentos ULPGC\\VC\\P4\\VC-P4\\TGC23_PdH_C0056cut.mp4: 384x640 4 persons, 111.0ms\n",
      "video 1/1 (frame 131/375) c:\\Users\\santu\\OneDrive\\Escritorio\\Documentos ULPGC\\VC\\P4\\VC-P4\\TGC23_PdH_C0056cut.mp4: 384x640 4 persons, 116.0ms\n",
      "video 1/1 (frame 132/375) c:\\Users\\santu\\OneDrive\\Escritorio\\Documentos ULPGC\\VC\\P4\\VC-P4\\TGC23_PdH_C0056cut.mp4: 384x640 4 persons, 109.0ms\n",
      "video 1/1 (frame 133/375) c:\\Users\\santu\\OneDrive\\Escritorio\\Documentos ULPGC\\VC\\P4\\VC-P4\\TGC23_PdH_C0056cut.mp4: 384x640 5 persons, 110.0ms\n",
      "video 1/1 (frame 134/375) c:\\Users\\santu\\OneDrive\\Escritorio\\Documentos ULPGC\\VC\\P4\\VC-P4\\TGC23_PdH_C0056cut.mp4: 384x640 5 persons, 107.0ms\n",
      "video 1/1 (frame 135/375) c:\\Users\\santu\\OneDrive\\Escritorio\\Documentos ULPGC\\VC\\P4\\VC-P4\\TGC23_PdH_C0056cut.mp4: 384x640 5 persons, 109.0ms\n",
      "video 1/1 (frame 136/375) c:\\Users\\santu\\OneDrive\\Escritorio\\Documentos ULPGC\\VC\\P4\\VC-P4\\TGC23_PdH_C0056cut.mp4: 384x640 5 persons, 106.0ms\n",
      "video 1/1 (frame 137/375) c:\\Users\\santu\\OneDrive\\Escritorio\\Documentos ULPGC\\VC\\P4\\VC-P4\\TGC23_PdH_C0056cut.mp4: 384x640 5 persons, 108.0ms\n",
      "video 1/1 (frame 138/375) c:\\Users\\santu\\OneDrive\\Escritorio\\Documentos ULPGC\\VC\\P4\\VC-P4\\TGC23_PdH_C0056cut.mp4: 384x640 5 persons, 108.0ms\n",
      "video 1/1 (frame 139/375) c:\\Users\\santu\\OneDrive\\Escritorio\\Documentos ULPGC\\VC\\P4\\VC-P4\\TGC23_PdH_C0056cut.mp4: 384x640 5 persons, 111.0ms\n",
      "video 1/1 (frame 140/375) c:\\Users\\santu\\OneDrive\\Escritorio\\Documentos ULPGC\\VC\\P4\\VC-P4\\TGC23_PdH_C0056cut.mp4: 384x640 6 persons, 106.0ms\n",
      "video 1/1 (frame 141/375) c:\\Users\\santu\\OneDrive\\Escritorio\\Documentos ULPGC\\VC\\P4\\VC-P4\\TGC23_PdH_C0056cut.mp4: 384x640 6 persons, 104.0ms\n",
      "video 1/1 (frame 142/375) c:\\Users\\santu\\OneDrive\\Escritorio\\Documentos ULPGC\\VC\\P4\\VC-P4\\TGC23_PdH_C0056cut.mp4: 384x640 5 persons, 112.0ms\n",
      "video 1/1 (frame 143/375) c:\\Users\\santu\\OneDrive\\Escritorio\\Documentos ULPGC\\VC\\P4\\VC-P4\\TGC23_PdH_C0056cut.mp4: 384x640 5 persons, 109.0ms\n",
      "video 1/1 (frame 144/375) c:\\Users\\santu\\OneDrive\\Escritorio\\Documentos ULPGC\\VC\\P4\\VC-P4\\TGC23_PdH_C0056cut.mp4: 384x640 5 persons, 115.0ms\n",
      "video 1/1 (frame 145/375) c:\\Users\\santu\\OneDrive\\Escritorio\\Documentos ULPGC\\VC\\P4\\VC-P4\\TGC23_PdH_C0056cut.mp4: 384x640 5 persons, 109.0ms\n",
      "video 1/1 (frame 146/375) c:\\Users\\santu\\OneDrive\\Escritorio\\Documentos ULPGC\\VC\\P4\\VC-P4\\TGC23_PdH_C0056cut.mp4: 384x640 5 persons, 111.0ms\n",
      "video 1/1 (frame 147/375) c:\\Users\\santu\\OneDrive\\Escritorio\\Documentos ULPGC\\VC\\P4\\VC-P4\\TGC23_PdH_C0056cut.mp4: 384x640 5 persons, 109.0ms\n",
      "video 1/1 (frame 148/375) c:\\Users\\santu\\OneDrive\\Escritorio\\Documentos ULPGC\\VC\\P4\\VC-P4\\TGC23_PdH_C0056cut.mp4: 384x640 6 persons, 107.0ms\n",
      "video 1/1 (frame 149/375) c:\\Users\\santu\\OneDrive\\Escritorio\\Documentos ULPGC\\VC\\P4\\VC-P4\\TGC23_PdH_C0056cut.mp4: 384x640 5 persons, 111.0ms\n",
      "video 1/1 (frame 150/375) c:\\Users\\santu\\OneDrive\\Escritorio\\Documentos ULPGC\\VC\\P4\\VC-P4\\TGC23_PdH_C0056cut.mp4: 384x640 6 persons, 111.0ms\n",
      "video 1/1 (frame 151/375) c:\\Users\\santu\\OneDrive\\Escritorio\\Documentos ULPGC\\VC\\P4\\VC-P4\\TGC23_PdH_C0056cut.mp4: 384x640 5 persons, 115.0ms\n",
      "video 1/1 (frame 152/375) c:\\Users\\santu\\OneDrive\\Escritorio\\Documentos ULPGC\\VC\\P4\\VC-P4\\TGC23_PdH_C0056cut.mp4: 384x640 4 persons, 110.0ms\n",
      "video 1/1 (frame 153/375) c:\\Users\\santu\\OneDrive\\Escritorio\\Documentos ULPGC\\VC\\P4\\VC-P4\\TGC23_PdH_C0056cut.mp4: 384x640 4 persons, 111.0ms\n",
      "video 1/1 (frame 154/375) c:\\Users\\santu\\OneDrive\\Escritorio\\Documentos ULPGC\\VC\\P4\\VC-P4\\TGC23_PdH_C0056cut.mp4: 384x640 4 persons, 115.0ms\n",
      "video 1/1 (frame 155/375) c:\\Users\\santu\\OneDrive\\Escritorio\\Documentos ULPGC\\VC\\P4\\VC-P4\\TGC23_PdH_C0056cut.mp4: 384x640 5 persons, 111.0ms\n",
      "video 1/1 (frame 156/375) c:\\Users\\santu\\OneDrive\\Escritorio\\Documentos ULPGC\\VC\\P4\\VC-P4\\TGC23_PdH_C0056cut.mp4: 384x640 5 persons, 110.0ms\n",
      "video 1/1 (frame 157/375) c:\\Users\\santu\\OneDrive\\Escritorio\\Documentos ULPGC\\VC\\P4\\VC-P4\\TGC23_PdH_C0056cut.mp4: 384x640 5 persons, 120.0ms\n",
      "video 1/1 (frame 158/375) c:\\Users\\santu\\OneDrive\\Escritorio\\Documentos ULPGC\\VC\\P4\\VC-P4\\TGC23_PdH_C0056cut.mp4: 384x640 5 persons, 107.0ms\n",
      "video 1/1 (frame 159/375) c:\\Users\\santu\\OneDrive\\Escritorio\\Documentos ULPGC\\VC\\P4\\VC-P4\\TGC23_PdH_C0056cut.mp4: 384x640 5 persons, 109.0ms\n",
      "video 1/1 (frame 160/375) c:\\Users\\santu\\OneDrive\\Escritorio\\Documentos ULPGC\\VC\\P4\\VC-P4\\TGC23_PdH_C0056cut.mp4: 384x640 5 persons, 106.0ms\n",
      "video 1/1 (frame 161/375) c:\\Users\\santu\\OneDrive\\Escritorio\\Documentos ULPGC\\VC\\P4\\VC-P4\\TGC23_PdH_C0056cut.mp4: 384x640 5 persons, 111.0ms\n",
      "video 1/1 (frame 162/375) c:\\Users\\santu\\OneDrive\\Escritorio\\Documentos ULPGC\\VC\\P4\\VC-P4\\TGC23_PdH_C0056cut.mp4: 384x640 5 persons, 108.8ms\n",
      "video 1/1 (frame 163/375) c:\\Users\\santu\\OneDrive\\Escritorio\\Documentos ULPGC\\VC\\P4\\VC-P4\\TGC23_PdH_C0056cut.mp4: 384x640 6 persons, 112.0ms\n",
      "video 1/1 (frame 164/375) c:\\Users\\santu\\OneDrive\\Escritorio\\Documentos ULPGC\\VC\\P4\\VC-P4\\TGC23_PdH_C0056cut.mp4: 384x640 6 persons, 110.0ms\n",
      "video 1/1 (frame 165/375) c:\\Users\\santu\\OneDrive\\Escritorio\\Documentos ULPGC\\VC\\P4\\VC-P4\\TGC23_PdH_C0056cut.mp4: 384x640 5 persons, 109.0ms\n",
      "video 1/1 (frame 166/375) c:\\Users\\santu\\OneDrive\\Escritorio\\Documentos ULPGC\\VC\\P4\\VC-P4\\TGC23_PdH_C0056cut.mp4: 384x640 5 persons, 107.0ms\n",
      "video 1/1 (frame 167/375) c:\\Users\\santu\\OneDrive\\Escritorio\\Documentos ULPGC\\VC\\P4\\VC-P4\\TGC23_PdH_C0056cut.mp4: 384x640 5 persons, 108.6ms\n",
      "video 1/1 (frame 168/375) c:\\Users\\santu\\OneDrive\\Escritorio\\Documentos ULPGC\\VC\\P4\\VC-P4\\TGC23_PdH_C0056cut.mp4: 384x640 5 persons, 110.0ms\n",
      "video 1/1 (frame 169/375) c:\\Users\\santu\\OneDrive\\Escritorio\\Documentos ULPGC\\VC\\P4\\VC-P4\\TGC23_PdH_C0056cut.mp4: 384x640 4 persons, 108.0ms\n",
      "video 1/1 (frame 170/375) c:\\Users\\santu\\OneDrive\\Escritorio\\Documentos ULPGC\\VC\\P4\\VC-P4\\TGC23_PdH_C0056cut.mp4: 384x640 5 persons, 111.0ms\n",
      "video 1/1 (frame 171/375) c:\\Users\\santu\\OneDrive\\Escritorio\\Documentos ULPGC\\VC\\P4\\VC-P4\\TGC23_PdH_C0056cut.mp4: 384x640 5 persons, 117.0ms\n",
      "video 1/1 (frame 172/375) c:\\Users\\santu\\OneDrive\\Escritorio\\Documentos ULPGC\\VC\\P4\\VC-P4\\TGC23_PdH_C0056cut.mp4: 384x640 5 persons, 110.0ms\n",
      "video 1/1 (frame 173/375) c:\\Users\\santu\\OneDrive\\Escritorio\\Documentos ULPGC\\VC\\P4\\VC-P4\\TGC23_PdH_C0056cut.mp4: 384x640 4 persons, 110.0ms\n",
      "video 1/1 (frame 174/375) c:\\Users\\santu\\OneDrive\\Escritorio\\Documentos ULPGC\\VC\\P4\\VC-P4\\TGC23_PdH_C0056cut.mp4: 384x640 6 persons, 105.0ms\n",
      "video 1/1 (frame 175/375) c:\\Users\\santu\\OneDrive\\Escritorio\\Documentos ULPGC\\VC\\P4\\VC-P4\\TGC23_PdH_C0056cut.mp4: 384x640 6 persons, 109.0ms\n",
      "video 1/1 (frame 176/375) c:\\Users\\santu\\OneDrive\\Escritorio\\Documentos ULPGC\\VC\\P4\\VC-P4\\TGC23_PdH_C0056cut.mp4: 384x640 7 persons, 106.0ms\n",
      "video 1/1 (frame 177/375) c:\\Users\\santu\\OneDrive\\Escritorio\\Documentos ULPGC\\VC\\P4\\VC-P4\\TGC23_PdH_C0056cut.mp4: 384x640 7 persons, 109.0ms\n",
      "video 1/1 (frame 178/375) c:\\Users\\santu\\OneDrive\\Escritorio\\Documentos ULPGC\\VC\\P4\\VC-P4\\TGC23_PdH_C0056cut.mp4: 384x640 6 persons, 113.0ms\n",
      "video 1/1 (frame 179/375) c:\\Users\\santu\\OneDrive\\Escritorio\\Documentos ULPGC\\VC\\P4\\VC-P4\\TGC23_PdH_C0056cut.mp4: 384x640 4 persons, 107.0ms\n",
      "video 1/1 (frame 180/375) c:\\Users\\santu\\OneDrive\\Escritorio\\Documentos ULPGC\\VC\\P4\\VC-P4\\TGC23_PdH_C0056cut.mp4: 384x640 5 persons, 111.4ms\n",
      "video 1/1 (frame 181/375) c:\\Users\\santu\\OneDrive\\Escritorio\\Documentos ULPGC\\VC\\P4\\VC-P4\\TGC23_PdH_C0056cut.mp4: 384x640 5 persons, 107.0ms\n",
      "video 1/1 (frame 182/375) c:\\Users\\santu\\OneDrive\\Escritorio\\Documentos ULPGC\\VC\\P4\\VC-P4\\TGC23_PdH_C0056cut.mp4: 384x640 5 persons, 110.0ms\n",
      "video 1/1 (frame 183/375) c:\\Users\\santu\\OneDrive\\Escritorio\\Documentos ULPGC\\VC\\P4\\VC-P4\\TGC23_PdH_C0056cut.mp4: 384x640 6 persons, 113.0ms\n",
      "video 1/1 (frame 184/375) c:\\Users\\santu\\OneDrive\\Escritorio\\Documentos ULPGC\\VC\\P4\\VC-P4\\TGC23_PdH_C0056cut.mp4: 384x640 4 persons, 111.0ms\n",
      "video 1/1 (frame 185/375) c:\\Users\\santu\\OneDrive\\Escritorio\\Documentos ULPGC\\VC\\P4\\VC-P4\\TGC23_PdH_C0056cut.mp4: 384x640 4 persons, 109.1ms\n",
      "video 1/1 (frame 186/375) c:\\Users\\santu\\OneDrive\\Escritorio\\Documentos ULPGC\\VC\\P4\\VC-P4\\TGC23_PdH_C0056cut.mp4: 384x640 4 persons, 115.0ms\n",
      "video 1/1 (frame 187/375) c:\\Users\\santu\\OneDrive\\Escritorio\\Documentos ULPGC\\VC\\P4\\VC-P4\\TGC23_PdH_C0056cut.mp4: 384x640 3 persons, 110.0ms\n",
      "video 1/1 (frame 188/375) c:\\Users\\santu\\OneDrive\\Escritorio\\Documentos ULPGC\\VC\\P4\\VC-P4\\TGC23_PdH_C0056cut.mp4: 384x640 4 persons, 109.0ms\n",
      "video 1/1 (frame 189/375) c:\\Users\\santu\\OneDrive\\Escritorio\\Documentos ULPGC\\VC\\P4\\VC-P4\\TGC23_PdH_C0056cut.mp4: 384x640 3 persons, 108.0ms\n",
      "video 1/1 (frame 190/375) c:\\Users\\santu\\OneDrive\\Escritorio\\Documentos ULPGC\\VC\\P4\\VC-P4\\TGC23_PdH_C0056cut.mp4: 384x640 4 persons, 112.0ms\n",
      "video 1/1 (frame 191/375) c:\\Users\\santu\\OneDrive\\Escritorio\\Documentos ULPGC\\VC\\P4\\VC-P4\\TGC23_PdH_C0056cut.mp4: 384x640 5 persons, 112.0ms\n",
      "video 1/1 (frame 192/375) c:\\Users\\santu\\OneDrive\\Escritorio\\Documentos ULPGC\\VC\\P4\\VC-P4\\TGC23_PdH_C0056cut.mp4: 384x640 4 persons, 115.0ms\n",
      "video 1/1 (frame 193/375) c:\\Users\\santu\\OneDrive\\Escritorio\\Documentos ULPGC\\VC\\P4\\VC-P4\\TGC23_PdH_C0056cut.mp4: 384x640 4 persons, 112.0ms\n",
      "video 1/1 (frame 194/375) c:\\Users\\santu\\OneDrive\\Escritorio\\Documentos ULPGC\\VC\\P4\\VC-P4\\TGC23_PdH_C0056cut.mp4: 384x640 4 persons, 113.0ms\n",
      "video 1/1 (frame 195/375) c:\\Users\\santu\\OneDrive\\Escritorio\\Documentos ULPGC\\VC\\P4\\VC-P4\\TGC23_PdH_C0056cut.mp4: 384x640 5 persons, 111.0ms\n",
      "video 1/1 (frame 196/375) c:\\Users\\santu\\OneDrive\\Escritorio\\Documentos ULPGC\\VC\\P4\\VC-P4\\TGC23_PdH_C0056cut.mp4: 384x640 5 persons, 115.0ms\n",
      "video 1/1 (frame 197/375) c:\\Users\\santu\\OneDrive\\Escritorio\\Documentos ULPGC\\VC\\P4\\VC-P4\\TGC23_PdH_C0056cut.mp4: 384x640 4 persons, 1 bicycle, 110.0ms\n",
      "video 1/1 (frame 198/375) c:\\Users\\santu\\OneDrive\\Escritorio\\Documentos ULPGC\\VC\\P4\\VC-P4\\TGC23_PdH_C0056cut.mp4: 384x640 3 persons, 1 bicycle, 109.8ms\n",
      "video 1/1 (frame 199/375) c:\\Users\\santu\\OneDrive\\Escritorio\\Documentos ULPGC\\VC\\P4\\VC-P4\\TGC23_PdH_C0056cut.mp4: 384x640 4 persons, 153.0ms\n",
      "video 1/1 (frame 200/375) c:\\Users\\santu\\OneDrive\\Escritorio\\Documentos ULPGC\\VC\\P4\\VC-P4\\TGC23_PdH_C0056cut.mp4: 384x640 3 persons, 117.3ms\n",
      "video 1/1 (frame 201/375) c:\\Users\\santu\\OneDrive\\Escritorio\\Documentos ULPGC\\VC\\P4\\VC-P4\\TGC23_PdH_C0056cut.mp4: 384x640 3 persons, 122.0ms\n",
      "video 1/1 (frame 202/375) c:\\Users\\santu\\OneDrive\\Escritorio\\Documentos ULPGC\\VC\\P4\\VC-P4\\TGC23_PdH_C0056cut.mp4: 384x640 3 persons, 118.0ms\n",
      "video 1/1 (frame 203/375) c:\\Users\\santu\\OneDrive\\Escritorio\\Documentos ULPGC\\VC\\P4\\VC-P4\\TGC23_PdH_C0056cut.mp4: 384x640 4 persons, 120.0ms\n",
      "video 1/1 (frame 204/375) c:\\Users\\santu\\OneDrive\\Escritorio\\Documentos ULPGC\\VC\\P4\\VC-P4\\TGC23_PdH_C0056cut.mp4: 384x640 3 persons, 119.0ms\n",
      "video 1/1 (frame 205/375) c:\\Users\\santu\\OneDrive\\Escritorio\\Documentos ULPGC\\VC\\P4\\VC-P4\\TGC23_PdH_C0056cut.mp4: 384x640 3 persons, 117.0ms\n",
      "video 1/1 (frame 206/375) c:\\Users\\santu\\OneDrive\\Escritorio\\Documentos ULPGC\\VC\\P4\\VC-P4\\TGC23_PdH_C0056cut.mp4: 384x640 3 persons, 169.6ms\n",
      "video 1/1 (frame 207/375) c:\\Users\\santu\\OneDrive\\Escritorio\\Documentos ULPGC\\VC\\P4\\VC-P4\\TGC23_PdH_C0056cut.mp4: 384x640 3 persons, 1 bicycle, 113.0ms\n",
      "video 1/1 (frame 208/375) c:\\Users\\santu\\OneDrive\\Escritorio\\Documentos ULPGC\\VC\\P4\\VC-P4\\TGC23_PdH_C0056cut.mp4: 384x640 3 persons, 112.0ms\n",
      "video 1/1 (frame 209/375) c:\\Users\\santu\\OneDrive\\Escritorio\\Documentos ULPGC\\VC\\P4\\VC-P4\\TGC23_PdH_C0056cut.mp4: 384x640 3 persons, 1 bicycle, 117.0ms\n",
      "video 1/1 (frame 210/375) c:\\Users\\santu\\OneDrive\\Escritorio\\Documentos ULPGC\\VC\\P4\\VC-P4\\TGC23_PdH_C0056cut.mp4: 384x640 4 persons, 1 bicycle, 108.0ms\n",
      "video 1/1 (frame 211/375) c:\\Users\\santu\\OneDrive\\Escritorio\\Documentos ULPGC\\VC\\P4\\VC-P4\\TGC23_PdH_C0056cut.mp4: 384x640 3 persons, 1 bicycle, 114.0ms\n",
      "video 1/1 (frame 212/375) c:\\Users\\santu\\OneDrive\\Escritorio\\Documentos ULPGC\\VC\\P4\\VC-P4\\TGC23_PdH_C0056cut.mp4: 384x640 3 persons, 1 bicycle, 120.0ms\n",
      "video 1/1 (frame 213/375) c:\\Users\\santu\\OneDrive\\Escritorio\\Documentos ULPGC\\VC\\P4\\VC-P4\\TGC23_PdH_C0056cut.mp4: 384x640 3 persons, 111.0ms\n",
      "video 1/1 (frame 214/375) c:\\Users\\santu\\OneDrive\\Escritorio\\Documentos ULPGC\\VC\\P4\\VC-P4\\TGC23_PdH_C0056cut.mp4: 384x640 3 persons, 1 horse, 110.0ms\n",
      "video 1/1 (frame 215/375) c:\\Users\\santu\\OneDrive\\Escritorio\\Documentos ULPGC\\VC\\P4\\VC-P4\\TGC23_PdH_C0056cut.mp4: 384x640 4 persons, 116.2ms\n",
      "video 1/1 (frame 216/375) c:\\Users\\santu\\OneDrive\\Escritorio\\Documentos ULPGC\\VC\\P4\\VC-P4\\TGC23_PdH_C0056cut.mp4: 384x640 3 persons, 119.0ms\n",
      "video 1/1 (frame 217/375) c:\\Users\\santu\\OneDrive\\Escritorio\\Documentos ULPGC\\VC\\P4\\VC-P4\\TGC23_PdH_C0056cut.mp4: 384x640 3 persons, 113.0ms\n",
      "video 1/1 (frame 218/375) c:\\Users\\santu\\OneDrive\\Escritorio\\Documentos ULPGC\\VC\\P4\\VC-P4\\TGC23_PdH_C0056cut.mp4: 384x640 3 persons, 124.4ms\n",
      "video 1/1 (frame 219/375) c:\\Users\\santu\\OneDrive\\Escritorio\\Documentos ULPGC\\VC\\P4\\VC-P4\\TGC23_PdH_C0056cut.mp4: 384x640 4 persons, 113.0ms\n",
      "video 1/1 (frame 220/375) c:\\Users\\santu\\OneDrive\\Escritorio\\Documentos ULPGC\\VC\\P4\\VC-P4\\TGC23_PdH_C0056cut.mp4: 384x640 3 persons, 112.0ms\n",
      "video 1/1 (frame 221/375) c:\\Users\\santu\\OneDrive\\Escritorio\\Documentos ULPGC\\VC\\P4\\VC-P4\\TGC23_PdH_C0056cut.mp4: 384x640 3 persons, 1 bicycle, 114.0ms\n",
      "video 1/1 (frame 222/375) c:\\Users\\santu\\OneDrive\\Escritorio\\Documentos ULPGC\\VC\\P4\\VC-P4\\TGC23_PdH_C0056cut.mp4: 384x640 3 persons, 1 bicycle, 122.0ms\n",
      "video 1/1 (frame 223/375) c:\\Users\\santu\\OneDrive\\Escritorio\\Documentos ULPGC\\VC\\P4\\VC-P4\\TGC23_PdH_C0056cut.mp4: 384x640 3 persons, 1 bicycle, 114.0ms\n",
      "video 1/1 (frame 224/375) c:\\Users\\santu\\OneDrive\\Escritorio\\Documentos ULPGC\\VC\\P4\\VC-P4\\TGC23_PdH_C0056cut.mp4: 384x640 3 persons, 1 bicycle, 106.0ms\n",
      "video 1/1 (frame 225/375) c:\\Users\\santu\\OneDrive\\Escritorio\\Documentos ULPGC\\VC\\P4\\VC-P4\\TGC23_PdH_C0056cut.mp4: 384x640 4 persons, 1 bicycle, 109.0ms\n",
      "video 1/1 (frame 226/375) c:\\Users\\santu\\OneDrive\\Escritorio\\Documentos ULPGC\\VC\\P4\\VC-P4\\TGC23_PdH_C0056cut.mp4: 384x640 4 persons, 1 bicycle, 114.0ms\n",
      "video 1/1 (frame 227/375) c:\\Users\\santu\\OneDrive\\Escritorio\\Documentos ULPGC\\VC\\P4\\VC-P4\\TGC23_PdH_C0056cut.mp4: 384x640 4 persons, 2 horses, 117.0ms\n",
      "video 1/1 (frame 228/375) c:\\Users\\santu\\OneDrive\\Escritorio\\Documentos ULPGC\\VC\\P4\\VC-P4\\TGC23_PdH_C0056cut.mp4: 384x640 3 persons, 1 horse, 109.0ms\n",
      "video 1/1 (frame 229/375) c:\\Users\\santu\\OneDrive\\Escritorio\\Documentos ULPGC\\VC\\P4\\VC-P4\\TGC23_PdH_C0056cut.mp4: 384x640 3 persons, 1 bicycle, 114.0ms\n",
      "video 1/1 (frame 230/375) c:\\Users\\santu\\OneDrive\\Escritorio\\Documentos ULPGC\\VC\\P4\\VC-P4\\TGC23_PdH_C0056cut.mp4: 384x640 3 persons, 1 bicycle, 2 horses, 117.0ms\n",
      "video 1/1 (frame 231/375) c:\\Users\\santu\\OneDrive\\Escritorio\\Documentos ULPGC\\VC\\P4\\VC-P4\\TGC23_PdH_C0056cut.mp4: 384x640 5 persons, 2 bicycles, 118.0ms\n",
      "video 1/1 (frame 232/375) c:\\Users\\santu\\OneDrive\\Escritorio\\Documentos ULPGC\\VC\\P4\\VC-P4\\TGC23_PdH_C0056cut.mp4: 384x640 5 persons, 1 bicycle, 123.4ms\n",
      "video 1/1 (frame 233/375) c:\\Users\\santu\\OneDrive\\Escritorio\\Documentos ULPGC\\VC\\P4\\VC-P4\\TGC23_PdH_C0056cut.mp4: 384x640 3 persons, 119.0ms\n",
      "video 1/1 (frame 234/375) c:\\Users\\santu\\OneDrive\\Escritorio\\Documentos ULPGC\\VC\\P4\\VC-P4\\TGC23_PdH_C0056cut.mp4: 384x640 4 persons, 120.0ms\n",
      "video 1/1 (frame 235/375) c:\\Users\\santu\\OneDrive\\Escritorio\\Documentos ULPGC\\VC\\P4\\VC-P4\\TGC23_PdH_C0056cut.mp4: 384x640 3 persons, 115.0ms\n",
      "video 1/1 (frame 236/375) c:\\Users\\santu\\OneDrive\\Escritorio\\Documentos ULPGC\\VC\\P4\\VC-P4\\TGC23_PdH_C0056cut.mp4: 384x640 3 persons, 118.0ms\n",
      "video 1/1 (frame 237/375) c:\\Users\\santu\\OneDrive\\Escritorio\\Documentos ULPGC\\VC\\P4\\VC-P4\\TGC23_PdH_C0056cut.mp4: 384x640 3 persons, 2 bicycles, 118.0ms\n",
      "video 1/1 (frame 238/375) c:\\Users\\santu\\OneDrive\\Escritorio\\Documentos ULPGC\\VC\\P4\\VC-P4\\TGC23_PdH_C0056cut.mp4: 384x640 3 persons, 2 bicycles, 119.0ms\n",
      "video 1/1 (frame 239/375) c:\\Users\\santu\\OneDrive\\Escritorio\\Documentos ULPGC\\VC\\P4\\VC-P4\\TGC23_PdH_C0056cut.mp4: 384x640 4 persons, 2 bicycles, 119.0ms\n",
      "video 1/1 (frame 240/375) c:\\Users\\santu\\OneDrive\\Escritorio\\Documentos ULPGC\\VC\\P4\\VC-P4\\TGC23_PdH_C0056cut.mp4: 384x640 4 persons, 1 bicycle, 175.8ms\n",
      "video 1/1 (frame 241/375) c:\\Users\\santu\\OneDrive\\Escritorio\\Documentos ULPGC\\VC\\P4\\VC-P4\\TGC23_PdH_C0056cut.mp4: 384x640 3 persons, 1 bicycle, 122.7ms\n",
      "video 1/1 (frame 242/375) c:\\Users\\santu\\OneDrive\\Escritorio\\Documentos ULPGC\\VC\\P4\\VC-P4\\TGC23_PdH_C0056cut.mp4: 384x640 3 persons, 1 bicycle, 114.0ms\n",
      "video 1/1 (frame 243/375) c:\\Users\\santu\\OneDrive\\Escritorio\\Documentos ULPGC\\VC\\P4\\VC-P4\\TGC23_PdH_C0056cut.mp4: 384x640 3 persons, 1 bicycle, 125.0ms\n",
      "video 1/1 (frame 244/375) c:\\Users\\santu\\OneDrive\\Escritorio\\Documentos ULPGC\\VC\\P4\\VC-P4\\TGC23_PdH_C0056cut.mp4: 384x640 3 persons, 1 bicycle, 114.0ms\n",
      "video 1/1 (frame 245/375) c:\\Users\\santu\\OneDrive\\Escritorio\\Documentos ULPGC\\VC\\P4\\VC-P4\\TGC23_PdH_C0056cut.mp4: 384x640 4 persons, 1 bicycle, 113.0ms\n",
      "video 1/1 (frame 246/375) c:\\Users\\santu\\OneDrive\\Escritorio\\Documentos ULPGC\\VC\\P4\\VC-P4\\TGC23_PdH_C0056cut.mp4: 384x640 3 persons, 1 bicycle, 120.0ms\n",
      "video 1/1 (frame 247/375) c:\\Users\\santu\\OneDrive\\Escritorio\\Documentos ULPGC\\VC\\P4\\VC-P4\\TGC23_PdH_C0056cut.mp4: 384x640 3 persons, 1 bicycle, 113.0ms\n",
      "video 1/1 (frame 248/375) c:\\Users\\santu\\OneDrive\\Escritorio\\Documentos ULPGC\\VC\\P4\\VC-P4\\TGC23_PdH_C0056cut.mp4: 384x640 3 persons, 1 horse, 113.0ms\n",
      "video 1/1 (frame 249/375) c:\\Users\\santu\\OneDrive\\Escritorio\\Documentos ULPGC\\VC\\P4\\VC-P4\\TGC23_PdH_C0056cut.mp4: 384x640 3 persons, 1 horse, 118.8ms\n",
      "video 1/1 (frame 250/375) c:\\Users\\santu\\OneDrive\\Escritorio\\Documentos ULPGC\\VC\\P4\\VC-P4\\TGC23_PdH_C0056cut.mp4: 384x640 3 persons, 1 bicycle, 109.0ms\n",
      "video 1/1 (frame 251/375) c:\\Users\\santu\\OneDrive\\Escritorio\\Documentos ULPGC\\VC\\P4\\VC-P4\\TGC23_PdH_C0056cut.mp4: 384x640 3 persons, 2 bicycles, 111.0ms\n",
      "video 1/1 (frame 252/375) c:\\Users\\santu\\OneDrive\\Escritorio\\Documentos ULPGC\\VC\\P4\\VC-P4\\TGC23_PdH_C0056cut.mp4: 384x640 3 persons, 1 bicycle, 111.0ms\n",
      "video 1/1 (frame 253/375) c:\\Users\\santu\\OneDrive\\Escritorio\\Documentos ULPGC\\VC\\P4\\VC-P4\\TGC23_PdH_C0056cut.mp4: 384x640 3 persons, 113.0ms\n",
      "video 1/1 (frame 254/375) c:\\Users\\santu\\OneDrive\\Escritorio\\Documentos ULPGC\\VC\\P4\\VC-P4\\TGC23_PdH_C0056cut.mp4: 384x640 3 persons, 111.0ms\n",
      "video 1/1 (frame 255/375) c:\\Users\\santu\\OneDrive\\Escritorio\\Documentos ULPGC\\VC\\P4\\VC-P4\\TGC23_PdH_C0056cut.mp4: 384x640 3 persons, 117.0ms\n",
      "video 1/1 (frame 256/375) c:\\Users\\santu\\OneDrive\\Escritorio\\Documentos ULPGC\\VC\\P4\\VC-P4\\TGC23_PdH_C0056cut.mp4: 384x640 3 persons, 117.0ms\n",
      "video 1/1 (frame 257/375) c:\\Users\\santu\\OneDrive\\Escritorio\\Documentos ULPGC\\VC\\P4\\VC-P4\\TGC23_PdH_C0056cut.mp4: 384x640 3 persons, 114.0ms\n",
      "video 1/1 (frame 258/375) c:\\Users\\santu\\OneDrive\\Escritorio\\Documentos ULPGC\\VC\\P4\\VC-P4\\TGC23_PdH_C0056cut.mp4: 384x640 3 persons, 2 bicycles, 115.6ms\n",
      "video 1/1 (frame 259/375) c:\\Users\\santu\\OneDrive\\Escritorio\\Documentos ULPGC\\VC\\P4\\VC-P4\\TGC23_PdH_C0056cut.mp4: 384x640 3 persons, 1 bicycle, 119.9ms\n",
      "video 1/1 (frame 260/375) c:\\Users\\santu\\OneDrive\\Escritorio\\Documentos ULPGC\\VC\\P4\\VC-P4\\TGC23_PdH_C0056cut.mp4: 384x640 3 persons, 1 bicycle, 117.0ms\n",
      "video 1/1 (frame 261/375) c:\\Users\\santu\\OneDrive\\Escritorio\\Documentos ULPGC\\VC\\P4\\VC-P4\\TGC23_PdH_C0056cut.mp4: 384x640 3 persons, 1 bicycle, 117.0ms\n",
      "video 1/1 (frame 262/375) c:\\Users\\santu\\OneDrive\\Escritorio\\Documentos ULPGC\\VC\\P4\\VC-P4\\TGC23_PdH_C0056cut.mp4: 384x640 3 persons, 1 bicycle, 118.0ms\n",
      "video 1/1 (frame 263/375) c:\\Users\\santu\\OneDrive\\Escritorio\\Documentos ULPGC\\VC\\P4\\VC-P4\\TGC23_PdH_C0056cut.mp4: 384x640 3 persons, 2 bicycles, 129.9ms\n",
      "video 1/1 (frame 264/375) c:\\Users\\santu\\OneDrive\\Escritorio\\Documentos ULPGC\\VC\\P4\\VC-P4\\TGC23_PdH_C0056cut.mp4: 384x640 3 persons, 1 bicycle, 124.0ms\n",
      "video 1/1 (frame 265/375) c:\\Users\\santu\\OneDrive\\Escritorio\\Documentos ULPGC\\VC\\P4\\VC-P4\\TGC23_PdH_C0056cut.mp4: 384x640 3 persons, 1 bicycle, 115.0ms\n",
      "video 1/1 (frame 266/375) c:\\Users\\santu\\OneDrive\\Escritorio\\Documentos ULPGC\\VC\\P4\\VC-P4\\TGC23_PdH_C0056cut.mp4: 384x640 3 persons, 1 bicycle, 137.0ms\n",
      "video 1/1 (frame 267/375) c:\\Users\\santu\\OneDrive\\Escritorio\\Documentos ULPGC\\VC\\P4\\VC-P4\\TGC23_PdH_C0056cut.mp4: 384x640 3 persons, 1 bicycle, 125.5ms\n",
      "video 1/1 (frame 268/375) c:\\Users\\santu\\OneDrive\\Escritorio\\Documentos ULPGC\\VC\\P4\\VC-P4\\TGC23_PdH_C0056cut.mp4: 384x640 3 persons, 1 bicycle, 111.0ms\n",
      "video 1/1 (frame 269/375) c:\\Users\\santu\\OneDrive\\Escritorio\\Documentos ULPGC\\VC\\P4\\VC-P4\\TGC23_PdH_C0056cut.mp4: 384x640 3 persons, 1 bicycle, 119.8ms\n",
      "video 1/1 (frame 270/375) c:\\Users\\santu\\OneDrive\\Escritorio\\Documentos ULPGC\\VC\\P4\\VC-P4\\TGC23_PdH_C0056cut.mp4: 384x640 3 persons, 1 bicycle, 156.8ms\n",
      "video 1/1 (frame 271/375) c:\\Users\\santu\\OneDrive\\Escritorio\\Documentos ULPGC\\VC\\P4\\VC-P4\\TGC23_PdH_C0056cut.mp4: 384x640 3 persons, 1 bicycle, 133.5ms\n",
      "video 1/1 (frame 272/375) c:\\Users\\santu\\OneDrive\\Escritorio\\Documentos ULPGC\\VC\\P4\\VC-P4\\TGC23_PdH_C0056cut.mp4: 384x640 3 persons, 1 bicycle, 127.0ms\n",
      "video 1/1 (frame 273/375) c:\\Users\\santu\\OneDrive\\Escritorio\\Documentos ULPGC\\VC\\P4\\VC-P4\\TGC23_PdH_C0056cut.mp4: 384x640 3 persons, 1 bicycle, 117.0ms\n",
      "video 1/1 (frame 274/375) c:\\Users\\santu\\OneDrive\\Escritorio\\Documentos ULPGC\\VC\\P4\\VC-P4\\TGC23_PdH_C0056cut.mp4: 384x640 3 persons, 1 bicycle, 110.0ms\n",
      "video 1/1 (frame 275/375) c:\\Users\\santu\\OneDrive\\Escritorio\\Documentos ULPGC\\VC\\P4\\VC-P4\\TGC23_PdH_C0056cut.mp4: 384x640 3 persons, 1 bicycle, 121.7ms\n",
      "video 1/1 (frame 276/375) c:\\Users\\santu\\OneDrive\\Escritorio\\Documentos ULPGC\\VC\\P4\\VC-P4\\TGC23_PdH_C0056cut.mp4: 384x640 3 persons, 1 bicycle, 124.0ms\n",
      "video 1/1 (frame 277/375) c:\\Users\\santu\\OneDrive\\Escritorio\\Documentos ULPGC\\VC\\P4\\VC-P4\\TGC23_PdH_C0056cut.mp4: 384x640 3 persons, 1 bicycle, 1 tennis racket, 125.0ms\n",
      "video 1/1 (frame 278/375) c:\\Users\\santu\\OneDrive\\Escritorio\\Documentos ULPGC\\VC\\P4\\VC-P4\\TGC23_PdH_C0056cut.mp4: 384x640 3 persons, 1 bicycle, 119.9ms\n",
      "video 1/1 (frame 279/375) c:\\Users\\santu\\OneDrive\\Escritorio\\Documentos ULPGC\\VC\\P4\\VC-P4\\TGC23_PdH_C0056cut.mp4: 384x640 3 persons, 1 bicycle, 152.0ms\n",
      "video 1/1 (frame 280/375) c:\\Users\\santu\\OneDrive\\Escritorio\\Documentos ULPGC\\VC\\P4\\VC-P4\\TGC23_PdH_C0056cut.mp4: 384x640 3 persons, 1 bicycle, 138.0ms\n",
      "video 1/1 (frame 281/375) c:\\Users\\santu\\OneDrive\\Escritorio\\Documentos ULPGC\\VC\\P4\\VC-P4\\TGC23_PdH_C0056cut.mp4: 384x640 3 persons, 1 bicycle, 123.0ms\n",
      "video 1/1 (frame 282/375) c:\\Users\\santu\\OneDrive\\Escritorio\\Documentos ULPGC\\VC\\P4\\VC-P4\\TGC23_PdH_C0056cut.mp4: 384x640 3 persons, 1 bicycle, 116.6ms\n",
      "video 1/1 (frame 283/375) c:\\Users\\santu\\OneDrive\\Escritorio\\Documentos ULPGC\\VC\\P4\\VC-P4\\TGC23_PdH_C0056cut.mp4: 384x640 3 persons, 1 bicycle, 112.0ms\n",
      "video 1/1 (frame 284/375) c:\\Users\\santu\\OneDrive\\Escritorio\\Documentos ULPGC\\VC\\P4\\VC-P4\\TGC23_PdH_C0056cut.mp4: 384x640 4 persons, 1 bicycle, 115.0ms\n",
      "video 1/1 (frame 285/375) c:\\Users\\santu\\OneDrive\\Escritorio\\Documentos ULPGC\\VC\\P4\\VC-P4\\TGC23_PdH_C0056cut.mp4: 384x640 3 persons, 1 bicycle, 112.9ms\n",
      "video 1/1 (frame 286/375) c:\\Users\\santu\\OneDrive\\Escritorio\\Documentos ULPGC\\VC\\P4\\VC-P4\\TGC23_PdH_C0056cut.mp4: 384x640 2 persons, 1 bicycle, 108.0ms\n",
      "video 1/1 (frame 287/375) c:\\Users\\santu\\OneDrive\\Escritorio\\Documentos ULPGC\\VC\\P4\\VC-P4\\TGC23_PdH_C0056cut.mp4: 384x640 2 persons, 1 bicycle, 110.0ms\n",
      "video 1/1 (frame 288/375) c:\\Users\\santu\\OneDrive\\Escritorio\\Documentos ULPGC\\VC\\P4\\VC-P4\\TGC23_PdH_C0056cut.mp4: 384x640 2 persons, 1 bicycle, 132.9ms\n",
      "video 1/1 (frame 289/375) c:\\Users\\santu\\OneDrive\\Escritorio\\Documentos ULPGC\\VC\\P4\\VC-P4\\TGC23_PdH_C0056cut.mp4: 384x640 2 persons, 1 bicycle, 134.0ms\n",
      "video 1/1 (frame 290/375) c:\\Users\\santu\\OneDrive\\Escritorio\\Documentos ULPGC\\VC\\P4\\VC-P4\\TGC23_PdH_C0056cut.mp4: 384x640 2 persons, 1 bicycle, 128.0ms\n",
      "video 1/1 (frame 291/375) c:\\Users\\santu\\OneDrive\\Escritorio\\Documentos ULPGC\\VC\\P4\\VC-P4\\TGC23_PdH_C0056cut.mp4: 384x640 2 persons, 1 bicycle, 113.0ms\n",
      "video 1/1 (frame 292/375) c:\\Users\\santu\\OneDrive\\Escritorio\\Documentos ULPGC\\VC\\P4\\VC-P4\\TGC23_PdH_C0056cut.mp4: 384x640 2 persons, 1 bicycle, 109.0ms\n",
      "video 1/1 (frame 293/375) c:\\Users\\santu\\OneDrive\\Escritorio\\Documentos ULPGC\\VC\\P4\\VC-P4\\TGC23_PdH_C0056cut.mp4: 384x640 2 persons, 1 bicycle, 110.0ms\n",
      "video 1/1 (frame 294/375) c:\\Users\\santu\\OneDrive\\Escritorio\\Documentos ULPGC\\VC\\P4\\VC-P4\\TGC23_PdH_C0056cut.mp4: 384x640 2 persons, 1 bicycle, 110.7ms\n",
      "video 1/1 (frame 295/375) c:\\Users\\santu\\OneDrive\\Escritorio\\Documentos ULPGC\\VC\\P4\\VC-P4\\TGC23_PdH_C0056cut.mp4: 384x640 2 persons, 1 bicycle, 111.0ms\n",
      "video 1/1 (frame 296/375) c:\\Users\\santu\\OneDrive\\Escritorio\\Documentos ULPGC\\VC\\P4\\VC-P4\\TGC23_PdH_C0056cut.mp4: 384x640 2 persons, 1 bicycle, 110.0ms\n",
      "video 1/1 (frame 297/375) c:\\Users\\santu\\OneDrive\\Escritorio\\Documentos ULPGC\\VC\\P4\\VC-P4\\TGC23_PdH_C0056cut.mp4: 384x640 2 persons, 1 bicycle, 115.0ms\n",
      "video 1/1 (frame 298/375) c:\\Users\\santu\\OneDrive\\Escritorio\\Documentos ULPGC\\VC\\P4\\VC-P4\\TGC23_PdH_C0056cut.mp4: 384x640 2 persons, 1 bicycle, 115.0ms\n",
      "video 1/1 (frame 299/375) c:\\Users\\santu\\OneDrive\\Escritorio\\Documentos ULPGC\\VC\\P4\\VC-P4\\TGC23_PdH_C0056cut.mp4: 384x640 2 persons, 1 bicycle, 125.0ms\n",
      "video 1/1 (frame 300/375) c:\\Users\\santu\\OneDrive\\Escritorio\\Documentos ULPGC\\VC\\P4\\VC-P4\\TGC23_PdH_C0056cut.mp4: 384x640 2 persons, 1 bicycle, 110.0ms\n",
      "video 1/1 (frame 301/375) c:\\Users\\santu\\OneDrive\\Escritorio\\Documentos ULPGC\\VC\\P4\\VC-P4\\TGC23_PdH_C0056cut.mp4: 384x640 2 persons, 1 bicycle, 115.0ms\n",
      "video 1/1 (frame 302/375) c:\\Users\\santu\\OneDrive\\Escritorio\\Documentos ULPGC\\VC\\P4\\VC-P4\\TGC23_PdH_C0056cut.mp4: 384x640 2 persons, 1 bicycle, 1 backpack, 126.0ms\n",
      "video 1/1 (frame 303/375) c:\\Users\\santu\\OneDrive\\Escritorio\\Documentos ULPGC\\VC\\P4\\VC-P4\\TGC23_PdH_C0056cut.mp4: 384x640 2 persons, 1 bicycle, 1 backpack, 127.0ms\n",
      "video 1/1 (frame 304/375) c:\\Users\\santu\\OneDrive\\Escritorio\\Documentos ULPGC\\VC\\P4\\VC-P4\\TGC23_PdH_C0056cut.mp4: 384x640 2 persons, 1 bicycle, 1 backpack, 114.0ms\n",
      "video 1/1 (frame 305/375) c:\\Users\\santu\\OneDrive\\Escritorio\\Documentos ULPGC\\VC\\P4\\VC-P4\\TGC23_PdH_C0056cut.mp4: 384x640 2 persons, 1 bicycle, 1 backpack, 108.0ms\n",
      "video 1/1 (frame 306/375) c:\\Users\\santu\\OneDrive\\Escritorio\\Documentos ULPGC\\VC\\P4\\VC-P4\\TGC23_PdH_C0056cut.mp4: 384x640 2 persons, 1 bicycle, 1 backpack, 118.0ms\n",
      "video 1/1 (frame 307/375) c:\\Users\\santu\\OneDrive\\Escritorio\\Documentos ULPGC\\VC\\P4\\VC-P4\\TGC23_PdH_C0056cut.mp4: 384x640 2 persons, 1 bicycle, 110.0ms\n",
      "video 1/1 (frame 308/375) c:\\Users\\santu\\OneDrive\\Escritorio\\Documentos ULPGC\\VC\\P4\\VC-P4\\TGC23_PdH_C0056cut.mp4: 384x640 2 persons, 1 bicycle, 1 backpack, 108.0ms\n",
      "video 1/1 (frame 309/375) c:\\Users\\santu\\OneDrive\\Escritorio\\Documentos ULPGC\\VC\\P4\\VC-P4\\TGC23_PdH_C0056cut.mp4: 384x640 2 persons, 1 bicycle, 1 backpack, 108.0ms\n",
      "video 1/1 (frame 310/375) c:\\Users\\santu\\OneDrive\\Escritorio\\Documentos ULPGC\\VC\\P4\\VC-P4\\TGC23_PdH_C0056cut.mp4: 384x640 2 persons, 1 bicycle, 1 backpack, 141.6ms\n",
      "video 1/1 (frame 311/375) c:\\Users\\santu\\OneDrive\\Escritorio\\Documentos ULPGC\\VC\\P4\\VC-P4\\TGC23_PdH_C0056cut.mp4: 384x640 2 persons, 1 bicycle, 1 backpack, 188.0ms\n",
      "video 1/1 (frame 312/375) c:\\Users\\santu\\OneDrive\\Escritorio\\Documentos ULPGC\\VC\\P4\\VC-P4\\TGC23_PdH_C0056cut.mp4: 384x640 2 persons, 1 bicycle, 1 motorcycle, 1 backpack, 155.0ms\n",
      "video 1/1 (frame 313/375) c:\\Users\\santu\\OneDrive\\Escritorio\\Documentos ULPGC\\VC\\P4\\VC-P4\\TGC23_PdH_C0056cut.mp4: 384x640 2 persons, 1 bicycle, 131.0ms\n",
      "video 1/1 (frame 314/375) c:\\Users\\santu\\OneDrive\\Escritorio\\Documentos ULPGC\\VC\\P4\\VC-P4\\TGC23_PdH_C0056cut.mp4: 384x640 2 persons, 1 bicycle, 119.3ms\n",
      "video 1/1 (frame 315/375) c:\\Users\\santu\\OneDrive\\Escritorio\\Documentos ULPGC\\VC\\P4\\VC-P4\\TGC23_PdH_C0056cut.mp4: 384x640 2 persons, 1 bicycle, 121.0ms\n",
      "video 1/1 (frame 316/375) c:\\Users\\santu\\OneDrive\\Escritorio\\Documentos ULPGC\\VC\\P4\\VC-P4\\TGC23_PdH_C0056cut.mp4: 384x640 2 persons, 128.0ms\n",
      "video 1/1 (frame 317/375) c:\\Users\\santu\\OneDrive\\Escritorio\\Documentos ULPGC\\VC\\P4\\VC-P4\\TGC23_PdH_C0056cut.mp4: 384x640 2 persons, 123.0ms\n",
      "video 1/1 (frame 318/375) c:\\Users\\santu\\OneDrive\\Escritorio\\Documentos ULPGC\\VC\\P4\\VC-P4\\TGC23_PdH_C0056cut.mp4: 384x640 1 person, 115.0ms\n",
      "video 1/1 (frame 319/375) c:\\Users\\santu\\OneDrive\\Escritorio\\Documentos ULPGC\\VC\\P4\\VC-P4\\TGC23_PdH_C0056cut.mp4: 384x640 1 person, 113.0ms\n",
      "video 1/1 (frame 320/375) c:\\Users\\santu\\OneDrive\\Escritorio\\Documentos ULPGC\\VC\\P4\\VC-P4\\TGC23_PdH_C0056cut.mp4: 384x640 1 person, 126.4ms\n",
      "video 1/1 (frame 321/375) c:\\Users\\santu\\OneDrive\\Escritorio\\Documentos ULPGC\\VC\\P4\\VC-P4\\TGC23_PdH_C0056cut.mp4: 384x640 1 person, 115.0ms\n",
      "video 1/1 (frame 322/375) c:\\Users\\santu\\OneDrive\\Escritorio\\Documentos ULPGC\\VC\\P4\\VC-P4\\TGC23_PdH_C0056cut.mp4: 384x640 1 person, 129.0ms\n",
      "video 1/1 (frame 323/375) c:\\Users\\santu\\OneDrive\\Escritorio\\Documentos ULPGC\\VC\\P4\\VC-P4\\TGC23_PdH_C0056cut.mp4: 384x640 1 person, 128.0ms\n",
      "video 1/1 (frame 324/375) c:\\Users\\santu\\OneDrive\\Escritorio\\Documentos ULPGC\\VC\\P4\\VC-P4\\TGC23_PdH_C0056cut.mp4: 384x640 1 person, 123.0ms\n",
      "video 1/1 (frame 325/375) c:\\Users\\santu\\OneDrive\\Escritorio\\Documentos ULPGC\\VC\\P4\\VC-P4\\TGC23_PdH_C0056cut.mp4: 384x640 1 person, 118.6ms\n",
      "video 1/1 (frame 326/375) c:\\Users\\santu\\OneDrive\\Escritorio\\Documentos ULPGC\\VC\\P4\\VC-P4\\TGC23_PdH_C0056cut.mp4: 384x640 1 person, 111.0ms\n",
      "video 1/1 (frame 327/375) c:\\Users\\santu\\OneDrive\\Escritorio\\Documentos ULPGC\\VC\\P4\\VC-P4\\TGC23_PdH_C0056cut.mp4: 384x640 1 person, 108.0ms\n",
      "video 1/1 (frame 328/375) c:\\Users\\santu\\OneDrive\\Escritorio\\Documentos ULPGC\\VC\\P4\\VC-P4\\TGC23_PdH_C0056cut.mp4: 384x640 1 person, 112.0ms\n",
      "video 1/1 (frame 329/375) c:\\Users\\santu\\OneDrive\\Escritorio\\Documentos ULPGC\\VC\\P4\\VC-P4\\TGC23_PdH_C0056cut.mp4: 384x640 1 person, 112.0ms\n",
      "video 1/1 (frame 330/375) c:\\Users\\santu\\OneDrive\\Escritorio\\Documentos ULPGC\\VC\\P4\\VC-P4\\TGC23_PdH_C0056cut.mp4: 384x640 1 person, 114.0ms\n",
      "video 1/1 (frame 331/375) c:\\Users\\santu\\OneDrive\\Escritorio\\Documentos ULPGC\\VC\\P4\\VC-P4\\TGC23_PdH_C0056cut.mp4: 384x640 1 person, 110.0ms\n",
      "video 1/1 (frame 332/375) c:\\Users\\santu\\OneDrive\\Escritorio\\Documentos ULPGC\\VC\\P4\\VC-P4\\TGC23_PdH_C0056cut.mp4: 384x640 1 person, 117.0ms\n",
      "video 1/1 (frame 333/375) c:\\Users\\santu\\OneDrive\\Escritorio\\Documentos ULPGC\\VC\\P4\\VC-P4\\TGC23_PdH_C0056cut.mp4: 384x640 1 person, 127.0ms\n",
      "video 1/1 (frame 334/375) c:\\Users\\santu\\OneDrive\\Escritorio\\Documentos ULPGC\\VC\\P4\\VC-P4\\TGC23_PdH_C0056cut.mp4: 384x640 1 person, 129.0ms\n",
      "video 1/1 (frame 335/375) c:\\Users\\santu\\OneDrive\\Escritorio\\Documentos ULPGC\\VC\\P4\\VC-P4\\TGC23_PdH_C0056cut.mp4: 384x640 1 person, 113.3ms\n",
      "video 1/1 (frame 336/375) c:\\Users\\santu\\OneDrive\\Escritorio\\Documentos ULPGC\\VC\\P4\\VC-P4\\TGC23_PdH_C0056cut.mp4: 384x640 1 person, 108.0ms\n",
      "video 1/1 (frame 337/375) c:\\Users\\santu\\OneDrive\\Escritorio\\Documentos ULPGC\\VC\\P4\\VC-P4\\TGC23_PdH_C0056cut.mp4: 384x640 1 person, 107.0ms\n",
      "video 1/1 (frame 338/375) c:\\Users\\santu\\OneDrive\\Escritorio\\Documentos ULPGC\\VC\\P4\\VC-P4\\TGC23_PdH_C0056cut.mp4: 384x640 1 person, 108.0ms\n",
      "video 1/1 (frame 339/375) c:\\Users\\santu\\OneDrive\\Escritorio\\Documentos ULPGC\\VC\\P4\\VC-P4\\TGC23_PdH_C0056cut.mp4: 384x640 1 person, 106.0ms\n",
      "video 1/1 (frame 340/375) c:\\Users\\santu\\OneDrive\\Escritorio\\Documentos ULPGC\\VC\\P4\\VC-P4\\TGC23_PdH_C0056cut.mp4: 384x640 1 person, 111.0ms\n",
      "video 1/1 (frame 341/375) c:\\Users\\santu\\OneDrive\\Escritorio\\Documentos ULPGC\\VC\\P4\\VC-P4\\TGC23_PdH_C0056cut.mp4: 384x640 1 person, 119.0ms\n",
      "video 1/1 (frame 342/375) c:\\Users\\santu\\OneDrive\\Escritorio\\Documentos ULPGC\\VC\\P4\\VC-P4\\TGC23_PdH_C0056cut.mp4: 384x640 1 person, 117.0ms\n",
      "video 1/1 (frame 343/375) c:\\Users\\santu\\OneDrive\\Escritorio\\Documentos ULPGC\\VC\\P4\\VC-P4\\TGC23_PdH_C0056cut.mp4: 384x640 1 person, 109.0ms\n",
      "video 1/1 (frame 344/375) c:\\Users\\santu\\OneDrive\\Escritorio\\Documentos ULPGC\\VC\\P4\\VC-P4\\TGC23_PdH_C0056cut.mp4: 384x640 1 person, 112.0ms\n",
      "video 1/1 (frame 345/375) c:\\Users\\santu\\OneDrive\\Escritorio\\Documentos ULPGC\\VC\\P4\\VC-P4\\TGC23_PdH_C0056cut.mp4: 384x640 1 person, 106.0ms\n",
      "video 1/1 (frame 346/375) c:\\Users\\santu\\OneDrive\\Escritorio\\Documentos ULPGC\\VC\\P4\\VC-P4\\TGC23_PdH_C0056cut.mp4: 384x640 1 person, 107.0ms\n",
      "video 1/1 (frame 347/375) c:\\Users\\santu\\OneDrive\\Escritorio\\Documentos ULPGC\\VC\\P4\\VC-P4\\TGC23_PdH_C0056cut.mp4: 384x640 1 person, 113.0ms\n",
      "video 1/1 (frame 348/375) c:\\Users\\santu\\OneDrive\\Escritorio\\Documentos ULPGC\\VC\\P4\\VC-P4\\TGC23_PdH_C0056cut.mp4: 384x640 1 person, 110.0ms\n",
      "video 1/1 (frame 349/375) c:\\Users\\santu\\OneDrive\\Escritorio\\Documentos ULPGC\\VC\\P4\\VC-P4\\TGC23_PdH_C0056cut.mp4: 384x640 1 person, 107.0ms\n",
      "video 1/1 (frame 350/375) c:\\Users\\santu\\OneDrive\\Escritorio\\Documentos ULPGC\\VC\\P4\\VC-P4\\TGC23_PdH_C0056cut.mp4: 384x640 1 person, 112.0ms\n",
      "video 1/1 (frame 351/375) c:\\Users\\santu\\OneDrive\\Escritorio\\Documentos ULPGC\\VC\\P4\\VC-P4\\TGC23_PdH_C0056cut.mp4: 384x640 1 person, 124.8ms\n",
      "video 1/1 (frame 352/375) c:\\Users\\santu\\OneDrive\\Escritorio\\Documentos ULPGC\\VC\\P4\\VC-P4\\TGC23_PdH_C0056cut.mp4: 384x640 1 person, 143.9ms\n",
      "video 1/1 (frame 353/375) c:\\Users\\santu\\OneDrive\\Escritorio\\Documentos ULPGC\\VC\\P4\\VC-P4\\TGC23_PdH_C0056cut.mp4: 384x640 1 person, 110.0ms\n",
      "video 1/1 (frame 354/375) c:\\Users\\santu\\OneDrive\\Escritorio\\Documentos ULPGC\\VC\\P4\\VC-P4\\TGC23_PdH_C0056cut.mp4: 384x640 1 person, 109.0ms\n",
      "video 1/1 (frame 355/375) c:\\Users\\santu\\OneDrive\\Escritorio\\Documentos ULPGC\\VC\\P4\\VC-P4\\TGC23_PdH_C0056cut.mp4: 384x640 1 person, 109.0ms\n",
      "video 1/1 (frame 356/375) c:\\Users\\santu\\OneDrive\\Escritorio\\Documentos ULPGC\\VC\\P4\\VC-P4\\TGC23_PdH_C0056cut.mp4: 384x640 1 person, 110.4ms\n",
      "video 1/1 (frame 357/375) c:\\Users\\santu\\OneDrive\\Escritorio\\Documentos ULPGC\\VC\\P4\\VC-P4\\TGC23_PdH_C0056cut.mp4: 384x640 1 person, 114.0ms\n",
      "video 1/1 (frame 358/375) c:\\Users\\santu\\OneDrive\\Escritorio\\Documentos ULPGC\\VC\\P4\\VC-P4\\TGC23_PdH_C0056cut.mp4: 384x640 1 person, 119.0ms\n",
      "video 1/1 (frame 359/375) c:\\Users\\santu\\OneDrive\\Escritorio\\Documentos ULPGC\\VC\\P4\\VC-P4\\TGC23_PdH_C0056cut.mp4: 384x640 1 person, 114.0ms\n",
      "video 1/1 (frame 360/375) c:\\Users\\santu\\OneDrive\\Escritorio\\Documentos ULPGC\\VC\\P4\\VC-P4\\TGC23_PdH_C0056cut.mp4: 384x640 1 person, 109.1ms\n",
      "video 1/1 (frame 361/375) c:\\Users\\santu\\OneDrive\\Escritorio\\Documentos ULPGC\\VC\\P4\\VC-P4\\TGC23_PdH_C0056cut.mp4: 384x640 1 person, 110.6ms\n",
      "video 1/1 (frame 362/375) c:\\Users\\santu\\OneDrive\\Escritorio\\Documentos ULPGC\\VC\\P4\\VC-P4\\TGC23_PdH_C0056cut.mp4: 384x640 1 person, 107.0ms\n",
      "video 1/1 (frame 363/375) c:\\Users\\santu\\OneDrive\\Escritorio\\Documentos ULPGC\\VC\\P4\\VC-P4\\TGC23_PdH_C0056cut.mp4: 384x640 1 person, 111.0ms\n",
      "video 1/1 (frame 364/375) c:\\Users\\santu\\OneDrive\\Escritorio\\Documentos ULPGC\\VC\\P4\\VC-P4\\TGC23_PdH_C0056cut.mp4: 384x640 1 person, 117.4ms\n",
      "video 1/1 (frame 365/375) c:\\Users\\santu\\OneDrive\\Escritorio\\Documentos ULPGC\\VC\\P4\\VC-P4\\TGC23_PdH_C0056cut.mp4: 384x640 1 person, 113.0ms\n",
      "video 1/1 (frame 366/375) c:\\Users\\santu\\OneDrive\\Escritorio\\Documentos ULPGC\\VC\\P4\\VC-P4\\TGC23_PdH_C0056cut.mp4: 384x640 1 person, 109.0ms\n",
      "video 1/1 (frame 367/375) c:\\Users\\santu\\OneDrive\\Escritorio\\Documentos ULPGC\\VC\\P4\\VC-P4\\TGC23_PdH_C0056cut.mp4: 384x640 1 person, 110.0ms\n",
      "video 1/1 (frame 368/375) c:\\Users\\santu\\OneDrive\\Escritorio\\Documentos ULPGC\\VC\\P4\\VC-P4\\TGC23_PdH_C0056cut.mp4: 384x640 1 person, 110.0ms\n",
      "video 1/1 (frame 369/375) c:\\Users\\santu\\OneDrive\\Escritorio\\Documentos ULPGC\\VC\\P4\\VC-P4\\TGC23_PdH_C0056cut.mp4: 384x640 1 person, 108.4ms\n",
      "video 1/1 (frame 370/375) c:\\Users\\santu\\OneDrive\\Escritorio\\Documentos ULPGC\\VC\\P4\\VC-P4\\TGC23_PdH_C0056cut.mp4: 384x640 1 person, 107.0ms\n",
      "video 1/1 (frame 371/375) c:\\Users\\santu\\OneDrive\\Escritorio\\Documentos ULPGC\\VC\\P4\\VC-P4\\TGC23_PdH_C0056cut.mp4: 384x640 1 person, 109.2ms\n",
      "video 1/1 (frame 372/375) c:\\Users\\santu\\OneDrive\\Escritorio\\Documentos ULPGC\\VC\\P4\\VC-P4\\TGC23_PdH_C0056cut.mp4: 384x640 1 person, 113.0ms\n",
      "video 1/1 (frame 373/375) c:\\Users\\santu\\OneDrive\\Escritorio\\Documentos ULPGC\\VC\\P4\\VC-P4\\TGC23_PdH_C0056cut.mp4: 384x640 1 person, 117.0ms\n",
      "video 1/1 (frame 374/375) c:\\Users\\santu\\OneDrive\\Escritorio\\Documentos ULPGC\\VC\\P4\\VC-P4\\TGC23_PdH_C0056cut.mp4: 384x640 1 person, 109.4ms\n",
      "video 1/1 (frame 375/375) c:\\Users\\santu\\OneDrive\\Escritorio\\Documentos ULPGC\\VC\\P4\\VC-P4\\TGC23_PdH_C0056cut.mp4: 384x640 1 person, 108.0ms\n",
      "Speed: 2.7ms preprocess, 120.8ms inference, 5.9ms postprocess per image at shape (1, 3, 384, 640)\n"
     ]
    }
   ],
   "source": [
    "# Carga del modelo\n",
    "#model = YOLO('yolo11n.pt') #Contenedores\n",
    "model = YOLO('yolo11n-seg.pt') #Máscaras\n",
    "#model = YOLO('yolo11n-pose.pt')  #Pose\n",
    "\n",
    "#Para un vídeo \n",
    "filename = \"TGC23_PdH_C0056cut.mp4\"\n",
    "results = model(filename, show=True)\n",
    "\n",
    "cv2.destroyAllWindows()"
   ]
  },
  {
   "cell_type": "markdown",
   "metadata": {},
   "source": [
    "Desde cámara, detección con yolo11, modelo nano. Visualización propia con OpenCV"
   ]
  },
  {
   "cell_type": "code",
   "execution_count": 3,
   "metadata": {},
   "outputs": [
    {
     "name": "stdout",
     "output_type": "stream",
     "text": [
      "\n",
      "0: 480x640 2 persons, 136.5ms\n",
      "Confianza ---> 0.92\n",
      "Clase --> person\n",
      "Confianza ---> 0.61\n",
      "Clase --> person\n",
      "Speed: 3.0ms preprocess, 136.5ms inference, 2.0ms postprocess per image at shape (1, 3, 480, 640)\n",
      "\n",
      "0: 480x640 2 persons, 114.5ms\n",
      "Confianza ---> 0.87\n",
      "Clase --> person\n",
      "Confianza ---> 0.61\n",
      "Clase --> person\n",
      "Speed: 2.5ms preprocess, 114.5ms inference, 1.0ms postprocess per image at shape (1, 3, 480, 640)\n",
      "\n",
      "0: 480x640 3 persons, 1 donut, 125.1ms\n",
      "Confianza ---> 0.87\n",
      "Clase --> person\n",
      "Confianza ---> 0.58\n",
      "Clase --> person\n",
      "Confianza ---> 0.31\n",
      "Clase --> person\n",
      "Confianza ---> 0.28\n",
      "Clase --> donut\n",
      "Speed: 4.2ms preprocess, 125.1ms inference, 2.0ms postprocess per image at shape (1, 3, 480, 640)\n",
      "\n",
      "0: 480x640 2 persons, 160.5ms\n",
      "Confianza ---> 0.9\n",
      "Clase --> person\n",
      "Confianza ---> 0.58\n",
      "Clase --> person\n",
      "Speed: 3.0ms preprocess, 160.5ms inference, 2.0ms postprocess per image at shape (1, 3, 480, 640)\n",
      "\n",
      "0: 480x640 2 persons, 108.5ms\n",
      "Confianza ---> 0.86\n",
      "Clase --> person\n",
      "Confianza ---> 0.61\n",
      "Clase --> person\n",
      "Speed: 3.0ms preprocess, 108.5ms inference, 1.0ms postprocess per image at shape (1, 3, 480, 640)\n",
      "\n",
      "0: 480x640 3 persons, 103.5ms\n",
      "Confianza ---> 0.9\n",
      "Clase --> person\n",
      "Confianza ---> 0.55\n",
      "Clase --> person\n",
      "Confianza ---> 0.31\n",
      "Clase --> person\n",
      "Speed: 2.0ms preprocess, 103.5ms inference, 2.0ms postprocess per image at shape (1, 3, 480, 640)\n",
      "\n",
      "0: 480x640 3 persons, 104.5ms\n",
      "Confianza ---> 0.89\n",
      "Clase --> person\n",
      "Confianza ---> 0.58\n",
      "Clase --> person\n",
      "Confianza ---> 0.28\n",
      "Clase --> person\n",
      "Speed: 2.0ms preprocess, 104.5ms inference, 2.1ms postprocess per image at shape (1, 3, 480, 640)\n",
      "\n",
      "0: 480x640 2 persons, 105.5ms\n",
      "Confianza ---> 0.89\n",
      "Clase --> person\n",
      "Confianza ---> 0.59\n",
      "Clase --> person\n",
      "Speed: 2.0ms preprocess, 105.5ms inference, 1.0ms postprocess per image at shape (1, 3, 480, 640)\n",
      "\n",
      "0: 480x640 3 persons, 213.1ms\n",
      "Confianza ---> 0.93\n",
      "Clase --> person\n",
      "Confianza ---> 0.73\n",
      "Clase --> person\n",
      "Confianza ---> 0.28\n",
      "Clase --> person\n",
      "Speed: 2.0ms preprocess, 213.1ms inference, 2.0ms postprocess per image at shape (1, 3, 480, 640)\n",
      "\n",
      "0: 480x640 2 persons, 104.5ms\n",
      "Confianza ---> 0.92\n",
      "Clase --> person\n",
      "Confianza ---> 0.61\n",
      "Clase --> person\n",
      "Speed: 2.0ms preprocess, 104.5ms inference, 2.0ms postprocess per image at shape (1, 3, 480, 640)\n",
      "\n",
      "0: 480x640 2 persons, 103.1ms\n",
      "Confianza ---> 0.89\n",
      "Clase --> person\n",
      "Confianza ---> 0.58\n",
      "Clase --> person\n",
      "Speed: 2.0ms preprocess, 103.1ms inference, 2.0ms postprocess per image at shape (1, 3, 480, 640)\n",
      "\n",
      "0: 480x640 2 persons, 101.5ms\n",
      "Confianza ---> 0.91\n",
      "Clase --> person\n",
      "Confianza ---> 0.53\n",
      "Clase --> person\n",
      "Speed: 3.0ms preprocess, 101.5ms inference, 1.0ms postprocess per image at shape (1, 3, 480, 640)\n",
      "\n",
      "0: 480x640 2 persons, 115.6ms\n",
      "Confianza ---> 0.93\n",
      "Clase --> person\n",
      "Confianza ---> 0.48\n",
      "Clase --> person\n",
      "Speed: 2.0ms preprocess, 115.6ms inference, 1.0ms postprocess per image at shape (1, 3, 480, 640)\n",
      "\n",
      "0: 480x640 3 persons, 99.6ms\n",
      "Confianza ---> 0.88\n",
      "Clase --> person\n",
      "Confianza ---> 0.57\n",
      "Clase --> person\n",
      "Confianza ---> 0.47\n",
      "Clase --> person\n",
      "Speed: 2.0ms preprocess, 99.6ms inference, 2.0ms postprocess per image at shape (1, 3, 480, 640)\n",
      "\n",
      "0: 480x640 1 person, 101.5ms\n",
      "Confianza ---> 0.9\n",
      "Clase --> person\n",
      "Speed: 3.0ms preprocess, 101.5ms inference, 2.0ms postprocess per image at shape (1, 3, 480, 640)\n",
      "\n",
      "0: 480x640 2 persons, 99.5ms\n",
      "Confianza ---> 0.87\n",
      "Clase --> person\n",
      "Confianza ---> 0.27\n",
      "Clase --> person\n",
      "Speed: 2.0ms preprocess, 99.5ms inference, 2.0ms postprocess per image at shape (1, 3, 480, 640)\n",
      "\n",
      "0: 480x640 1 person, 99.6ms\n",
      "Confianza ---> 0.87\n",
      "Clase --> person\n",
      "Speed: 3.0ms preprocess, 99.6ms inference, 2.0ms postprocess per image at shape (1, 3, 480, 640)\n",
      "\n",
      "0: 480x640 2 persons, 98.5ms\n",
      "Confianza ---> 0.84\n",
      "Clase --> person\n",
      "Confianza ---> 0.53\n",
      "Clase --> person\n",
      "Speed: 3.0ms preprocess, 98.5ms inference, 1.0ms postprocess per image at shape (1, 3, 480, 640)\n",
      "\n",
      "0: 480x640 1 person, 116.5ms\n",
      "Confianza ---> 0.92\n",
      "Clase --> person\n",
      "Speed: 3.0ms preprocess, 116.5ms inference, 1.0ms postprocess per image at shape (1, 3, 480, 640)\n",
      "\n",
      "0: 480x640 1 person, 101.6ms\n",
      "Confianza ---> 0.95\n",
      "Clase --> person\n",
      "Speed: 2.0ms preprocess, 101.6ms inference, 1.0ms postprocess per image at shape (1, 3, 480, 640)\n",
      "\n",
      "0: 480x640 1 person, 100.6ms\n",
      "Confianza ---> 0.89\n",
      "Clase --> person\n",
      "Speed: 2.0ms preprocess, 100.6ms inference, 1.0ms postprocess per image at shape (1, 3, 480, 640)\n",
      "\n",
      "0: 480x640 1 person, 110.5ms\n",
      "Confianza ---> 0.86\n",
      "Clase --> person\n",
      "Speed: 2.0ms preprocess, 110.5ms inference, 1.0ms postprocess per image at shape (1, 3, 480, 640)\n",
      "\n",
      "0: 480x640 1 person, 99.8ms\n",
      "Confianza ---> 0.78\n",
      "Clase --> person\n",
      "Speed: 3.0ms preprocess, 99.8ms inference, 2.0ms postprocess per image at shape (1, 3, 480, 640)\n",
      "\n",
      "0: 480x640 1 person, 101.5ms\n",
      "Confianza ---> 0.88\n",
      "Clase --> person\n",
      "Speed: 2.0ms preprocess, 101.5ms inference, 1.0ms postprocess per image at shape (1, 3, 480, 640)\n",
      "\n",
      "0: 480x640 1 person, 98.5ms\n",
      "Confianza ---> 0.9\n",
      "Clase --> person\n",
      "Speed: 2.0ms preprocess, 98.5ms inference, 1.0ms postprocess per image at shape (1, 3, 480, 640)\n",
      "\n",
      "0: 480x640 1 person, 99.6ms\n",
      "Confianza ---> 0.9\n",
      "Clase --> person\n",
      "Speed: 3.0ms preprocess, 99.6ms inference, 2.0ms postprocess per image at shape (1, 3, 480, 640)\n",
      "\n",
      "0: 480x640 1 person, 98.5ms\n",
      "Confianza ---> 0.89\n",
      "Clase --> person\n",
      "Speed: 2.0ms preprocess, 98.5ms inference, 2.0ms postprocess per image at shape (1, 3, 480, 640)\n",
      "\n",
      "0: 480x640 1 person, 101.5ms\n",
      "Confianza ---> 0.86\n",
      "Clase --> person\n",
      "Speed: 2.0ms preprocess, 101.5ms inference, 1.0ms postprocess per image at shape (1, 3, 480, 640)\n",
      "\n",
      "0: 480x640 1 person, 97.5ms\n",
      "Confianza ---> 0.78\n",
      "Clase --> person\n",
      "Speed: 2.0ms preprocess, 97.5ms inference, 1.0ms postprocess per image at shape (1, 3, 480, 640)\n",
      "\n",
      "0: 480x640 1 person, 100.5ms\n",
      "Confianza ---> 0.88\n",
      "Clase --> person\n",
      "Speed: 2.0ms preprocess, 100.5ms inference, 1.0ms postprocess per image at shape (1, 3, 480, 640)\n",
      "\n",
      "0: 480x640 1 person, 100.5ms\n",
      "Confianza ---> 0.87\n",
      "Clase --> person\n",
      "Speed: 2.0ms preprocess, 100.5ms inference, 2.1ms postprocess per image at shape (1, 3, 480, 640)\n",
      "\n",
      "0: 480x640 1 person, 98.7ms\n",
      "Confianza ---> 0.89\n",
      "Clase --> person\n",
      "Speed: 2.0ms preprocess, 98.7ms inference, 1.0ms postprocess per image at shape (1, 3, 480, 640)\n",
      "\n",
      "0: 480x640 2 persons, 98.5ms\n",
      "Confianza ---> 0.91\n",
      "Clase --> person\n",
      "Confianza ---> 0.46\n",
      "Clase --> person\n",
      "Speed: 2.0ms preprocess, 98.5ms inference, 1.0ms postprocess per image at shape (1, 3, 480, 640)\n",
      "\n",
      "0: 480x640 2 persons, 100.5ms\n",
      "Confianza ---> 0.91\n",
      "Clase --> person\n",
      "Confianza ---> 0.57\n",
      "Clase --> person\n",
      "Speed: 3.0ms preprocess, 100.5ms inference, 2.0ms postprocess per image at shape (1, 3, 480, 640)\n",
      "\n",
      "0: 480x640 1 person, 100.5ms\n",
      "Confianza ---> 0.92\n",
      "Clase --> person\n",
      "Speed: 2.0ms preprocess, 100.5ms inference, 1.0ms postprocess per image at shape (1, 3, 480, 640)\n",
      "\n",
      "0: 480x640 1 person, 103.1ms\n",
      "Confianza ---> 0.91\n",
      "Clase --> person\n",
      "Speed: 2.0ms preprocess, 103.1ms inference, 1.0ms postprocess per image at shape (1, 3, 480, 640)\n",
      "\n",
      "0: 480x640 1 person, 103.5ms\n",
      "Confianza ---> 0.93\n",
      "Clase --> person\n",
      "Speed: 2.0ms preprocess, 103.5ms inference, 1.0ms postprocess per image at shape (1, 3, 480, 640)\n",
      "\n",
      "0: 480x640 1 person, 100.5ms\n",
      "Confianza ---> 0.94\n",
      "Clase --> person\n",
      "Speed: 2.0ms preprocess, 100.5ms inference, 2.0ms postprocess per image at shape (1, 3, 480, 640)\n",
      "\n",
      "0: 480x640 1 person, 100.6ms\n",
      "Confianza ---> 0.95\n",
      "Clase --> person\n",
      "Speed: 2.0ms preprocess, 100.6ms inference, 1.0ms postprocess per image at shape (1, 3, 480, 640)\n",
      "\n",
      "0: 480x640 1 person, 96.6ms\n",
      "Confianza ---> 0.94\n",
      "Clase --> person\n",
      "Speed: 3.0ms preprocess, 96.6ms inference, 1.0ms postprocess per image at shape (1, 3, 480, 640)\n",
      "\n",
      "0: 480x640 1 person, 95.6ms\n",
      "Confianza ---> 0.95\n",
      "Clase --> person\n",
      "Speed: 2.0ms preprocess, 95.6ms inference, 2.0ms postprocess per image at shape (1, 3, 480, 640)\n",
      "\n",
      "0: 480x640 1 person, 100.6ms\n",
      "Confianza ---> 0.94\n",
      "Clase --> person\n",
      "Speed: 2.0ms preprocess, 100.6ms inference, 1.0ms postprocess per image at shape (1, 3, 480, 640)\n",
      "\n",
      "0: 480x640 1 person, 109.5ms\n",
      "Confianza ---> 0.94\n",
      "Clase --> person\n",
      "Speed: 2.0ms preprocess, 109.5ms inference, 2.0ms postprocess per image at shape (1, 3, 480, 640)\n",
      "\n",
      "0: 480x640 1 person, 100.6ms\n",
      "Confianza ---> 0.93\n",
      "Clase --> person\n",
      "Speed: 2.5ms preprocess, 100.6ms inference, 1.0ms postprocess per image at shape (1, 3, 480, 640)\n",
      "\n",
      "0: 480x640 1 person, 101.6ms\n",
      "Confianza ---> 0.94\n",
      "Clase --> person\n",
      "Speed: 2.0ms preprocess, 101.6ms inference, 2.0ms postprocess per image at shape (1, 3, 480, 640)\n",
      "\n",
      "0: 480x640 1 person, 100.5ms\n",
      "Confianza ---> 0.94\n",
      "Clase --> person\n",
      "Speed: 2.0ms preprocess, 100.5ms inference, 2.0ms postprocess per image at shape (1, 3, 480, 640)\n",
      "\n",
      "0: 480x640 1 person, 99.5ms\n",
      "Confianza ---> 0.94\n",
      "Clase --> person\n",
      "Speed: 2.0ms preprocess, 99.5ms inference, 1.0ms postprocess per image at shape (1, 3, 480, 640)\n",
      "\n",
      "0: 480x640 1 person, 99.5ms\n",
      "Confianza ---> 0.94\n",
      "Clase --> person\n",
      "Speed: 2.0ms preprocess, 99.5ms inference, 1.0ms postprocess per image at shape (1, 3, 480, 640)\n",
      "\n",
      "0: 480x640 1 person, 99.5ms\n",
      "Confianza ---> 0.94\n",
      "Clase --> person\n",
      "Speed: 2.0ms preprocess, 99.5ms inference, 2.0ms postprocess per image at shape (1, 3, 480, 640)\n",
      "\n",
      "0: 480x640 1 person, 151.5ms\n",
      "Confianza ---> 0.94\n",
      "Clase --> person\n",
      "Speed: 2.0ms preprocess, 151.5ms inference, 1.5ms postprocess per image at shape (1, 3, 480, 640)\n",
      "\n",
      "0: 480x640 1 person, 99.5ms\n",
      "Confianza ---> 0.93\n",
      "Clase --> person\n",
      "Speed: 2.0ms preprocess, 99.5ms inference, 2.0ms postprocess per image at shape (1, 3, 480, 640)\n",
      "\n",
      "0: 480x640 1 person, 100.5ms\n",
      "Confianza ---> 0.94\n",
      "Clase --> person\n",
      "Speed: 2.0ms preprocess, 100.5ms inference, 2.0ms postprocess per image at shape (1, 3, 480, 640)\n",
      "\n",
      "0: 480x640 1 person, 99.6ms\n",
      "Confianza ---> 0.92\n",
      "Clase --> person\n",
      "Speed: 2.0ms preprocess, 99.6ms inference, 1.0ms postprocess per image at shape (1, 3, 480, 640)\n",
      "\n",
      "0: 480x640 1 person, 99.5ms\n",
      "Confianza ---> 0.92\n",
      "Clase --> person\n",
      "Speed: 2.0ms preprocess, 99.5ms inference, 1.0ms postprocess per image at shape (1, 3, 480, 640)\n",
      "\n",
      "0: 480x640 1 person, 100.5ms\n",
      "Confianza ---> 0.91\n",
      "Clase --> person\n",
      "Speed: 2.0ms preprocess, 100.5ms inference, 1.0ms postprocess per image at shape (1, 3, 480, 640)\n",
      "\n",
      "0: 480x640 1 person, 100.5ms\n",
      "Confianza ---> 0.91\n",
      "Clase --> person\n",
      "Speed: 2.0ms preprocess, 100.5ms inference, 1.0ms postprocess per image at shape (1, 3, 480, 640)\n",
      "\n",
      "0: 480x640 1 person, 100.6ms\n",
      "Confianza ---> 0.92\n",
      "Clase --> person\n",
      "Speed: 3.0ms preprocess, 100.6ms inference, 1.0ms postprocess per image at shape (1, 3, 480, 640)\n",
      "\n",
      "0: 480x640 1 person, 109.5ms\n",
      "Confianza ---> 0.92\n",
      "Clase --> person\n",
      "Speed: 2.0ms preprocess, 109.5ms inference, 2.0ms postprocess per image at shape (1, 3, 480, 640)\n",
      "\n",
      "0: 480x640 1 person, 110.5ms\n",
      "Confianza ---> 0.92\n",
      "Clase --> person\n",
      "Speed: 2.0ms preprocess, 110.5ms inference, 2.0ms postprocess per image at shape (1, 3, 480, 640)\n",
      "\n",
      "0: 480x640 1 person, 103.5ms\n",
      "Confianza ---> 0.91\n",
      "Clase --> person\n",
      "Speed: 3.0ms preprocess, 103.5ms inference, 2.0ms postprocess per image at shape (1, 3, 480, 640)\n",
      "\n",
      "0: 480x640 1 person, 106.5ms\n",
      "Confianza ---> 0.92\n",
      "Clase --> person\n",
      "Speed: 3.0ms preprocess, 106.5ms inference, 1.0ms postprocess per image at shape (1, 3, 480, 640)\n",
      "\n",
      "0: 480x640 1 person, 111.2ms\n",
      "Confianza ---> 0.92\n",
      "Clase --> person\n",
      "Speed: 2.0ms preprocess, 111.2ms inference, 1.0ms postprocess per image at shape (1, 3, 480, 640)\n",
      "\n",
      "0: 480x640 1 person, 138.6ms\n",
      "Confianza ---> 0.92\n",
      "Clase --> person\n",
      "Speed: 2.0ms preprocess, 138.6ms inference, 2.5ms postprocess per image at shape (1, 3, 480, 640)\n",
      "\n",
      "0: 480x640 1 person, 176.3ms\n",
      "Confianza ---> 0.92\n",
      "Clase --> person\n",
      "Speed: 5.0ms preprocess, 176.3ms inference, 3.0ms postprocess per image at shape (1, 3, 480, 640)\n",
      "\n",
      "0: 480x640 1 person, 152.2ms\n",
      "Confianza ---> 0.92\n",
      "Clase --> person\n",
      "Speed: 3.0ms preprocess, 152.2ms inference, 2.0ms postprocess per image at shape (1, 3, 480, 640)\n",
      "\n",
      "0: 480x640 1 person, 157.9ms\n",
      "Confianza ---> 0.92\n",
      "Clase --> person\n",
      "Speed: 2.0ms preprocess, 157.9ms inference, 2.0ms postprocess per image at shape (1, 3, 480, 640)\n",
      "\n",
      "0: 480x640 1 person, 109.5ms\n",
      "Confianza ---> 0.93\n",
      "Clase --> person\n",
      "Speed: 2.0ms preprocess, 109.5ms inference, 2.0ms postprocess per image at shape (1, 3, 480, 640)\n",
      "\n",
      "0: 480x640 1 person, 102.8ms\n",
      "Confianza ---> 0.93\n",
      "Clase --> person\n",
      "Speed: 2.0ms preprocess, 102.8ms inference, 2.0ms postprocess per image at shape (1, 3, 480, 640)\n",
      "\n",
      "0: 480x640 1 person, 105.8ms\n",
      "Confianza ---> 0.93\n",
      "Clase --> person\n",
      "Speed: 2.0ms preprocess, 105.8ms inference, 1.0ms postprocess per image at shape (1, 3, 480, 640)\n",
      "\n",
      "0: 480x640 1 person, 109.1ms\n",
      "Confianza ---> 0.93\n",
      "Clase --> person\n",
      "Speed: 3.0ms preprocess, 109.1ms inference, 2.0ms postprocess per image at shape (1, 3, 480, 640)\n",
      "\n",
      "0: 480x640 1 person, 125.5ms\n",
      "Confianza ---> 0.92\n",
      "Clase --> person\n",
      "Speed: 2.0ms preprocess, 125.5ms inference, 1.0ms postprocess per image at shape (1, 3, 480, 640)\n",
      "\n",
      "0: 480x640 1 person, 102.5ms\n",
      "Confianza ---> 0.93\n",
      "Clase --> person\n",
      "Speed: 3.0ms preprocess, 102.5ms inference, 1.5ms postprocess per image at shape (1, 3, 480, 640)\n",
      "\n",
      "0: 480x640 1 person, 108.6ms\n",
      "Confianza ---> 0.93\n",
      "Clase --> person\n",
      "Speed: 2.0ms preprocess, 108.6ms inference, 2.0ms postprocess per image at shape (1, 3, 480, 640)\n",
      "\n",
      "0: 480x640 1 person, 104.5ms\n",
      "Confianza ---> 0.92\n",
      "Clase --> person\n",
      "Speed: 3.0ms preprocess, 104.5ms inference, 1.0ms postprocess per image at shape (1, 3, 480, 640)\n",
      "\n",
      "0: 480x640 1 person, 101.5ms\n",
      "Confianza ---> 0.92\n",
      "Clase --> person\n",
      "Speed: 3.0ms preprocess, 101.5ms inference, 2.0ms postprocess per image at shape (1, 3, 480, 640)\n",
      "\n",
      "0: 480x640 1 person, 101.5ms\n",
      "Confianza ---> 0.92\n",
      "Clase --> person\n",
      "Speed: 3.0ms preprocess, 101.5ms inference, 1.0ms postprocess per image at shape (1, 3, 480, 640)\n",
      "\n",
      "0: 480x640 1 person, 120.6ms\n",
      "Confianza ---> 0.92\n",
      "Clase --> person\n",
      "Speed: 2.5ms preprocess, 120.6ms inference, 1.0ms postprocess per image at shape (1, 3, 480, 640)\n",
      "\n",
      "0: 480x640 1 person, 113.1ms\n",
      "Confianza ---> 0.93\n",
      "Clase --> person\n",
      "Speed: 4.0ms preprocess, 113.1ms inference, 2.0ms postprocess per image at shape (1, 3, 480, 640)\n",
      "\n",
      "0: 480x640 1 person, 106.5ms\n",
      "Confianza ---> 0.93\n",
      "Clase --> person\n",
      "Speed: 2.0ms preprocess, 106.5ms inference, 1.0ms postprocess per image at shape (1, 3, 480, 640)\n",
      "\n",
      "0: 480x640 1 person, 105.5ms\n",
      "Confianza ---> 0.93\n",
      "Clase --> person\n",
      "Speed: 3.0ms preprocess, 105.5ms inference, 2.0ms postprocess per image at shape (1, 3, 480, 640)\n",
      "\n",
      "0: 480x640 1 person, 107.5ms\n",
      "Confianza ---> 0.92\n",
      "Clase --> person\n",
      "Speed: 2.0ms preprocess, 107.5ms inference, 2.0ms postprocess per image at shape (1, 3, 480, 640)\n",
      "\n",
      "0: 480x640 1 person, 116.5ms\n",
      "Confianza ---> 0.92\n",
      "Clase --> person\n",
      "Speed: 3.0ms preprocess, 116.5ms inference, 2.0ms postprocess per image at shape (1, 3, 480, 640)\n",
      "\n",
      "0: 480x640 1 person, 115.5ms\n",
      "Confianza ---> 0.93\n",
      "Clase --> person\n",
      "Speed: 2.0ms preprocess, 115.5ms inference, 1.0ms postprocess per image at shape (1, 3, 480, 640)\n",
      "\n",
      "0: 480x640 1 person, 107.5ms\n",
      "Confianza ---> 0.93\n",
      "Clase --> person\n",
      "Speed: 2.0ms preprocess, 107.5ms inference, 2.0ms postprocess per image at shape (1, 3, 480, 640)\n",
      "\n",
      "0: 480x640 1 person, 110.5ms\n",
      "Confianza ---> 0.92\n",
      "Clase --> person\n",
      "Speed: 2.0ms preprocess, 110.5ms inference, 2.0ms postprocess per image at shape (1, 3, 480, 640)\n",
      "\n",
      "0: 480x640 1 person, 106.6ms\n",
      "Confianza ---> 0.92\n",
      "Clase --> person\n",
      "Speed: 2.0ms preprocess, 106.6ms inference, 2.0ms postprocess per image at shape (1, 3, 480, 640)\n",
      "\n",
      "0: 480x640 1 person, 103.7ms\n",
      "Confianza ---> 0.92\n",
      "Clase --> person\n",
      "Speed: 2.0ms preprocess, 103.7ms inference, 1.0ms postprocess per image at shape (1, 3, 480, 640)\n",
      "\n",
      "0: 480x640 1 person, 105.7ms\n",
      "Confianza ---> 0.91\n",
      "Clase --> person\n",
      "Speed: 2.0ms preprocess, 105.7ms inference, 1.0ms postprocess per image at shape (1, 3, 480, 640)\n",
      "\n",
      "0: 480x640 1 person, 106.5ms\n",
      "Confianza ---> 0.92\n",
      "Clase --> person\n",
      "Speed: 3.0ms preprocess, 106.5ms inference, 1.0ms postprocess per image at shape (1, 3, 480, 640)\n",
      "\n",
      "0: 480x640 1 person, 98.5ms\n",
      "Confianza ---> 0.92\n",
      "Clase --> person\n",
      "Speed: 2.0ms preprocess, 98.5ms inference, 1.0ms postprocess per image at shape (1, 3, 480, 640)\n",
      "\n",
      "0: 480x640 1 person, 100.5ms\n",
      "Confianza ---> 0.94\n",
      "Clase --> person\n",
      "Speed: 2.0ms preprocess, 100.5ms inference, 2.0ms postprocess per image at shape (1, 3, 480, 640)\n",
      "\n",
      "0: 480x640 1 person, 102.5ms\n",
      "Confianza ---> 0.92\n",
      "Clase --> person\n",
      "Speed: 2.0ms preprocess, 102.5ms inference, 1.0ms postprocess per image at shape (1, 3, 480, 640)\n"
     ]
    }
   ],
   "source": [
    "# Carga del modelo, descarga en disco si no está presente en la carpeta\n",
    "model = YOLO('yolo11n.pt') #Contenedores\n",
    "\n",
    "# Etiqueta de las distintas clases\n",
    "classNames = [\"person\", \"bicycle\", \"car\", \"motorbike\", \"aeroplane\", \"bus\", \"train\", \"truck\", \"boat\",\n",
    "              \"traffic light\", \"fire hydrant\", \"stop sign\", \"parking meter\", \"bench\", \"bird\", \"cat\",\n",
    "              \"dog\", \"horse\", \"sheep\", \"cow\", \"elephant\", \"bear\", \"zebra\", \"giraffe\", \"backpack\", \"umbrella\",\n",
    "              \"handbag\", \"tie\", \"suitcase\", \"frisbee\", \"skis\", \"snowboard\", \"sports ball\", \"kite\", \"baseball bat\",\n",
    "              \"baseball glove\", \"skateboard\", \"surfboard\", \"tennis racket\", \"bottle\", \"wine glass\", \"cup\",\n",
    "              \"fork\", \"knife\", \"spoon\", \"bowl\", \"banana\", \"apple\", \"sandwich\", \"orange\", \"broccoli\",\n",
    "              \"carrot\", \"hot dog\", \"pizza\", \"donut\", \"cake\", \"chair\", \"sofa\", \"pottedplant\", \"bed\",\n",
    "              \"diningtable\", \"toilet\", \"tvmonitor\", \"laptop\", \"mouse\", \"remote\", \"keyboard\", \"cell phone\",\n",
    "              \"microwave\", \"oven\", \"toaster\", \"sink\", \"refrigerator\", \"book\", \"clock\", \"vase\", \"scissors\",\n",
    "              \"teddy bear\", \"hair drier\", \"toothbrush\"\n",
    "              ]\n",
    "\n",
    "\n",
    "# Captura desde la webcam\n",
    "vid = cv2.VideoCapture(0)\n",
    "  \n",
    "while(True):      \n",
    "    # fotograma a fotograma\n",
    "    ret, img = vid.read()\n",
    "  \n",
    "    # si hay imagen válida\n",
    "    if ret:  \n",
    "        # Detecta en la imagen\n",
    "        results = model(img, stream=True)\n",
    "        \n",
    "        # Para cada detección\n",
    "        for r in results:\n",
    "            boxes = r.boxes\n",
    "\n",
    "            for box in boxes:\n",
    "                # Contenedor\n",
    "                x1, y1, x2, y2 = box.xyxy[0]\n",
    "                x1, y1, x2, y2 = int(x1), int(y1), int(x2), int(y2) # convert to int values\n",
    "                \n",
    "                # Confianza\n",
    "                confidence = math.ceil((box.conf[0]*100))/100\n",
    "                print(\"Confianza --->\",confidence)\n",
    "\n",
    "                # Clase\n",
    "                cls = int(box.cls[0])\n",
    "                print(\"Clase -->\", classNames[cls])\n",
    "\n",
    "                # Convierte identificador numérico de clase a un color RGB\n",
    "                escala = int((cls / len(classNames)) * 255 * 3)\n",
    "                if escala >= 255*2:\n",
    "                    R = 255\n",
    "                    G = 255\n",
    "                    B = escala - 255*2\n",
    "                else:\n",
    "                    if escala >= 255:\n",
    "                        R = 255\n",
    "                        G = escala - 255\n",
    "                        B = 0\n",
    "                    else:\n",
    "                        R = escala\n",
    "                        G = 0\n",
    "                        B = 0\n",
    "\n",
    "                # Dibuja el contenedor y clase\n",
    "                cv2.rectangle(img, (x1, y1), (x2, y2), (R, G, B), 3)\n",
    "                cv2.putText(img, classNames[cls] , [x1, y1], cv2.FONT_HERSHEY_SIMPLEX, 1, (255, 0, B), 2)\n",
    "\n",
    "        # Muestra fotograma\n",
    "        cv2.imshow('Vid', img)\n",
    "    \n",
    "    # Detenemos pulsado ESC\n",
    "    if cv2.waitKey(20) == 27:\n",
    "        break\n",
    "  \n",
    "# Libera el objeto de captura\n",
    "vid.release()\n",
    "# Destruye ventanas\n",
    "cv2.destroyAllWindows()"
   ]
  },
  {
   "cell_type": "markdown",
   "metadata": {},
   "source": [
    "Seguimiento. Requiere instalar lap con pip install lap"
   ]
  },
  {
   "cell_type": "code",
   "execution_count": 4,
   "metadata": {},
   "outputs": [
    {
     "name": "stdout",
     "output_type": "stream",
     "text": [
      "\n",
      "0: 480x640 1 person, 112.1ms\n",
      "Speed: 3.0ms preprocess, 112.1ms inference, 2.0ms postprocess per image at shape (1, 3, 480, 640)\n",
      "Confianza ---> 0.92\n",
      "Clase --> person\n",
      "\n",
      "0: 480x640 1 person, 125.6ms\n",
      "Speed: 3.0ms preprocess, 125.6ms inference, 2.0ms postprocess per image at shape (1, 3, 480, 640)\n",
      "Confianza ---> 0.85\n",
      "Clase --> person\n",
      "\n",
      "0: 480x640 1 person, 117.5ms\n",
      "Speed: 2.3ms preprocess, 117.5ms inference, 2.0ms postprocess per image at shape (1, 3, 480, 640)\n",
      "Confianza ---> 0.91\n",
      "Clase --> person\n",
      "\n",
      "0: 480x640 1 person, 111.0ms\n",
      "Speed: 3.0ms preprocess, 111.0ms inference, 2.0ms postprocess per image at shape (1, 3, 480, 640)\n",
      "Confianza ---> 0.93\n",
      "Clase --> person\n",
      "\n",
      "0: 480x640 1 person, 106.1ms\n",
      "Speed: 2.0ms preprocess, 106.1ms inference, 2.0ms postprocess per image at shape (1, 3, 480, 640)\n",
      "Confianza ---> 0.92\n",
      "Clase --> person\n",
      "\n",
      "0: 480x640 1 person, 109.5ms\n",
      "Speed: 2.0ms preprocess, 109.5ms inference, 2.0ms postprocess per image at shape (1, 3, 480, 640)\n",
      "Confianza ---> 0.93\n",
      "Clase --> person\n",
      "\n",
      "0: 480x640 1 person, 105.1ms\n",
      "Speed: 2.0ms preprocess, 105.1ms inference, 2.1ms postprocess per image at shape (1, 3, 480, 640)\n",
      "Confianza ---> 0.92\n",
      "Clase --> person\n",
      "\n",
      "0: 480x640 1 person, 99.5ms\n",
      "Speed: 2.0ms preprocess, 99.5ms inference, 1.0ms postprocess per image at shape (1, 3, 480, 640)\n",
      "Confianza ---> 0.89\n",
      "Clase --> person\n",
      "\n",
      "0: 480x640 1 person, 99.5ms\n",
      "Speed: 3.0ms preprocess, 99.5ms inference, 2.0ms postprocess per image at shape (1, 3, 480, 640)\n",
      "Confianza ---> 0.92\n",
      "Clase --> person\n",
      "\n",
      "0: 480x640 1 person, 98.5ms\n",
      "Speed: 3.0ms preprocess, 98.5ms inference, 2.0ms postprocess per image at shape (1, 3, 480, 640)\n",
      "Confianza ---> 0.91\n",
      "Clase --> person\n",
      "\n",
      "0: 480x640 1 person, 96.5ms\n",
      "Speed: 2.0ms preprocess, 96.5ms inference, 1.0ms postprocess per image at shape (1, 3, 480, 640)\n",
      "Confianza ---> 0.93\n",
      "Clase --> person\n",
      "\n",
      "0: 480x640 1 person, 100.2ms\n",
      "Speed: 2.0ms preprocess, 100.2ms inference, 1.0ms postprocess per image at shape (1, 3, 480, 640)\n",
      "Confianza ---> 0.92\n",
      "Clase --> person\n",
      "\n",
      "0: 480x640 1 person, 101.5ms\n",
      "Speed: 3.0ms preprocess, 101.5ms inference, 2.0ms postprocess per image at shape (1, 3, 480, 640)\n",
      "Confianza ---> 0.93\n",
      "Clase --> person\n",
      "\n",
      "0: 480x640 1 person, 99.5ms\n",
      "Speed: 2.0ms preprocess, 99.5ms inference, 1.0ms postprocess per image at shape (1, 3, 480, 640)\n",
      "Confianza ---> 0.93\n",
      "Clase --> person\n",
      "\n",
      "0: 480x640 1 person, 100.5ms\n",
      "Speed: 2.0ms preprocess, 100.5ms inference, 2.0ms postprocess per image at shape (1, 3, 480, 640)\n",
      "Confianza ---> 0.92\n",
      "Clase --> person\n",
      "\n",
      "0: 480x640 1 person, 100.5ms\n",
      "Speed: 2.0ms preprocess, 100.5ms inference, 2.0ms postprocess per image at shape (1, 3, 480, 640)\n",
      "Confianza ---> 0.92\n",
      "Clase --> person\n",
      "\n",
      "0: 480x640 1 person, 101.5ms\n",
      "Speed: 2.0ms preprocess, 101.5ms inference, 1.0ms postprocess per image at shape (1, 3, 480, 640)\n",
      "Confianza ---> 0.93\n",
      "Clase --> person\n",
      "\n",
      "0: 480x640 1 person, 99.5ms\n",
      "Speed: 2.0ms preprocess, 99.5ms inference, 2.0ms postprocess per image at shape (1, 3, 480, 640)\n",
      "Confianza ---> 0.92\n",
      "Clase --> person\n"
     ]
    }
   ],
   "source": [
    "from collections import defaultdict\n",
    "import numpy as np\n",
    "\n",
    "# Carga del modelo, descarga en disco si no está presente en la carpeta\n",
    "model = YOLO('yolo11n.pt') #Contenedores\n",
    "\n",
    "# Etiqueta de las distintas clases\n",
    "classNames = [\"person\", \"bicycle\", \"car\"]\n",
    "\n",
    "\n",
    "# Captura desde la webcam\n",
    "vid = cv2.VideoCapture(0)\n",
    "track_history = defaultdict(lambda: [])\n",
    "  \n",
    "while(True):      \n",
    "    # fotograma a fotograma\n",
    "    ret, img = vid.read()\n",
    "  \n",
    "    # si hay imagen válida\n",
    "    if ret:  \n",
    "        # Seguimiento, con persistencia entre fotogramas\n",
    "        results = model.track(img, persist=True, classes = [0,1,2])\n",
    "\n",
    "        if 0:\n",
    "            if results is not None:\n",
    "                print(results[0])\n",
    "                boxes = results[0].boxes.xywh.cpu()\n",
    "                track_ids = results[0].boxes.id.int().cpu().tolist()\n",
    "                annotated_frame = results[0].plot()\n",
    "                for box, track_id in zip(boxes, track_ids):\n",
    "                    x, y, w, h = box\n",
    "                    track = track_history[track_id]\n",
    "                    track.append((float(x), float(y)))\n",
    "                    if len(track) > 30:\n",
    "                        track.pop(0)\n",
    "                    points = np.hstack(track).astype(np.int32).reshape((-1, 1, 2))\n",
    "                    cv2.polylines(annotated_frame, [points], isClosed=False, color=(230, 230, 230), thickness=10)\n",
    "                cv2.imshow(\"YOLO11 Tracking\", annotated_frame)\n",
    "                if cv2.waitKey(1) & 0xFF == ord(\"q\"):\n",
    "                    break\n",
    "        \n",
    "\n",
    "        \n",
    "        # Para cada detección\n",
    "        for r in results:\n",
    "            boxes = r.boxes\n",
    "\n",
    "            for box in boxes:\n",
    "                # Contenedor\n",
    "                x1, y1, x2, y2 = box.xyxy[0]\n",
    "                x1, y1, x2, y2 = int(x1), int(y1), int(x2), int(y2) # convert to int values\n",
    "\n",
    "                #Etiqueta de seguimiento\n",
    "                if box.id is not None:\n",
    "                    track_id = str(int(box.id[0].tolist()))\n",
    "                else:\n",
    "                    track_id = ''\n",
    "                \n",
    "                # Confianza\n",
    "                confidence = math.ceil((box.conf[0]*100))/100\n",
    "                print(\"Confianza --->\",confidence)\n",
    "\n",
    "                # Clase\n",
    "                cls = int(box.cls[0])\n",
    "                print(\"Clase -->\", classNames[cls])\n",
    "\n",
    "                # Convierte identificador numérico de clase a un color RGB\n",
    "                escala = int((cls / len(classNames)) * 255 * 3)\n",
    "                if escala >= 255*2:\n",
    "                    R = 255\n",
    "                    G = 255\n",
    "                    B = escala - 255*2\n",
    "                else:\n",
    "                    if escala >= 255:\n",
    "                        R = 255\n",
    "                        G = escala - 255\n",
    "                        B = 0\n",
    "                    else:\n",
    "                        R = escala\n",
    "                        G = 0\n",
    "                        B = 0\n",
    "\n",
    "                # Dibuja el contenedor y clase\n",
    "                cv2.rectangle(img, (x1, y1), (x2, y2), (R, G, B), 3)\n",
    "                cv2.putText(img, track_id + ' ' + classNames[cls] , [x1, y1], cv2.FONT_HERSHEY_SIMPLEX, 1, (255, 0, B), 2)\n",
    "\n",
    "        # Muestra fotograma\n",
    "        cv2.imshow('Vid', img)\n",
    "    \n",
    "    # Detenemos pulsado ESC\n",
    "    if cv2.waitKey(20) == 27:\n",
    "        break\n",
    "  \n",
    "# Libera el objeto de captura\n",
    "vid.release()\n",
    "# Destruye ventanas\n",
    "cv2.destroyAllWindows()\n",
    "\n"
   ]
  },
  {
   "cell_type": "markdown",
   "metadata": {},
   "source": [
    "Intregración con seguimiento (tracking)\n",
    "!!!!!!!!!Nota: he tenido que bajar a la versión de python 3.9.5 e instalar lap con pip install lap"
   ]
  },
  {
   "cell_type": "code",
   "execution_count": 5,
   "metadata": {},
   "outputs": [
    {
     "name": "stdout",
     "output_type": "stream",
     "text": [
      "\n",
      "\n",
      "WARNING  inference results will accumulate in RAM unless `stream=True` is passed, causing potential out-of-memory\n",
      "errors for large sources or long-running streams and videos. See https://docs.ultralytics.com/modes/predict/ for help.\n",
      "\n",
      "Example:\n",
      "    results = model(source=..., stream=True)  # generator of Results objects\n",
      "    for r in results:\n",
      "        boxes = r.boxes  # Boxes object for bbox outputs\n",
      "        masks = r.masks  # Masks object for segment masks outputs\n",
      "        probs = r.probs  # Class probabilities for classification outputs\n",
      "\n",
      "video 1/1 (frame 1/375) c:\\Users\\santu\\OneDrive\\Escritorio\\Documentos ULPGC\\VC\\P4\\VC-P4\\TGC23_PdH_C0056cut.mp4: 384x640 4 persons, 1 bird, 100.6ms\n",
      "video 1/1 (frame 2/375) c:\\Users\\santu\\OneDrive\\Escritorio\\Documentos ULPGC\\VC\\P4\\VC-P4\\TGC23_PdH_C0056cut.mp4: 384x640 4 persons, 150.6ms\n",
      "video 1/1 (frame 3/375) c:\\Users\\santu\\OneDrive\\Escritorio\\Documentos ULPGC\\VC\\P4\\VC-P4\\TGC23_PdH_C0056cut.mp4: 384x640 4 persons, 1 bird, 104.5ms\n",
      "video 1/1 (frame 4/375) c:\\Users\\santu\\OneDrive\\Escritorio\\Documentos ULPGC\\VC\\P4\\VC-P4\\TGC23_PdH_C0056cut.mp4: 384x640 4 persons, 92.5ms\n",
      "video 1/1 (frame 5/375) c:\\Users\\santu\\OneDrive\\Escritorio\\Documentos ULPGC\\VC\\P4\\VC-P4\\TGC23_PdH_C0056cut.mp4: 384x640 4 persons, 95.6ms\n",
      "video 1/1 (frame 6/375) c:\\Users\\santu\\OneDrive\\Escritorio\\Documentos ULPGC\\VC\\P4\\VC-P4\\TGC23_PdH_C0056cut.mp4: 384x640 4 persons, 93.0ms\n",
      "video 1/1 (frame 7/375) c:\\Users\\santu\\OneDrive\\Escritorio\\Documentos ULPGC\\VC\\P4\\VC-P4\\TGC23_PdH_C0056cut.mp4: 384x640 4 persons, 91.6ms\n",
      "video 1/1 (frame 8/375) c:\\Users\\santu\\OneDrive\\Escritorio\\Documentos ULPGC\\VC\\P4\\VC-P4\\TGC23_PdH_C0056cut.mp4: 384x640 4 persons, 1 bird, 91.6ms\n",
      "video 1/1 (frame 9/375) c:\\Users\\santu\\OneDrive\\Escritorio\\Documentos ULPGC\\VC\\P4\\VC-P4\\TGC23_PdH_C0056cut.mp4: 384x640 4 persons, 1 bird, 91.0ms\n",
      "video 1/1 (frame 10/375) c:\\Users\\santu\\OneDrive\\Escritorio\\Documentos ULPGC\\VC\\P4\\VC-P4\\TGC23_PdH_C0056cut.mp4: 384x640 4 persons, 1 bird, 93.5ms\n",
      "video 1/1 (frame 11/375) c:\\Users\\santu\\OneDrive\\Escritorio\\Documentos ULPGC\\VC\\P4\\VC-P4\\TGC23_PdH_C0056cut.mp4: 384x640 5 persons, 1 bird, 89.0ms\n",
      "video 1/1 (frame 12/375) c:\\Users\\santu\\OneDrive\\Escritorio\\Documentos ULPGC\\VC\\P4\\VC-P4\\TGC23_PdH_C0056cut.mp4: 384x640 5 persons, 1 bird, 93.0ms\n",
      "video 1/1 (frame 13/375) c:\\Users\\santu\\OneDrive\\Escritorio\\Documentos ULPGC\\VC\\P4\\VC-P4\\TGC23_PdH_C0056cut.mp4: 384x640 4 persons, 93.0ms\n",
      "video 1/1 (frame 14/375) c:\\Users\\santu\\OneDrive\\Escritorio\\Documentos ULPGC\\VC\\P4\\VC-P4\\TGC23_PdH_C0056cut.mp4: 384x640 4 persons, 1 bird, 99.0ms\n",
      "video 1/1 (frame 15/375) c:\\Users\\santu\\OneDrive\\Escritorio\\Documentos ULPGC\\VC\\P4\\VC-P4\\TGC23_PdH_C0056cut.mp4: 384x640 4 persons, 1 bird, 115.0ms\n",
      "video 1/1 (frame 16/375) c:\\Users\\santu\\OneDrive\\Escritorio\\Documentos ULPGC\\VC\\P4\\VC-P4\\TGC23_PdH_C0056cut.mp4: 384x640 4 persons, 1 bird, 122.0ms\n",
      "video 1/1 (frame 17/375) c:\\Users\\santu\\OneDrive\\Escritorio\\Documentos ULPGC\\VC\\P4\\VC-P4\\TGC23_PdH_C0056cut.mp4: 384x640 1 person, 102.0ms\n",
      "video 1/1 (frame 18/375) c:\\Users\\santu\\OneDrive\\Escritorio\\Documentos ULPGC\\VC\\P4\\VC-P4\\TGC23_PdH_C0056cut.mp4: 384x640 1 person, 91.0ms\n",
      "video 1/1 (frame 19/375) c:\\Users\\santu\\OneDrive\\Escritorio\\Documentos ULPGC\\VC\\P4\\VC-P4\\TGC23_PdH_C0056cut.mp4: 384x640 1 person, 95.0ms\n",
      "video 1/1 (frame 20/375) c:\\Users\\santu\\OneDrive\\Escritorio\\Documentos ULPGC\\VC\\P4\\VC-P4\\TGC23_PdH_C0056cut.mp4: 384x640 1 person, 91.0ms\n",
      "video 1/1 (frame 21/375) c:\\Users\\santu\\OneDrive\\Escritorio\\Documentos ULPGC\\VC\\P4\\VC-P4\\TGC23_PdH_C0056cut.mp4: 384x640 1 person, 93.0ms\n",
      "video 1/1 (frame 22/375) c:\\Users\\santu\\OneDrive\\Escritorio\\Documentos ULPGC\\VC\\P4\\VC-P4\\TGC23_PdH_C0056cut.mp4: 384x640 1 person, 89.0ms\n",
      "video 1/1 (frame 23/375) c:\\Users\\santu\\OneDrive\\Escritorio\\Documentos ULPGC\\VC\\P4\\VC-P4\\TGC23_PdH_C0056cut.mp4: 384x640 1 person, 84.0ms\n",
      "video 1/1 (frame 24/375) c:\\Users\\santu\\OneDrive\\Escritorio\\Documentos ULPGC\\VC\\P4\\VC-P4\\TGC23_PdH_C0056cut.mp4: 384x640 1 person, 88.0ms\n",
      "video 1/1 (frame 25/375) c:\\Users\\santu\\OneDrive\\Escritorio\\Documentos ULPGC\\VC\\P4\\VC-P4\\TGC23_PdH_C0056cut.mp4: 384x640 1 person, 91.0ms\n",
      "video 1/1 (frame 26/375) c:\\Users\\santu\\OneDrive\\Escritorio\\Documentos ULPGC\\VC\\P4\\VC-P4\\TGC23_PdH_C0056cut.mp4: 384x640 1 person, 89.0ms\n",
      "video 1/1 (frame 27/375) c:\\Users\\santu\\OneDrive\\Escritorio\\Documentos ULPGC\\VC\\P4\\VC-P4\\TGC23_PdH_C0056cut.mp4: 384x640 1 person, 91.0ms\n",
      "video 1/1 (frame 28/375) c:\\Users\\santu\\OneDrive\\Escritorio\\Documentos ULPGC\\VC\\P4\\VC-P4\\TGC23_PdH_C0056cut.mp4: 384x640 1 person, 92.0ms\n",
      "video 1/1 (frame 29/375) c:\\Users\\santu\\OneDrive\\Escritorio\\Documentos ULPGC\\VC\\P4\\VC-P4\\TGC23_PdH_C0056cut.mp4: 384x640 1 person, 88.0ms\n",
      "video 1/1 (frame 30/375) c:\\Users\\santu\\OneDrive\\Escritorio\\Documentos ULPGC\\VC\\P4\\VC-P4\\TGC23_PdH_C0056cut.mp4: 384x640 1 person, 90.0ms\n",
      "video 1/1 (frame 31/375) c:\\Users\\santu\\OneDrive\\Escritorio\\Documentos ULPGC\\VC\\P4\\VC-P4\\TGC23_PdH_C0056cut.mp4: 384x640 1 person, 93.0ms\n",
      "video 1/1 (frame 32/375) c:\\Users\\santu\\OneDrive\\Escritorio\\Documentos ULPGC\\VC\\P4\\VC-P4\\TGC23_PdH_C0056cut.mp4: 384x640 1 person, 86.1ms\n",
      "video 1/1 (frame 33/375) c:\\Users\\santu\\OneDrive\\Escritorio\\Documentos ULPGC\\VC\\P4\\VC-P4\\TGC23_PdH_C0056cut.mp4: 384x640 1 person, 87.0ms\n",
      "video 1/1 (frame 34/375) c:\\Users\\santu\\OneDrive\\Escritorio\\Documentos ULPGC\\VC\\P4\\VC-P4\\TGC23_PdH_C0056cut.mp4: 384x640 1 person, 91.0ms\n",
      "video 1/1 (frame 35/375) c:\\Users\\santu\\OneDrive\\Escritorio\\Documentos ULPGC\\VC\\P4\\VC-P4\\TGC23_PdH_C0056cut.mp4: 384x640 1 person, 84.0ms\n",
      "video 1/1 (frame 36/375) c:\\Users\\santu\\OneDrive\\Escritorio\\Documentos ULPGC\\VC\\P4\\VC-P4\\TGC23_PdH_C0056cut.mp4: 384x640 1 person, 90.0ms\n",
      "video 1/1 (frame 37/375) c:\\Users\\santu\\OneDrive\\Escritorio\\Documentos ULPGC\\VC\\P4\\VC-P4\\TGC23_PdH_C0056cut.mp4: 384x640 1 person, 92.9ms\n",
      "video 1/1 (frame 38/375) c:\\Users\\santu\\OneDrive\\Escritorio\\Documentos ULPGC\\VC\\P4\\VC-P4\\TGC23_PdH_C0056cut.mp4: 384x640 1 person, 87.0ms\n",
      "video 1/1 (frame 39/375) c:\\Users\\santu\\OneDrive\\Escritorio\\Documentos ULPGC\\VC\\P4\\VC-P4\\TGC23_PdH_C0056cut.mp4: 384x640 1 person, 90.0ms\n",
      "video 1/1 (frame 40/375) c:\\Users\\santu\\OneDrive\\Escritorio\\Documentos ULPGC\\VC\\P4\\VC-P4\\TGC23_PdH_C0056cut.mp4: 384x640 1 person, 88.0ms\n",
      "video 1/1 (frame 41/375) c:\\Users\\santu\\OneDrive\\Escritorio\\Documentos ULPGC\\VC\\P4\\VC-P4\\TGC23_PdH_C0056cut.mp4: 384x640 1 person, 85.0ms\n",
      "video 1/1 (frame 42/375) c:\\Users\\santu\\OneDrive\\Escritorio\\Documentos ULPGC\\VC\\P4\\VC-P4\\TGC23_PdH_C0056cut.mp4: 384x640 1 person, 117.0ms\n",
      "video 1/1 (frame 43/375) c:\\Users\\santu\\OneDrive\\Escritorio\\Documentos ULPGC\\VC\\P4\\VC-P4\\TGC23_PdH_C0056cut.mp4: 384x640 1 person, 118.0ms\n",
      "video 1/1 (frame 44/375) c:\\Users\\santu\\OneDrive\\Escritorio\\Documentos ULPGC\\VC\\P4\\VC-P4\\TGC23_PdH_C0056cut.mp4: 384x640 1 person, 111.0ms\n",
      "video 1/1 (frame 45/375) c:\\Users\\santu\\OneDrive\\Escritorio\\Documentos ULPGC\\VC\\P4\\VC-P4\\TGC23_PdH_C0056cut.mp4: 384x640 1 person, 92.0ms\n",
      "video 1/1 (frame 46/375) c:\\Users\\santu\\OneDrive\\Escritorio\\Documentos ULPGC\\VC\\P4\\VC-P4\\TGC23_PdH_C0056cut.mp4: 384x640 1 person, 93.0ms\n",
      "video 1/1 (frame 47/375) c:\\Users\\santu\\OneDrive\\Escritorio\\Documentos ULPGC\\VC\\P4\\VC-P4\\TGC23_PdH_C0056cut.mp4: 384x640 1 person, 91.0ms\n",
      "video 1/1 (frame 48/375) c:\\Users\\santu\\OneDrive\\Escritorio\\Documentos ULPGC\\VC\\P4\\VC-P4\\TGC23_PdH_C0056cut.mp4: 384x640 1 person, 114.0ms\n",
      "video 1/1 (frame 49/375) c:\\Users\\santu\\OneDrive\\Escritorio\\Documentos ULPGC\\VC\\P4\\VC-P4\\TGC23_PdH_C0056cut.mp4: 384x640 1 person, 119.0ms\n",
      "video 1/1 (frame 50/375) c:\\Users\\santu\\OneDrive\\Escritorio\\Documentos ULPGC\\VC\\P4\\VC-P4\\TGC23_PdH_C0056cut.mp4: 384x640 1 person, 98.0ms\n",
      "video 1/1 (frame 51/375) c:\\Users\\santu\\OneDrive\\Escritorio\\Documentos ULPGC\\VC\\P4\\VC-P4\\TGC23_PdH_C0056cut.mp4: 384x640 1 person, 91.0ms\n",
      "video 1/1 (frame 52/375) c:\\Users\\santu\\OneDrive\\Escritorio\\Documentos ULPGC\\VC\\P4\\VC-P4\\TGC23_PdH_C0056cut.mp4: 384x640 1 person, 95.0ms\n",
      "video 1/1 (frame 53/375) c:\\Users\\santu\\OneDrive\\Escritorio\\Documentos ULPGC\\VC\\P4\\VC-P4\\TGC23_PdH_C0056cut.mp4: 384x640 1 person, 94.0ms\n",
      "video 1/1 (frame 54/375) c:\\Users\\santu\\OneDrive\\Escritorio\\Documentos ULPGC\\VC\\P4\\VC-P4\\TGC23_PdH_C0056cut.mp4: 384x640 1 person, 93.0ms\n",
      "video 1/1 (frame 55/375) c:\\Users\\santu\\OneDrive\\Escritorio\\Documentos ULPGC\\VC\\P4\\VC-P4\\TGC23_PdH_C0056cut.mp4: 384x640 1 person, 133.0ms\n",
      "video 1/1 (frame 56/375) c:\\Users\\santu\\OneDrive\\Escritorio\\Documentos ULPGC\\VC\\P4\\VC-P4\\TGC23_PdH_C0056cut.mp4: 384x640 1 person, 91.0ms\n",
      "video 1/1 (frame 57/375) c:\\Users\\santu\\OneDrive\\Escritorio\\Documentos ULPGC\\VC\\P4\\VC-P4\\TGC23_PdH_C0056cut.mp4: 384x640 1 person, 91.0ms\n",
      "video 1/1 (frame 58/375) c:\\Users\\santu\\OneDrive\\Escritorio\\Documentos ULPGC\\VC\\P4\\VC-P4\\TGC23_PdH_C0056cut.mp4: 384x640 1 person, 88.0ms\n",
      "video 1/1 (frame 59/375) c:\\Users\\santu\\OneDrive\\Escritorio\\Documentos ULPGC\\VC\\P4\\VC-P4\\TGC23_PdH_C0056cut.mp4: 384x640 1 person, 91.0ms\n",
      "video 1/1 (frame 60/375) c:\\Users\\santu\\OneDrive\\Escritorio\\Documentos ULPGC\\VC\\P4\\VC-P4\\TGC23_PdH_C0056cut.mp4: 384x640 1 person, 94.5ms\n",
      "video 1/1 (frame 61/375) c:\\Users\\santu\\OneDrive\\Escritorio\\Documentos ULPGC\\VC\\P4\\VC-P4\\TGC23_PdH_C0056cut.mp4: 384x640 1 person, 89.0ms\n",
      "video 1/1 (frame 62/375) c:\\Users\\santu\\OneDrive\\Escritorio\\Documentos ULPGC\\VC\\P4\\VC-P4\\TGC23_PdH_C0056cut.mp4: 384x640 1 person, 90.0ms\n",
      "video 1/1 (frame 63/375) c:\\Users\\santu\\OneDrive\\Escritorio\\Documentos ULPGC\\VC\\P4\\VC-P4\\TGC23_PdH_C0056cut.mp4: 384x640 1 person, 89.0ms\n",
      "video 1/1 (frame 64/375) c:\\Users\\santu\\OneDrive\\Escritorio\\Documentos ULPGC\\VC\\P4\\VC-P4\\TGC23_PdH_C0056cut.mp4: 384x640 1 person, 89.0ms\n",
      "video 1/1 (frame 65/375) c:\\Users\\santu\\OneDrive\\Escritorio\\Documentos ULPGC\\VC\\P4\\VC-P4\\TGC23_PdH_C0056cut.mp4: 384x640 1 person, 88.0ms\n",
      "video 1/1 (frame 66/375) c:\\Users\\santu\\OneDrive\\Escritorio\\Documentos ULPGC\\VC\\P4\\VC-P4\\TGC23_PdH_C0056cut.mp4: 384x640 1 person, 104.0ms\n",
      "video 1/1 (frame 67/375) c:\\Users\\santu\\OneDrive\\Escritorio\\Documentos ULPGC\\VC\\P4\\VC-P4\\TGC23_PdH_C0056cut.mp4: 384x640 1 person, 90.0ms\n",
      "video 1/1 (frame 68/375) c:\\Users\\santu\\OneDrive\\Escritorio\\Documentos ULPGC\\VC\\P4\\VC-P4\\TGC23_PdH_C0056cut.mp4: 384x640 1 person, 85.0ms\n",
      "video 1/1 (frame 69/375) c:\\Users\\santu\\OneDrive\\Escritorio\\Documentos ULPGC\\VC\\P4\\VC-P4\\TGC23_PdH_C0056cut.mp4: 384x640 1 person, 83.0ms\n",
      "video 1/1 (frame 70/375) c:\\Users\\santu\\OneDrive\\Escritorio\\Documentos ULPGC\\VC\\P4\\VC-P4\\TGC23_PdH_C0056cut.mp4: 384x640 1 person, 87.0ms\n",
      "video 1/1 (frame 71/375) c:\\Users\\santu\\OneDrive\\Escritorio\\Documentos ULPGC\\VC\\P4\\VC-P4\\TGC23_PdH_C0056cut.mp4: 384x640 1 person, 87.0ms\n",
      "video 1/1 (frame 72/375) c:\\Users\\santu\\OneDrive\\Escritorio\\Documentos ULPGC\\VC\\P4\\VC-P4\\TGC23_PdH_C0056cut.mp4: 384x640 1 person, 85.0ms\n",
      "video 1/1 (frame 73/375) c:\\Users\\santu\\OneDrive\\Escritorio\\Documentos ULPGC\\VC\\P4\\VC-P4\\TGC23_PdH_C0056cut.mp4: 384x640 1 person, 87.0ms\n",
      "video 1/1 (frame 74/375) c:\\Users\\santu\\OneDrive\\Escritorio\\Documentos ULPGC\\VC\\P4\\VC-P4\\TGC23_PdH_C0056cut.mp4: 384x640 1 person, 86.0ms\n",
      "video 1/1 (frame 75/375) c:\\Users\\santu\\OneDrive\\Escritorio\\Documentos ULPGC\\VC\\P4\\VC-P4\\TGC23_PdH_C0056cut.mp4: 384x640 1 person, 89.0ms\n",
      "video 1/1 (frame 76/375) c:\\Users\\santu\\OneDrive\\Escritorio\\Documentos ULPGC\\VC\\P4\\VC-P4\\TGC23_PdH_C0056cut.mp4: 384x640 1 person, 88.3ms\n",
      "video 1/1 (frame 77/375) c:\\Users\\santu\\OneDrive\\Escritorio\\Documentos ULPGC\\VC\\P4\\VC-P4\\TGC23_PdH_C0056cut.mp4: 384x640 1 person, 91.0ms\n",
      "video 1/1 (frame 78/375) c:\\Users\\santu\\OneDrive\\Escritorio\\Documentos ULPGC\\VC\\P4\\VC-P4\\TGC23_PdH_C0056cut.mp4: 384x640 1 person, 86.0ms\n",
      "video 1/1 (frame 79/375) c:\\Users\\santu\\OneDrive\\Escritorio\\Documentos ULPGC\\VC\\P4\\VC-P4\\TGC23_PdH_C0056cut.mp4: 384x640 1 person, 87.0ms\n",
      "video 1/1 (frame 80/375) c:\\Users\\santu\\OneDrive\\Escritorio\\Documentos ULPGC\\VC\\P4\\VC-P4\\TGC23_PdH_C0056cut.mp4: 384x640 1 person, 90.0ms\n",
      "video 1/1 (frame 81/375) c:\\Users\\santu\\OneDrive\\Escritorio\\Documentos ULPGC\\VC\\P4\\VC-P4\\TGC23_PdH_C0056cut.mp4: 384x640 1 person, 89.0ms\n",
      "video 1/1 (frame 82/375) c:\\Users\\santu\\OneDrive\\Escritorio\\Documentos ULPGC\\VC\\P4\\VC-P4\\TGC23_PdH_C0056cut.mp4: 384x640 1 person, 90.0ms\n",
      "video 1/1 (frame 83/375) c:\\Users\\santu\\OneDrive\\Escritorio\\Documentos ULPGC\\VC\\P4\\VC-P4\\TGC23_PdH_C0056cut.mp4: 384x640 1 person, 89.0ms\n",
      "video 1/1 (frame 84/375) c:\\Users\\santu\\OneDrive\\Escritorio\\Documentos ULPGC\\VC\\P4\\VC-P4\\TGC23_PdH_C0056cut.mp4: 384x640 1 person, 86.0ms\n",
      "video 1/1 (frame 85/375) c:\\Users\\santu\\OneDrive\\Escritorio\\Documentos ULPGC\\VC\\P4\\VC-P4\\TGC23_PdH_C0056cut.mp4: 384x640 1 person, 88.0ms\n",
      "video 1/1 (frame 86/375) c:\\Users\\santu\\OneDrive\\Escritorio\\Documentos ULPGC\\VC\\P4\\VC-P4\\TGC23_PdH_C0056cut.mp4: 384x640 1 person, 86.0ms\n",
      "video 1/1 (frame 87/375) c:\\Users\\santu\\OneDrive\\Escritorio\\Documentos ULPGC\\VC\\P4\\VC-P4\\TGC23_PdH_C0056cut.mp4: 384x640 1 person, 87.0ms\n",
      "video 1/1 (frame 88/375) c:\\Users\\santu\\OneDrive\\Escritorio\\Documentos ULPGC\\VC\\P4\\VC-P4\\TGC23_PdH_C0056cut.mp4: 384x640 1 person, 87.0ms\n",
      "video 1/1 (frame 89/375) c:\\Users\\santu\\OneDrive\\Escritorio\\Documentos ULPGC\\VC\\P4\\VC-P4\\TGC23_PdH_C0056cut.mp4: 384x640 1 person, 86.0ms\n",
      "video 1/1 (frame 90/375) c:\\Users\\santu\\OneDrive\\Escritorio\\Documentos ULPGC\\VC\\P4\\VC-P4\\TGC23_PdH_C0056cut.mp4: 384x640 1 person, 87.0ms\n",
      "video 1/1 (frame 91/375) c:\\Users\\santu\\OneDrive\\Escritorio\\Documentos ULPGC\\VC\\P4\\VC-P4\\TGC23_PdH_C0056cut.mp4: 384x640 1 person, 87.0ms\n",
      "video 1/1 (frame 92/375) c:\\Users\\santu\\OneDrive\\Escritorio\\Documentos ULPGC\\VC\\P4\\VC-P4\\TGC23_PdH_C0056cut.mp4: 384x640 1 person, 87.0ms\n",
      "video 1/1 (frame 93/375) c:\\Users\\santu\\OneDrive\\Escritorio\\Documentos ULPGC\\VC\\P4\\VC-P4\\TGC23_PdH_C0056cut.mp4: 384x640 1 person, 87.0ms\n",
      "video 1/1 (frame 94/375) c:\\Users\\santu\\OneDrive\\Escritorio\\Documentos ULPGC\\VC\\P4\\VC-P4\\TGC23_PdH_C0056cut.mp4: 384x640 1 person, 89.0ms\n",
      "video 1/1 (frame 95/375) c:\\Users\\santu\\OneDrive\\Escritorio\\Documentos ULPGC\\VC\\P4\\VC-P4\\TGC23_PdH_C0056cut.mp4: 384x640 1 person, 87.0ms\n",
      "video 1/1 (frame 96/375) c:\\Users\\santu\\OneDrive\\Escritorio\\Documentos ULPGC\\VC\\P4\\VC-P4\\TGC23_PdH_C0056cut.mp4: 384x640 1 person, 86.0ms\n",
      "video 1/1 (frame 97/375) c:\\Users\\santu\\OneDrive\\Escritorio\\Documentos ULPGC\\VC\\P4\\VC-P4\\TGC23_PdH_C0056cut.mp4: 384x640 1 person, 90.0ms\n",
      "video 1/1 (frame 98/375) c:\\Users\\santu\\OneDrive\\Escritorio\\Documentos ULPGC\\VC\\P4\\VC-P4\\TGC23_PdH_C0056cut.mp4: 384x640 1 person, 84.0ms\n",
      "video 1/1 (frame 99/375) c:\\Users\\santu\\OneDrive\\Escritorio\\Documentos ULPGC\\VC\\P4\\VC-P4\\TGC23_PdH_C0056cut.mp4: 384x640 1 person, 89.0ms\n",
      "video 1/1 (frame 100/375) c:\\Users\\santu\\OneDrive\\Escritorio\\Documentos ULPGC\\VC\\P4\\VC-P4\\TGC23_PdH_C0056cut.mp4: 384x640 1 person, 84.0ms\n",
      "video 1/1 (frame 101/375) c:\\Users\\santu\\OneDrive\\Escritorio\\Documentos ULPGC\\VC\\P4\\VC-P4\\TGC23_PdH_C0056cut.mp4: 384x640 1 person, 85.0ms\n",
      "video 1/1 (frame 102/375) c:\\Users\\santu\\OneDrive\\Escritorio\\Documentos ULPGC\\VC\\P4\\VC-P4\\TGC23_PdH_C0056cut.mp4: 384x640 1 person, 85.0ms\n",
      "video 1/1 (frame 103/375) c:\\Users\\santu\\OneDrive\\Escritorio\\Documentos ULPGC\\VC\\P4\\VC-P4\\TGC23_PdH_C0056cut.mp4: 384x640 1 person, 88.0ms\n",
      "video 1/1 (frame 104/375) c:\\Users\\santu\\OneDrive\\Escritorio\\Documentos ULPGC\\VC\\P4\\VC-P4\\TGC23_PdH_C0056cut.mp4: 384x640 1 person, 89.0ms\n",
      "video 1/1 (frame 105/375) c:\\Users\\santu\\OneDrive\\Escritorio\\Documentos ULPGC\\VC\\P4\\VC-P4\\TGC23_PdH_C0056cut.mp4: 384x640 1 person, 87.0ms\n",
      "video 1/1 (frame 106/375) c:\\Users\\santu\\OneDrive\\Escritorio\\Documentos ULPGC\\VC\\P4\\VC-P4\\TGC23_PdH_C0056cut.mp4: 384x640 1 person, 85.0ms\n",
      "video 1/1 (frame 107/375) c:\\Users\\santu\\OneDrive\\Escritorio\\Documentos ULPGC\\VC\\P4\\VC-P4\\TGC23_PdH_C0056cut.mp4: 384x640 1 person, 88.0ms\n",
      "video 1/1 (frame 108/375) c:\\Users\\santu\\OneDrive\\Escritorio\\Documentos ULPGC\\VC\\P4\\VC-P4\\TGC23_PdH_C0056cut.mp4: 384x640 1 person, 86.0ms\n",
      "video 1/1 (frame 109/375) c:\\Users\\santu\\OneDrive\\Escritorio\\Documentos ULPGC\\VC\\P4\\VC-P4\\TGC23_PdH_C0056cut.mp4: 384x640 1 person, 87.0ms\n",
      "video 1/1 (frame 110/375) c:\\Users\\santu\\OneDrive\\Escritorio\\Documentos ULPGC\\VC\\P4\\VC-P4\\TGC23_PdH_C0056cut.mp4: 384x640 1 person, 88.0ms\n",
      "video 1/1 (frame 111/375) c:\\Users\\santu\\OneDrive\\Escritorio\\Documentos ULPGC\\VC\\P4\\VC-P4\\TGC23_PdH_C0056cut.mp4: 384x640 1 person, 89.0ms\n",
      "video 1/1 (frame 112/375) c:\\Users\\santu\\OneDrive\\Escritorio\\Documentos ULPGC\\VC\\P4\\VC-P4\\TGC23_PdH_C0056cut.mp4: 384x640 1 person, 85.7ms\n",
      "video 1/1 (frame 113/375) c:\\Users\\santu\\OneDrive\\Escritorio\\Documentos ULPGC\\VC\\P4\\VC-P4\\TGC23_PdH_C0056cut.mp4: 384x640 1 person, 89.0ms\n",
      "video 1/1 (frame 114/375) c:\\Users\\santu\\OneDrive\\Escritorio\\Documentos ULPGC\\VC\\P4\\VC-P4\\TGC23_PdH_C0056cut.mp4: 384x640 1 person, 88.0ms\n",
      "video 1/1 (frame 115/375) c:\\Users\\santu\\OneDrive\\Escritorio\\Documentos ULPGC\\VC\\P4\\VC-P4\\TGC23_PdH_C0056cut.mp4: 384x640 1 person, 113.0ms\n",
      "video 1/1 (frame 116/375) c:\\Users\\santu\\OneDrive\\Escritorio\\Documentos ULPGC\\VC\\P4\\VC-P4\\TGC23_PdH_C0056cut.mp4: 384x640 1 person, 88.0ms\n",
      "video 1/1 (frame 117/375) c:\\Users\\santu\\OneDrive\\Escritorio\\Documentos ULPGC\\VC\\P4\\VC-P4\\TGC23_PdH_C0056cut.mp4: 384x640 1 person, 90.0ms\n",
      "video 1/1 (frame 118/375) c:\\Users\\santu\\OneDrive\\Escritorio\\Documentos ULPGC\\VC\\P4\\VC-P4\\TGC23_PdH_C0056cut.mp4: 384x640 1 person, 88.3ms\n",
      "video 1/1 (frame 119/375) c:\\Users\\santu\\OneDrive\\Escritorio\\Documentos ULPGC\\VC\\P4\\VC-P4\\TGC23_PdH_C0056cut.mp4: 384x640 1 person, 88.0ms\n",
      "video 1/1 (frame 120/375) c:\\Users\\santu\\OneDrive\\Escritorio\\Documentos ULPGC\\VC\\P4\\VC-P4\\TGC23_PdH_C0056cut.mp4: 384x640 1 person, 111.0ms\n",
      "video 1/1 (frame 121/375) c:\\Users\\santu\\OneDrive\\Escritorio\\Documentos ULPGC\\VC\\P4\\VC-P4\\TGC23_PdH_C0056cut.mp4: 384x640 1 person, 91.0ms\n",
      "video 1/1 (frame 122/375) c:\\Users\\santu\\OneDrive\\Escritorio\\Documentos ULPGC\\VC\\P4\\VC-P4\\TGC23_PdH_C0056cut.mp4: 384x640 1 person, 86.8ms\n",
      "video 1/1 (frame 123/375) c:\\Users\\santu\\OneDrive\\Escritorio\\Documentos ULPGC\\VC\\P4\\VC-P4\\TGC23_PdH_C0056cut.mp4: 384x640 1 person, 89.0ms\n",
      "video 1/1 (frame 124/375) c:\\Users\\santu\\OneDrive\\Escritorio\\Documentos ULPGC\\VC\\P4\\VC-P4\\TGC23_PdH_C0056cut.mp4: 384x640 1 person, 89.0ms\n",
      "video 1/1 (frame 125/375) c:\\Users\\santu\\OneDrive\\Escritorio\\Documentos ULPGC\\VC\\P4\\VC-P4\\TGC23_PdH_C0056cut.mp4: 384x640 1 person, 89.0ms\n",
      "video 1/1 (frame 126/375) c:\\Users\\santu\\OneDrive\\Escritorio\\Documentos ULPGC\\VC\\P4\\VC-P4\\TGC23_PdH_C0056cut.mp4: 384x640 1 person, 87.0ms\n",
      "video 1/1 (frame 127/375) c:\\Users\\santu\\OneDrive\\Escritorio\\Documentos ULPGC\\VC\\P4\\VC-P4\\TGC23_PdH_C0056cut.mp4: 384x640 1 person, 99.0ms\n",
      "video 1/1 (frame 128/375) c:\\Users\\santu\\OneDrive\\Escritorio\\Documentos ULPGC\\VC\\P4\\VC-P4\\TGC23_PdH_C0056cut.mp4: 384x640 1 person, 87.0ms\n",
      "video 1/1 (frame 129/375) c:\\Users\\santu\\OneDrive\\Escritorio\\Documentos ULPGC\\VC\\P4\\VC-P4\\TGC23_PdH_C0056cut.mp4: 384x640 1 person, 89.3ms\n",
      "video 1/1 (frame 130/375) c:\\Users\\santu\\OneDrive\\Escritorio\\Documentos ULPGC\\VC\\P4\\VC-P4\\TGC23_PdH_C0056cut.mp4: 384x640 1 person, 87.0ms\n",
      "video 1/1 (frame 131/375) c:\\Users\\santu\\OneDrive\\Escritorio\\Documentos ULPGC\\VC\\P4\\VC-P4\\TGC23_PdH_C0056cut.mp4: 384x640 1 person, 87.0ms\n",
      "video 1/1 (frame 132/375) c:\\Users\\santu\\OneDrive\\Escritorio\\Documentos ULPGC\\VC\\P4\\VC-P4\\TGC23_PdH_C0056cut.mp4: 384x640 1 person, 86.0ms\n",
      "video 1/1 (frame 133/375) c:\\Users\\santu\\OneDrive\\Escritorio\\Documentos ULPGC\\VC\\P4\\VC-P4\\TGC23_PdH_C0056cut.mp4: 384x640 1 person, 89.0ms\n",
      "video 1/1 (frame 134/375) c:\\Users\\santu\\OneDrive\\Escritorio\\Documentos ULPGC\\VC\\P4\\VC-P4\\TGC23_PdH_C0056cut.mp4: 384x640 1 person, 88.0ms\n",
      "video 1/1 (frame 135/375) c:\\Users\\santu\\OneDrive\\Escritorio\\Documentos ULPGC\\VC\\P4\\VC-P4\\TGC23_PdH_C0056cut.mp4: 384x640 1 person, 89.0ms\n",
      "video 1/1 (frame 136/375) c:\\Users\\santu\\OneDrive\\Escritorio\\Documentos ULPGC\\VC\\P4\\VC-P4\\TGC23_PdH_C0056cut.mp4: 384x640 1 person, 88.0ms\n",
      "video 1/1 (frame 137/375) c:\\Users\\santu\\OneDrive\\Escritorio\\Documentos ULPGC\\VC\\P4\\VC-P4\\TGC23_PdH_C0056cut.mp4: 384x640 1 person, 88.0ms\n",
      "video 1/1 (frame 138/375) c:\\Users\\santu\\OneDrive\\Escritorio\\Documentos ULPGC\\VC\\P4\\VC-P4\\TGC23_PdH_C0056cut.mp4: 384x640 2 persons, 87.0ms\n",
      "video 1/1 (frame 139/375) c:\\Users\\santu\\OneDrive\\Escritorio\\Documentos ULPGC\\VC\\P4\\VC-P4\\TGC23_PdH_C0056cut.mp4: 384x640 2 persons, 90.0ms\n",
      "video 1/1 (frame 140/375) c:\\Users\\santu\\OneDrive\\Escritorio\\Documentos ULPGC\\VC\\P4\\VC-P4\\TGC23_PdH_C0056cut.mp4: 384x640 2 persons, 83.0ms\n",
      "video 1/1 (frame 141/375) c:\\Users\\santu\\OneDrive\\Escritorio\\Documentos ULPGC\\VC\\P4\\VC-P4\\TGC23_PdH_C0056cut.mp4: 384x640 2 persons, 91.0ms\n",
      "video 1/1 (frame 142/375) c:\\Users\\santu\\OneDrive\\Escritorio\\Documentos ULPGC\\VC\\P4\\VC-P4\\TGC23_PdH_C0056cut.mp4: 384x640 2 persons, 89.0ms\n",
      "video 1/1 (frame 143/375) c:\\Users\\santu\\OneDrive\\Escritorio\\Documentos ULPGC\\VC\\P4\\VC-P4\\TGC23_PdH_C0056cut.mp4: 384x640 2 persons, 91.0ms\n",
      "video 1/1 (frame 144/375) c:\\Users\\santu\\OneDrive\\Escritorio\\Documentos ULPGC\\VC\\P4\\VC-P4\\TGC23_PdH_C0056cut.mp4: 384x640 2 persons, 84.0ms\n",
      "video 1/1 (frame 145/375) c:\\Users\\santu\\OneDrive\\Escritorio\\Documentos ULPGC\\VC\\P4\\VC-P4\\TGC23_PdH_C0056cut.mp4: 384x640 2 persons, 86.0ms\n",
      "video 1/1 (frame 146/375) c:\\Users\\santu\\OneDrive\\Escritorio\\Documentos ULPGC\\VC\\P4\\VC-P4\\TGC23_PdH_C0056cut.mp4: 384x640 2 persons, 89.0ms\n",
      "video 1/1 (frame 147/375) c:\\Users\\santu\\OneDrive\\Escritorio\\Documentos ULPGC\\VC\\P4\\VC-P4\\TGC23_PdH_C0056cut.mp4: 384x640 2 persons, 87.0ms\n",
      "video 1/1 (frame 148/375) c:\\Users\\santu\\OneDrive\\Escritorio\\Documentos ULPGC\\VC\\P4\\VC-P4\\TGC23_PdH_C0056cut.mp4: 384x640 2 persons, 87.0ms\n",
      "video 1/1 (frame 149/375) c:\\Users\\santu\\OneDrive\\Escritorio\\Documentos ULPGC\\VC\\P4\\VC-P4\\TGC23_PdH_C0056cut.mp4: 384x640 2 persons, 89.0ms\n",
      "video 1/1 (frame 150/375) c:\\Users\\santu\\OneDrive\\Escritorio\\Documentos ULPGC\\VC\\P4\\VC-P4\\TGC23_PdH_C0056cut.mp4: 384x640 2 persons, 89.0ms\n",
      "video 1/1 (frame 151/375) c:\\Users\\santu\\OneDrive\\Escritorio\\Documentos ULPGC\\VC\\P4\\VC-P4\\TGC23_PdH_C0056cut.mp4: 384x640 2 persons, 88.0ms\n",
      "video 1/1 (frame 152/375) c:\\Users\\santu\\OneDrive\\Escritorio\\Documentos ULPGC\\VC\\P4\\VC-P4\\TGC23_PdH_C0056cut.mp4: 384x640 2 persons, 93.0ms\n",
      "video 1/1 (frame 153/375) c:\\Users\\santu\\OneDrive\\Escritorio\\Documentos ULPGC\\VC\\P4\\VC-P4\\TGC23_PdH_C0056cut.mp4: 384x640 2 persons, 88.0ms\n",
      "video 1/1 (frame 154/375) c:\\Users\\santu\\OneDrive\\Escritorio\\Documentos ULPGC\\VC\\P4\\VC-P4\\TGC23_PdH_C0056cut.mp4: 384x640 2 persons, 88.7ms\n",
      "video 1/1 (frame 155/375) c:\\Users\\santu\\OneDrive\\Escritorio\\Documentos ULPGC\\VC\\P4\\VC-P4\\TGC23_PdH_C0056cut.mp4: 384x640 2 persons, 89.0ms\n",
      "video 1/1 (frame 156/375) c:\\Users\\santu\\OneDrive\\Escritorio\\Documentos ULPGC\\VC\\P4\\VC-P4\\TGC23_PdH_C0056cut.mp4: 384x640 2 persons, 85.0ms\n",
      "video 1/1 (frame 157/375) c:\\Users\\santu\\OneDrive\\Escritorio\\Documentos ULPGC\\VC\\P4\\VC-P4\\TGC23_PdH_C0056cut.mp4: 384x640 2 persons, 87.0ms\n",
      "video 1/1 (frame 158/375) c:\\Users\\santu\\OneDrive\\Escritorio\\Documentos ULPGC\\VC\\P4\\VC-P4\\TGC23_PdH_C0056cut.mp4: 384x640 2 persons, 88.0ms\n",
      "video 1/1 (frame 159/375) c:\\Users\\santu\\OneDrive\\Escritorio\\Documentos ULPGC\\VC\\P4\\VC-P4\\TGC23_PdH_C0056cut.mp4: 384x640 2 persons, 88.0ms\n",
      "video 1/1 (frame 160/375) c:\\Users\\santu\\OneDrive\\Escritorio\\Documentos ULPGC\\VC\\P4\\VC-P4\\TGC23_PdH_C0056cut.mp4: 384x640 2 persons, 90.0ms\n",
      "video 1/1 (frame 161/375) c:\\Users\\santu\\OneDrive\\Escritorio\\Documentos ULPGC\\VC\\P4\\VC-P4\\TGC23_PdH_C0056cut.mp4: 384x640 2 persons, 88.0ms\n",
      "video 1/1 (frame 162/375) c:\\Users\\santu\\OneDrive\\Escritorio\\Documentos ULPGC\\VC\\P4\\VC-P4\\TGC23_PdH_C0056cut.mp4: 384x640 2 persons, 90.0ms\n",
      "video 1/1 (frame 163/375) c:\\Users\\santu\\OneDrive\\Escritorio\\Documentos ULPGC\\VC\\P4\\VC-P4\\TGC23_PdH_C0056cut.mp4: 384x640 2 persons, 89.0ms\n",
      "video 1/1 (frame 164/375) c:\\Users\\santu\\OneDrive\\Escritorio\\Documentos ULPGC\\VC\\P4\\VC-P4\\TGC23_PdH_C0056cut.mp4: 384x640 2 persons, 95.0ms\n",
      "video 1/1 (frame 165/375) c:\\Users\\santu\\OneDrive\\Escritorio\\Documentos ULPGC\\VC\\P4\\VC-P4\\TGC23_PdH_C0056cut.mp4: 384x640 2 persons, 88.0ms\n",
      "video 1/1 (frame 166/375) c:\\Users\\santu\\OneDrive\\Escritorio\\Documentos ULPGC\\VC\\P4\\VC-P4\\TGC23_PdH_C0056cut.mp4: 384x640 2 persons, 88.0ms\n",
      "video 1/1 (frame 167/375) c:\\Users\\santu\\OneDrive\\Escritorio\\Documentos ULPGC\\VC\\P4\\VC-P4\\TGC23_PdH_C0056cut.mp4: 384x640 2 persons, 89.0ms\n",
      "video 1/1 (frame 168/375) c:\\Users\\santu\\OneDrive\\Escritorio\\Documentos ULPGC\\VC\\P4\\VC-P4\\TGC23_PdH_C0056cut.mp4: 384x640 2 persons, 91.4ms\n",
      "video 1/1 (frame 169/375) c:\\Users\\santu\\OneDrive\\Escritorio\\Documentos ULPGC\\VC\\P4\\VC-P4\\TGC23_PdH_C0056cut.mp4: 384x640 2 persons, 88.6ms\n",
      "video 1/1 (frame 170/375) c:\\Users\\santu\\OneDrive\\Escritorio\\Documentos ULPGC\\VC\\P4\\VC-P4\\TGC23_PdH_C0056cut.mp4: 384x640 2 persons, 87.0ms\n",
      "video 1/1 (frame 171/375) c:\\Users\\santu\\OneDrive\\Escritorio\\Documentos ULPGC\\VC\\P4\\VC-P4\\TGC23_PdH_C0056cut.mp4: 384x640 2 persons, 87.0ms\n",
      "video 1/1 (frame 172/375) c:\\Users\\santu\\OneDrive\\Escritorio\\Documentos ULPGC\\VC\\P4\\VC-P4\\TGC23_PdH_C0056cut.mp4: 384x640 2 persons, 88.0ms\n",
      "video 1/1 (frame 173/375) c:\\Users\\santu\\OneDrive\\Escritorio\\Documentos ULPGC\\VC\\P4\\VC-P4\\TGC23_PdH_C0056cut.mp4: 384x640 2 persons, 86.0ms\n",
      "video 1/1 (frame 174/375) c:\\Users\\santu\\OneDrive\\Escritorio\\Documentos ULPGC\\VC\\P4\\VC-P4\\TGC23_PdH_C0056cut.mp4: 384x640 2 persons, 86.0ms\n",
      "video 1/1 (frame 175/375) c:\\Users\\santu\\OneDrive\\Escritorio\\Documentos ULPGC\\VC\\P4\\VC-P4\\TGC23_PdH_C0056cut.mp4: 384x640 2 persons, 88.0ms\n",
      "video 1/1 (frame 176/375) c:\\Users\\santu\\OneDrive\\Escritorio\\Documentos ULPGC\\VC\\P4\\VC-P4\\TGC23_PdH_C0056cut.mp4: 384x640 2 persons, 86.0ms\n",
      "video 1/1 (frame 177/375) c:\\Users\\santu\\OneDrive\\Escritorio\\Documentos ULPGC\\VC\\P4\\VC-P4\\TGC23_PdH_C0056cut.mp4: 384x640 2 persons, 88.0ms\n",
      "video 1/1 (frame 178/375) c:\\Users\\santu\\OneDrive\\Escritorio\\Documentos ULPGC\\VC\\P4\\VC-P4\\TGC23_PdH_C0056cut.mp4: 384x640 2 persons, 87.3ms\n",
      "video 1/1 (frame 179/375) c:\\Users\\santu\\OneDrive\\Escritorio\\Documentos ULPGC\\VC\\P4\\VC-P4\\TGC23_PdH_C0056cut.mp4: 384x640 2 persons, 89.0ms\n",
      "video 1/1 (frame 180/375) c:\\Users\\santu\\OneDrive\\Escritorio\\Documentos ULPGC\\VC\\P4\\VC-P4\\TGC23_PdH_C0056cut.mp4: 384x640 2 persons, 88.0ms\n",
      "video 1/1 (frame 181/375) c:\\Users\\santu\\OneDrive\\Escritorio\\Documentos ULPGC\\VC\\P4\\VC-P4\\TGC23_PdH_C0056cut.mp4: 384x640 2 persons, 92.0ms\n",
      "video 1/1 (frame 182/375) c:\\Users\\santu\\OneDrive\\Escritorio\\Documentos ULPGC\\VC\\P4\\VC-P4\\TGC23_PdH_C0056cut.mp4: 384x640 2 persons, 90.0ms\n",
      "video 1/1 (frame 183/375) c:\\Users\\santu\\OneDrive\\Escritorio\\Documentos ULPGC\\VC\\P4\\VC-P4\\TGC23_PdH_C0056cut.mp4: 384x640 2 persons, 87.0ms\n",
      "video 1/1 (frame 184/375) c:\\Users\\santu\\OneDrive\\Escritorio\\Documentos ULPGC\\VC\\P4\\VC-P4\\TGC23_PdH_C0056cut.mp4: 384x640 2 persons, 86.0ms\n",
      "video 1/1 (frame 185/375) c:\\Users\\santu\\OneDrive\\Escritorio\\Documentos ULPGC\\VC\\P4\\VC-P4\\TGC23_PdH_C0056cut.mp4: 384x640 2 persons, 90.0ms\n",
      "video 1/1 (frame 186/375) c:\\Users\\santu\\OneDrive\\Escritorio\\Documentos ULPGC\\VC\\P4\\VC-P4\\TGC23_PdH_C0056cut.mp4: 384x640 2 persons, 96.0ms\n",
      "video 1/1 (frame 187/375) c:\\Users\\santu\\OneDrive\\Escritorio\\Documentos ULPGC\\VC\\P4\\VC-P4\\TGC23_PdH_C0056cut.mp4: 384x640 2 persons, 86.0ms\n",
      "video 1/1 (frame 188/375) c:\\Users\\santu\\OneDrive\\Escritorio\\Documentos ULPGC\\VC\\P4\\VC-P4\\TGC23_PdH_C0056cut.mp4: 384x640 2 persons, 100.0ms\n",
      "video 1/1 (frame 189/375) c:\\Users\\santu\\OneDrive\\Escritorio\\Documentos ULPGC\\VC\\P4\\VC-P4\\TGC23_PdH_C0056cut.mp4: 384x640 2 persons, 87.0ms\n",
      "video 1/1 (frame 190/375) c:\\Users\\santu\\OneDrive\\Escritorio\\Documentos ULPGC\\VC\\P4\\VC-P4\\TGC23_PdH_C0056cut.mp4: 384x640 2 persons, 88.5ms\n",
      "video 1/1 (frame 191/375) c:\\Users\\santu\\OneDrive\\Escritorio\\Documentos ULPGC\\VC\\P4\\VC-P4\\TGC23_PdH_C0056cut.mp4: 384x640 2 persons, 84.0ms\n",
      "video 1/1 (frame 192/375) c:\\Users\\santu\\OneDrive\\Escritorio\\Documentos ULPGC\\VC\\P4\\VC-P4\\TGC23_PdH_C0056cut.mp4: 384x640 2 persons, 87.0ms\n",
      "video 1/1 (frame 193/375) c:\\Users\\santu\\OneDrive\\Escritorio\\Documentos ULPGC\\VC\\P4\\VC-P4\\TGC23_PdH_C0056cut.mp4: 384x640 2 persons, 87.0ms\n",
      "video 1/1 (frame 194/375) c:\\Users\\santu\\OneDrive\\Escritorio\\Documentos ULPGC\\VC\\P4\\VC-P4\\TGC23_PdH_C0056cut.mp4: 384x640 2 persons, 90.0ms\n",
      "video 1/1 (frame 195/375) c:\\Users\\santu\\OneDrive\\Escritorio\\Documentos ULPGC\\VC\\P4\\VC-P4\\TGC23_PdH_C0056cut.mp4: 384x640 1 person, 1 horse, 87.0ms\n",
      "video 1/1 (frame 196/375) c:\\Users\\santu\\OneDrive\\Escritorio\\Documentos ULPGC\\VC\\P4\\VC-P4\\TGC23_PdH_C0056cut.mp4: 384x640 1 person, 1 horse, 89.0ms\n",
      "video 1/1 (frame 197/375) c:\\Users\\santu\\OneDrive\\Escritorio\\Documentos ULPGC\\VC\\P4\\VC-P4\\TGC23_PdH_C0056cut.mp4: 384x640 2 persons, 89.0ms\n",
      "video 1/1 (frame 198/375) c:\\Users\\santu\\OneDrive\\Escritorio\\Documentos ULPGC\\VC\\P4\\VC-P4\\TGC23_PdH_C0056cut.mp4: 384x640 2 persons, 89.0ms\n",
      "video 1/1 (frame 199/375) c:\\Users\\santu\\OneDrive\\Escritorio\\Documentos ULPGC\\VC\\P4\\VC-P4\\TGC23_PdH_C0056cut.mp4: 384x640 2 persons, 86.0ms\n",
      "video 1/1 (frame 200/375) c:\\Users\\santu\\OneDrive\\Escritorio\\Documentos ULPGC\\VC\\P4\\VC-P4\\TGC23_PdH_C0056cut.mp4: 384x640 2 persons, 87.0ms\n",
      "video 1/1 (frame 201/375) c:\\Users\\santu\\OneDrive\\Escritorio\\Documentos ULPGC\\VC\\P4\\VC-P4\\TGC23_PdH_C0056cut.mp4: 384x640 1 person, 1 horse, 88.0ms\n",
      "video 1/1 (frame 202/375) c:\\Users\\santu\\OneDrive\\Escritorio\\Documentos ULPGC\\VC\\P4\\VC-P4\\TGC23_PdH_C0056cut.mp4: 384x640 2 persons, 87.0ms\n",
      "video 1/1 (frame 203/375) c:\\Users\\santu\\OneDrive\\Escritorio\\Documentos ULPGC\\VC\\P4\\VC-P4\\TGC23_PdH_C0056cut.mp4: 384x640 2 persons, 86.0ms\n",
      "video 1/1 (frame 204/375) c:\\Users\\santu\\OneDrive\\Escritorio\\Documentos ULPGC\\VC\\P4\\VC-P4\\TGC23_PdH_C0056cut.mp4: 384x640 2 persons, 88.0ms\n",
      "video 1/1 (frame 205/375) c:\\Users\\santu\\OneDrive\\Escritorio\\Documentos ULPGC\\VC\\P4\\VC-P4\\TGC23_PdH_C0056cut.mp4: 384x640 2 persons, 88.0ms\n",
      "video 1/1 (frame 206/375) c:\\Users\\santu\\OneDrive\\Escritorio\\Documentos ULPGC\\VC\\P4\\VC-P4\\TGC23_PdH_C0056cut.mp4: 384x640 2 persons, 86.0ms\n",
      "video 1/1 (frame 207/375) c:\\Users\\santu\\OneDrive\\Escritorio\\Documentos ULPGC\\VC\\P4\\VC-P4\\TGC23_PdH_C0056cut.mp4: 384x640 2 persons, 90.0ms\n",
      "video 1/1 (frame 208/375) c:\\Users\\santu\\OneDrive\\Escritorio\\Documentos ULPGC\\VC\\P4\\VC-P4\\TGC23_PdH_C0056cut.mp4: 384x640 2 persons, 90.8ms\n",
      "video 1/1 (frame 209/375) c:\\Users\\santu\\OneDrive\\Escritorio\\Documentos ULPGC\\VC\\P4\\VC-P4\\TGC23_PdH_C0056cut.mp4: 384x640 2 persons, 87.0ms\n",
      "video 1/1 (frame 210/375) c:\\Users\\santu\\OneDrive\\Escritorio\\Documentos ULPGC\\VC\\P4\\VC-P4\\TGC23_PdH_C0056cut.mp4: 384x640 2 persons, 89.0ms\n",
      "video 1/1 (frame 211/375) c:\\Users\\santu\\OneDrive\\Escritorio\\Documentos ULPGC\\VC\\P4\\VC-P4\\TGC23_PdH_C0056cut.mp4: 384x640 2 persons, 88.0ms\n",
      "video 1/1 (frame 212/375) c:\\Users\\santu\\OneDrive\\Escritorio\\Documentos ULPGC\\VC\\P4\\VC-P4\\TGC23_PdH_C0056cut.mp4: 384x640 2 persons, 87.0ms\n",
      "video 1/1 (frame 213/375) c:\\Users\\santu\\OneDrive\\Escritorio\\Documentos ULPGC\\VC\\P4\\VC-P4\\TGC23_PdH_C0056cut.mp4: 384x640 2 persons, 88.0ms\n",
      "video 1/1 (frame 214/375) c:\\Users\\santu\\OneDrive\\Escritorio\\Documentos ULPGC\\VC\\P4\\VC-P4\\TGC23_PdH_C0056cut.mp4: 384x640 2 persons, 90.0ms\n",
      "video 1/1 (frame 215/375) c:\\Users\\santu\\OneDrive\\Escritorio\\Documentos ULPGC\\VC\\P4\\VC-P4\\TGC23_PdH_C0056cut.mp4: 384x640 2 persons, 86.0ms\n",
      "video 1/1 (frame 216/375) c:\\Users\\santu\\OneDrive\\Escritorio\\Documentos ULPGC\\VC\\P4\\VC-P4\\TGC23_PdH_C0056cut.mp4: 384x640 2 persons, 90.0ms\n",
      "video 1/1 (frame 217/375) c:\\Users\\santu\\OneDrive\\Escritorio\\Documentos ULPGC\\VC\\P4\\VC-P4\\TGC23_PdH_C0056cut.mp4: 384x640 2 persons, 87.0ms\n",
      "video 1/1 (frame 218/375) c:\\Users\\santu\\OneDrive\\Escritorio\\Documentos ULPGC\\VC\\P4\\VC-P4\\TGC23_PdH_C0056cut.mp4: 384x640 2 persons, 87.0ms\n",
      "video 1/1 (frame 219/375) c:\\Users\\santu\\OneDrive\\Escritorio\\Documentos ULPGC\\VC\\P4\\VC-P4\\TGC23_PdH_C0056cut.mp4: 384x640 2 persons, 87.0ms\n",
      "video 1/1 (frame 220/375) c:\\Users\\santu\\OneDrive\\Escritorio\\Documentos ULPGC\\VC\\P4\\VC-P4\\TGC23_PdH_C0056cut.mp4: 384x640 2 persons, 88.0ms\n",
      "video 1/1 (frame 221/375) c:\\Users\\santu\\OneDrive\\Escritorio\\Documentos ULPGC\\VC\\P4\\VC-P4\\TGC23_PdH_C0056cut.mp4: 384x640 2 persons, 89.0ms\n",
      "video 1/1 (frame 222/375) c:\\Users\\santu\\OneDrive\\Escritorio\\Documentos ULPGC\\VC\\P4\\VC-P4\\TGC23_PdH_C0056cut.mp4: 384x640 2 persons, 83.0ms\n",
      "video 1/1 (frame 223/375) c:\\Users\\santu\\OneDrive\\Escritorio\\Documentos ULPGC\\VC\\P4\\VC-P4\\TGC23_PdH_C0056cut.mp4: 384x640 2 persons, 90.0ms\n",
      "video 1/1 (frame 224/375) c:\\Users\\santu\\OneDrive\\Escritorio\\Documentos ULPGC\\VC\\P4\\VC-P4\\TGC23_PdH_C0056cut.mp4: 384x640 2 persons, 88.0ms\n",
      "video 1/1 (frame 225/375) c:\\Users\\santu\\OneDrive\\Escritorio\\Documentos ULPGC\\VC\\P4\\VC-P4\\TGC23_PdH_C0056cut.mp4: 384x640 2 persons, 84.0ms\n",
      "video 1/1 (frame 226/375) c:\\Users\\santu\\OneDrive\\Escritorio\\Documentos ULPGC\\VC\\P4\\VC-P4\\TGC23_PdH_C0056cut.mp4: 384x640 2 persons, 89.4ms\n",
      "video 1/1 (frame 227/375) c:\\Users\\santu\\OneDrive\\Escritorio\\Documentos ULPGC\\VC\\P4\\VC-P4\\TGC23_PdH_C0056cut.mp4: 384x640 2 persons, 87.0ms\n",
      "video 1/1 (frame 228/375) c:\\Users\\santu\\OneDrive\\Escritorio\\Documentos ULPGC\\VC\\P4\\VC-P4\\TGC23_PdH_C0056cut.mp4: 384x640 2 persons, 88.0ms\n",
      "video 1/1 (frame 229/375) c:\\Users\\santu\\OneDrive\\Escritorio\\Documentos ULPGC\\VC\\P4\\VC-P4\\TGC23_PdH_C0056cut.mp4: 384x640 2 persons, 88.0ms\n",
      "video 1/1 (frame 230/375) c:\\Users\\santu\\OneDrive\\Escritorio\\Documentos ULPGC\\VC\\P4\\VC-P4\\TGC23_PdH_C0056cut.mp4: 384x640 2 persons, 88.0ms\n",
      "video 1/1 (frame 231/375) c:\\Users\\santu\\OneDrive\\Escritorio\\Documentos ULPGC\\VC\\P4\\VC-P4\\TGC23_PdH_C0056cut.mp4: 384x640 2 persons, 89.0ms\n",
      "video 1/1 (frame 232/375) c:\\Users\\santu\\OneDrive\\Escritorio\\Documentos ULPGC\\VC\\P4\\VC-P4\\TGC23_PdH_C0056cut.mp4: 384x640 2 persons, 86.0ms\n",
      "video 1/1 (frame 233/375) c:\\Users\\santu\\OneDrive\\Escritorio\\Documentos ULPGC\\VC\\P4\\VC-P4\\TGC23_PdH_C0056cut.mp4: 384x640 2 persons, 88.0ms\n",
      "video 1/1 (frame 234/375) c:\\Users\\santu\\OneDrive\\Escritorio\\Documentos ULPGC\\VC\\P4\\VC-P4\\TGC23_PdH_C0056cut.mp4: 384x640 2 persons, 90.0ms\n",
      "video 1/1 (frame 235/375) c:\\Users\\santu\\OneDrive\\Escritorio\\Documentos ULPGC\\VC\\P4\\VC-P4\\TGC23_PdH_C0056cut.mp4: 384x640 2 persons, 89.0ms\n",
      "video 1/1 (frame 236/375) c:\\Users\\santu\\OneDrive\\Escritorio\\Documentos ULPGC\\VC\\P4\\VC-P4\\TGC23_PdH_C0056cut.mp4: 384x640 2 persons, 87.0ms\n",
      "video 1/1 (frame 237/375) c:\\Users\\santu\\OneDrive\\Escritorio\\Documentos ULPGC\\VC\\P4\\VC-P4\\TGC23_PdH_C0056cut.mp4: 384x640 2 persons, 86.0ms\n",
      "video 1/1 (frame 238/375) c:\\Users\\santu\\OneDrive\\Escritorio\\Documentos ULPGC\\VC\\P4\\VC-P4\\TGC23_PdH_C0056cut.mp4: 384x640 2 persons, 89.0ms\n",
      "video 1/1 (frame 239/375) c:\\Users\\santu\\OneDrive\\Escritorio\\Documentos ULPGC\\VC\\P4\\VC-P4\\TGC23_PdH_C0056cut.mp4: 384x640 2 persons, 87.0ms\n",
      "video 1/1 (frame 240/375) c:\\Users\\santu\\OneDrive\\Escritorio\\Documentos ULPGC\\VC\\P4\\VC-P4\\TGC23_PdH_C0056cut.mp4: 384x640 2 persons, 94.0ms\n",
      "video 1/1 (frame 241/375) c:\\Users\\santu\\OneDrive\\Escritorio\\Documentos ULPGC\\VC\\P4\\VC-P4\\TGC23_PdH_C0056cut.mp4: 384x640 2 persons, 85.0ms\n",
      "video 1/1 (frame 242/375) c:\\Users\\santu\\OneDrive\\Escritorio\\Documentos ULPGC\\VC\\P4\\VC-P4\\TGC23_PdH_C0056cut.mp4: 384x640 2 persons, 102.0ms\n",
      "video 1/1 (frame 243/375) c:\\Users\\santu\\OneDrive\\Escritorio\\Documentos ULPGC\\VC\\P4\\VC-P4\\TGC23_PdH_C0056cut.mp4: 384x640 2 persons, 96.0ms\n",
      "video 1/1 (frame 244/375) c:\\Users\\santu\\OneDrive\\Escritorio\\Documentos ULPGC\\VC\\P4\\VC-P4\\TGC23_PdH_C0056cut.mp4: 384x640 2 persons, 90.0ms\n",
      "video 1/1 (frame 245/375) c:\\Users\\santu\\OneDrive\\Escritorio\\Documentos ULPGC\\VC\\P4\\VC-P4\\TGC23_PdH_C0056cut.mp4: 384x640 2 persons, 88.0ms\n",
      "video 1/1 (frame 246/375) c:\\Users\\santu\\OneDrive\\Escritorio\\Documentos ULPGC\\VC\\P4\\VC-P4\\TGC23_PdH_C0056cut.mp4: 384x640 2 persons, 1 bicycle, 84.0ms\n",
      "video 1/1 (frame 247/375) c:\\Users\\santu\\OneDrive\\Escritorio\\Documentos ULPGC\\VC\\P4\\VC-P4\\TGC23_PdH_C0056cut.mp4: 384x640 2 persons, 1 bicycle, 86.0ms\n",
      "video 1/1 (frame 248/375) c:\\Users\\santu\\OneDrive\\Escritorio\\Documentos ULPGC\\VC\\P4\\VC-P4\\TGC23_PdH_C0056cut.mp4: 384x640 2 persons, 1 bicycle, 87.0ms\n",
      "video 1/1 (frame 249/375) c:\\Users\\santu\\OneDrive\\Escritorio\\Documentos ULPGC\\VC\\P4\\VC-P4\\TGC23_PdH_C0056cut.mp4: 384x640 2 persons, 1 bicycle, 89.0ms\n",
      "video 1/1 (frame 250/375) c:\\Users\\santu\\OneDrive\\Escritorio\\Documentos ULPGC\\VC\\P4\\VC-P4\\TGC23_PdH_C0056cut.mp4: 384x640 2 persons, 1 bicycle, 87.0ms\n",
      "video 1/1 (frame 251/375) c:\\Users\\santu\\OneDrive\\Escritorio\\Documentos ULPGC\\VC\\P4\\VC-P4\\TGC23_PdH_C0056cut.mp4: 384x640 2 persons, 1 bicycle, 88.0ms\n",
      "video 1/1 (frame 252/375) c:\\Users\\santu\\OneDrive\\Escritorio\\Documentos ULPGC\\VC\\P4\\VC-P4\\TGC23_PdH_C0056cut.mp4: 384x640 2 persons, 1 bicycle, 87.0ms\n",
      "video 1/1 (frame 253/375) c:\\Users\\santu\\OneDrive\\Escritorio\\Documentos ULPGC\\VC\\P4\\VC-P4\\TGC23_PdH_C0056cut.mp4: 384x640 2 persons, 87.0ms\n",
      "video 1/1 (frame 254/375) c:\\Users\\santu\\OneDrive\\Escritorio\\Documentos ULPGC\\VC\\P4\\VC-P4\\TGC23_PdH_C0056cut.mp4: 384x640 2 persons, 84.0ms\n",
      "video 1/1 (frame 255/375) c:\\Users\\santu\\OneDrive\\Escritorio\\Documentos ULPGC\\VC\\P4\\VC-P4\\TGC23_PdH_C0056cut.mp4: 384x640 2 persons, 91.0ms\n",
      "video 1/1 (frame 256/375) c:\\Users\\santu\\OneDrive\\Escritorio\\Documentos ULPGC\\VC\\P4\\VC-P4\\TGC23_PdH_C0056cut.mp4: 384x640 2 persons, 90.0ms\n",
      "video 1/1 (frame 257/375) c:\\Users\\santu\\OneDrive\\Escritorio\\Documentos ULPGC\\VC\\P4\\VC-P4\\TGC23_PdH_C0056cut.mp4: 384x640 2 persons, 89.0ms\n",
      "video 1/1 (frame 258/375) c:\\Users\\santu\\OneDrive\\Escritorio\\Documentos ULPGC\\VC\\P4\\VC-P4\\TGC23_PdH_C0056cut.mp4: 384x640 2 persons, 90.0ms\n",
      "video 1/1 (frame 259/375) c:\\Users\\santu\\OneDrive\\Escritorio\\Documentos ULPGC\\VC\\P4\\VC-P4\\TGC23_PdH_C0056cut.mp4: 384x640 2 persons, 95.0ms\n",
      "video 1/1 (frame 260/375) c:\\Users\\santu\\OneDrive\\Escritorio\\Documentos ULPGC\\VC\\P4\\VC-P4\\TGC23_PdH_C0056cut.mp4: 384x640 2 persons, 88.0ms\n",
      "video 1/1 (frame 261/375) c:\\Users\\santu\\OneDrive\\Escritorio\\Documentos ULPGC\\VC\\P4\\VC-P4\\TGC23_PdH_C0056cut.mp4: 384x640 2 persons, 1 bicycle, 89.0ms\n",
      "video 1/1 (frame 262/375) c:\\Users\\santu\\OneDrive\\Escritorio\\Documentos ULPGC\\VC\\P4\\VC-P4\\TGC23_PdH_C0056cut.mp4: 384x640 2 persons, 1 bicycle, 87.0ms\n",
      "video 1/1 (frame 263/375) c:\\Users\\santu\\OneDrive\\Escritorio\\Documentos ULPGC\\VC\\P4\\VC-P4\\TGC23_PdH_C0056cut.mp4: 384x640 2 persons, 1 bicycle, 89.0ms\n",
      "video 1/1 (frame 264/375) c:\\Users\\santu\\OneDrive\\Escritorio\\Documentos ULPGC\\VC\\P4\\VC-P4\\TGC23_PdH_C0056cut.mp4: 384x640 2 persons, 1 bicycle, 119.0ms\n",
      "video 1/1 (frame 265/375) c:\\Users\\santu\\OneDrive\\Escritorio\\Documentos ULPGC\\VC\\P4\\VC-P4\\TGC23_PdH_C0056cut.mp4: 384x640 2 persons, 1 bicycle, 86.0ms\n",
      "video 1/1 (frame 266/375) c:\\Users\\santu\\OneDrive\\Escritorio\\Documentos ULPGC\\VC\\P4\\VC-P4\\TGC23_PdH_C0056cut.mp4: 384x640 2 persons, 1 bicycle, 87.0ms\n",
      "video 1/1 (frame 267/375) c:\\Users\\santu\\OneDrive\\Escritorio\\Documentos ULPGC\\VC\\P4\\VC-P4\\TGC23_PdH_C0056cut.mp4: 384x640 2 persons, 1 bicycle, 99.0ms\n",
      "video 1/1 (frame 268/375) c:\\Users\\santu\\OneDrive\\Escritorio\\Documentos ULPGC\\VC\\P4\\VC-P4\\TGC23_PdH_C0056cut.mp4: 384x640 2 persons, 1 bicycle, 88.0ms\n",
      "video 1/1 (frame 269/375) c:\\Users\\santu\\OneDrive\\Escritorio\\Documentos ULPGC\\VC\\P4\\VC-P4\\TGC23_PdH_C0056cut.mp4: 384x640 2 persons, 1 bicycle, 86.0ms\n",
      "video 1/1 (frame 270/375) c:\\Users\\santu\\OneDrive\\Escritorio\\Documentos ULPGC\\VC\\P4\\VC-P4\\TGC23_PdH_C0056cut.mp4: 384x640 2 persons, 1 bicycle, 88.0ms\n",
      "video 1/1 (frame 271/375) c:\\Users\\santu\\OneDrive\\Escritorio\\Documentos ULPGC\\VC\\P4\\VC-P4\\TGC23_PdH_C0056cut.mp4: 384x640 2 persons, 1 bicycle, 91.0ms\n",
      "video 1/1 (frame 272/375) c:\\Users\\santu\\OneDrive\\Escritorio\\Documentos ULPGC\\VC\\P4\\VC-P4\\TGC23_PdH_C0056cut.mp4: 384x640 2 persons, 1 bicycle, 85.0ms\n",
      "video 1/1 (frame 273/375) c:\\Users\\santu\\OneDrive\\Escritorio\\Documentos ULPGC\\VC\\P4\\VC-P4\\TGC23_PdH_C0056cut.mp4: 384x640 2 persons, 1 bicycle, 89.0ms\n",
      "video 1/1 (frame 274/375) c:\\Users\\santu\\OneDrive\\Escritorio\\Documentos ULPGC\\VC\\P4\\VC-P4\\TGC23_PdH_C0056cut.mp4: 384x640 2 persons, 1 bicycle, 91.0ms\n",
      "video 1/1 (frame 275/375) c:\\Users\\santu\\OneDrive\\Escritorio\\Documentos ULPGC\\VC\\P4\\VC-P4\\TGC23_PdH_C0056cut.mp4: 384x640 2 persons, 1 bicycle, 89.0ms\n",
      "video 1/1 (frame 276/375) c:\\Users\\santu\\OneDrive\\Escritorio\\Documentos ULPGC\\VC\\P4\\VC-P4\\TGC23_PdH_C0056cut.mp4: 384x640 2 persons, 1 bicycle, 86.0ms\n",
      "video 1/1 (frame 277/375) c:\\Users\\santu\\OneDrive\\Escritorio\\Documentos ULPGC\\VC\\P4\\VC-P4\\TGC23_PdH_C0056cut.mp4: 384x640 2 persons, 1 bicycle, 91.0ms\n",
      "video 1/1 (frame 278/375) c:\\Users\\santu\\OneDrive\\Escritorio\\Documentos ULPGC\\VC\\P4\\VC-P4\\TGC23_PdH_C0056cut.mp4: 384x640 2 persons, 1 bicycle, 93.0ms\n",
      "video 1/1 (frame 279/375) c:\\Users\\santu\\OneDrive\\Escritorio\\Documentos ULPGC\\VC\\P4\\VC-P4\\TGC23_PdH_C0056cut.mp4: 384x640 2 persons, 1 bicycle, 89.0ms\n",
      "video 1/1 (frame 280/375) c:\\Users\\santu\\OneDrive\\Escritorio\\Documentos ULPGC\\VC\\P4\\VC-P4\\TGC23_PdH_C0056cut.mp4: 384x640 2 persons, 1 bicycle, 88.6ms\n",
      "video 1/1 (frame 281/375) c:\\Users\\santu\\OneDrive\\Escritorio\\Documentos ULPGC\\VC\\P4\\VC-P4\\TGC23_PdH_C0056cut.mp4: 384x640 2 persons, 1 bicycle, 93.0ms\n",
      "video 1/1 (frame 282/375) c:\\Users\\santu\\OneDrive\\Escritorio\\Documentos ULPGC\\VC\\P4\\VC-P4\\TGC23_PdH_C0056cut.mp4: 384x640 2 persons, 1 bicycle, 88.0ms\n",
      "video 1/1 (frame 283/375) c:\\Users\\santu\\OneDrive\\Escritorio\\Documentos ULPGC\\VC\\P4\\VC-P4\\TGC23_PdH_C0056cut.mp4: 384x640 2 persons, 1 bicycle, 90.4ms\n",
      "video 1/1 (frame 284/375) c:\\Users\\santu\\OneDrive\\Escritorio\\Documentos ULPGC\\VC\\P4\\VC-P4\\TGC23_PdH_C0056cut.mp4: 384x640 2 persons, 1 bicycle, 88.0ms\n",
      "video 1/1 (frame 285/375) c:\\Users\\santu\\OneDrive\\Escritorio\\Documentos ULPGC\\VC\\P4\\VC-P4\\TGC23_PdH_C0056cut.mp4: 384x640 1 person, 1 bicycle, 87.0ms\n",
      "video 1/1 (frame 286/375) c:\\Users\\santu\\OneDrive\\Escritorio\\Documentos ULPGC\\VC\\P4\\VC-P4\\TGC23_PdH_C0056cut.mp4: 384x640 1 person, 1 bicycle, 98.0ms\n",
      "video 1/1 (frame 287/375) c:\\Users\\santu\\OneDrive\\Escritorio\\Documentos ULPGC\\VC\\P4\\VC-P4\\TGC23_PdH_C0056cut.mp4: 384x640 1 person, 1 bicycle, 88.0ms\n",
      "video 1/1 (frame 288/375) c:\\Users\\santu\\OneDrive\\Escritorio\\Documentos ULPGC\\VC\\P4\\VC-P4\\TGC23_PdH_C0056cut.mp4: 384x640 1 person, 1 bicycle, 86.0ms\n",
      "video 1/1 (frame 289/375) c:\\Users\\santu\\OneDrive\\Escritorio\\Documentos ULPGC\\VC\\P4\\VC-P4\\TGC23_PdH_C0056cut.mp4: 384x640 1 person, 1 bicycle, 87.0ms\n",
      "video 1/1 (frame 290/375) c:\\Users\\santu\\OneDrive\\Escritorio\\Documentos ULPGC\\VC\\P4\\VC-P4\\TGC23_PdH_C0056cut.mp4: 384x640 1 person, 1 bicycle, 83.0ms\n",
      "video 1/1 (frame 291/375) c:\\Users\\santu\\OneDrive\\Escritorio\\Documentos ULPGC\\VC\\P4\\VC-P4\\TGC23_PdH_C0056cut.mp4: 384x640 1 person, 1 bicycle, 90.0ms\n",
      "video 1/1 (frame 292/375) c:\\Users\\santu\\OneDrive\\Escritorio\\Documentos ULPGC\\VC\\P4\\VC-P4\\TGC23_PdH_C0056cut.mp4: 384x640 1 person, 1 bicycle, 86.0ms\n",
      "video 1/1 (frame 293/375) c:\\Users\\santu\\OneDrive\\Escritorio\\Documentos ULPGC\\VC\\P4\\VC-P4\\TGC23_PdH_C0056cut.mp4: 384x640 1 person, 1 bicycle, 85.5ms\n",
      "video 1/1 (frame 294/375) c:\\Users\\santu\\OneDrive\\Escritorio\\Documentos ULPGC\\VC\\P4\\VC-P4\\TGC23_PdH_C0056cut.mp4: 384x640 1 person, 1 bicycle, 85.0ms\n",
      "video 1/1 (frame 295/375) c:\\Users\\santu\\OneDrive\\Escritorio\\Documentos ULPGC\\VC\\P4\\VC-P4\\TGC23_PdH_C0056cut.mp4: 384x640 1 person, 1 bicycle, 87.0ms\n",
      "video 1/1 (frame 296/375) c:\\Users\\santu\\OneDrive\\Escritorio\\Documentos ULPGC\\VC\\P4\\VC-P4\\TGC23_PdH_C0056cut.mp4: 384x640 1 person, 1 bicycle, 90.0ms\n",
      "video 1/1 (frame 297/375) c:\\Users\\santu\\OneDrive\\Escritorio\\Documentos ULPGC\\VC\\P4\\VC-P4\\TGC23_PdH_C0056cut.mp4: 384x640 1 person, 1 bicycle, 86.0ms\n",
      "video 1/1 (frame 298/375) c:\\Users\\santu\\OneDrive\\Escritorio\\Documentos ULPGC\\VC\\P4\\VC-P4\\TGC23_PdH_C0056cut.mp4: 384x640 1 person, 1 bicycle, 88.0ms\n",
      "video 1/1 (frame 299/375) c:\\Users\\santu\\OneDrive\\Escritorio\\Documentos ULPGC\\VC\\P4\\VC-P4\\TGC23_PdH_C0056cut.mp4: 384x640 1 person, 1 bicycle, 87.0ms\n",
      "video 1/1 (frame 300/375) c:\\Users\\santu\\OneDrive\\Escritorio\\Documentos ULPGC\\VC\\P4\\VC-P4\\TGC23_PdH_C0056cut.mp4: 384x640 1 person, 1 motorcycle, 88.0ms\n",
      "video 1/1 (frame 301/375) c:\\Users\\santu\\OneDrive\\Escritorio\\Documentos ULPGC\\VC\\P4\\VC-P4\\TGC23_PdH_C0056cut.mp4: 384x640 1 person, 1 bicycle, 88.0ms\n",
      "video 1/1 (frame 302/375) c:\\Users\\santu\\OneDrive\\Escritorio\\Documentos ULPGC\\VC\\P4\\VC-P4\\TGC23_PdH_C0056cut.mp4: 384x640 1 person, 1 bicycle, 85.0ms\n",
      "video 1/1 (frame 303/375) c:\\Users\\santu\\OneDrive\\Escritorio\\Documentos ULPGC\\VC\\P4\\VC-P4\\TGC23_PdH_C0056cut.mp4: 384x640 1 person, 1 bicycle, 91.0ms\n",
      "video 1/1 (frame 304/375) c:\\Users\\santu\\OneDrive\\Escritorio\\Documentos ULPGC\\VC\\P4\\VC-P4\\TGC23_PdH_C0056cut.mp4: 384x640 1 person, 1 motorcycle, 88.0ms\n",
      "video 1/1 (frame 305/375) c:\\Users\\santu\\OneDrive\\Escritorio\\Documentos ULPGC\\VC\\P4\\VC-P4\\TGC23_PdH_C0056cut.mp4: 384x640 1 person, 1 motorcycle, 89.0ms\n",
      "video 1/1 (frame 306/375) c:\\Users\\santu\\OneDrive\\Escritorio\\Documentos ULPGC\\VC\\P4\\VC-P4\\TGC23_PdH_C0056cut.mp4: 384x640 1 person, 1 bicycle, 88.0ms\n",
      "video 1/1 (frame 307/375) c:\\Users\\santu\\OneDrive\\Escritorio\\Documentos ULPGC\\VC\\P4\\VC-P4\\TGC23_PdH_C0056cut.mp4: 384x640 1 person, 1 bicycle, 90.0ms\n",
      "video 1/1 (frame 308/375) c:\\Users\\santu\\OneDrive\\Escritorio\\Documentos ULPGC\\VC\\P4\\VC-P4\\TGC23_PdH_C0056cut.mp4: 384x640 1 person, 1 bicycle, 87.0ms\n",
      "video 1/1 (frame 309/375) c:\\Users\\santu\\OneDrive\\Escritorio\\Documentos ULPGC\\VC\\P4\\VC-P4\\TGC23_PdH_C0056cut.mp4: 384x640 1 person, 1 bicycle, 89.0ms\n",
      "video 1/1 (frame 310/375) c:\\Users\\santu\\OneDrive\\Escritorio\\Documentos ULPGC\\VC\\P4\\VC-P4\\TGC23_PdH_C0056cut.mp4: 384x640 1 person, 1 bicycle, 88.0ms\n",
      "video 1/1 (frame 311/375) c:\\Users\\santu\\OneDrive\\Escritorio\\Documentos ULPGC\\VC\\P4\\VC-P4\\TGC23_PdH_C0056cut.mp4: 384x640 1 person, 1 bicycle, 89.0ms\n",
      "video 1/1 (frame 312/375) c:\\Users\\santu\\OneDrive\\Escritorio\\Documentos ULPGC\\VC\\P4\\VC-P4\\TGC23_PdH_C0056cut.mp4: 384x640 1 person, 1 bicycle, 87.0ms\n",
      "video 1/1 (frame 313/375) c:\\Users\\santu\\OneDrive\\Escritorio\\Documentos ULPGC\\VC\\P4\\VC-P4\\TGC23_PdH_C0056cut.mp4: 384x640 1 person, 1 bicycle, 90.0ms\n",
      "video 1/1 (frame 314/375) c:\\Users\\santu\\OneDrive\\Escritorio\\Documentos ULPGC\\VC\\P4\\VC-P4\\TGC23_PdH_C0056cut.mp4: 384x640 1 person, 1 bicycle, 90.0ms\n",
      "video 1/1 (frame 315/375) c:\\Users\\santu\\OneDrive\\Escritorio\\Documentos ULPGC\\VC\\P4\\VC-P4\\TGC23_PdH_C0056cut.mp4: 384x640 1 person, 1 bicycle, 91.0ms\n",
      "video 1/1 (frame 316/375) c:\\Users\\santu\\OneDrive\\Escritorio\\Documentos ULPGC\\VC\\P4\\VC-P4\\TGC23_PdH_C0056cut.mp4: 384x640 1 bicycle, 88.0ms\n",
      "video 1/1 (frame 317/375) c:\\Users\\santu\\OneDrive\\Escritorio\\Documentos ULPGC\\VC\\P4\\VC-P4\\TGC23_PdH_C0056cut.mp4: 384x640 2 persons, 88.0ms\n",
      "video 1/1 (frame 318/375) c:\\Users\\santu\\OneDrive\\Escritorio\\Documentos ULPGC\\VC\\P4\\VC-P4\\TGC23_PdH_C0056cut.mp4: 384x640 2 persons, 1 bicycle, 90.0ms\n",
      "video 1/1 (frame 319/375) c:\\Users\\santu\\OneDrive\\Escritorio\\Documentos ULPGC\\VC\\P4\\VC-P4\\TGC23_PdH_C0056cut.mp4: 384x640 1 person, 87.0ms\n",
      "video 1/1 (frame 320/375) c:\\Users\\santu\\OneDrive\\Escritorio\\Documentos ULPGC\\VC\\P4\\VC-P4\\TGC23_PdH_C0056cut.mp4: 384x640 2 persons, 87.0ms\n",
      "video 1/1 (frame 321/375) c:\\Users\\santu\\OneDrive\\Escritorio\\Documentos ULPGC\\VC\\P4\\VC-P4\\TGC23_PdH_C0056cut.mp4: 384x640 2 persons, 90.0ms\n",
      "video 1/1 (frame 322/375) c:\\Users\\santu\\OneDrive\\Escritorio\\Documentos ULPGC\\VC\\P4\\VC-P4\\TGC23_PdH_C0056cut.mp4: 384x640 2 persons, 86.0ms\n",
      "video 1/1 (frame 323/375) c:\\Users\\santu\\OneDrive\\Escritorio\\Documentos ULPGC\\VC\\P4\\VC-P4\\TGC23_PdH_C0056cut.mp4: 384x640 2 persons, 88.0ms\n",
      "video 1/1 (frame 324/375) c:\\Users\\santu\\OneDrive\\Escritorio\\Documentos ULPGC\\VC\\P4\\VC-P4\\TGC23_PdH_C0056cut.mp4: 384x640 2 persons, 98.1ms\n",
      "video 1/1 (frame 325/375) c:\\Users\\santu\\OneDrive\\Escritorio\\Documentos ULPGC\\VC\\P4\\VC-P4\\TGC23_PdH_C0056cut.mp4: 384x640 1 person, 85.0ms\n",
      "video 1/1 (frame 326/375) c:\\Users\\santu\\OneDrive\\Escritorio\\Documentos ULPGC\\VC\\P4\\VC-P4\\TGC23_PdH_C0056cut.mp4: 384x640 1 person, 89.0ms\n",
      "video 1/1 (frame 327/375) c:\\Users\\santu\\OneDrive\\Escritorio\\Documentos ULPGC\\VC\\P4\\VC-P4\\TGC23_PdH_C0056cut.mp4: 384x640 2 persons, 89.0ms\n",
      "video 1/1 (frame 328/375) c:\\Users\\santu\\OneDrive\\Escritorio\\Documentos ULPGC\\VC\\P4\\VC-P4\\TGC23_PdH_C0056cut.mp4: 384x640 1 person, 89.0ms\n",
      "video 1/1 (frame 329/375) c:\\Users\\santu\\OneDrive\\Escritorio\\Documentos ULPGC\\VC\\P4\\VC-P4\\TGC23_PdH_C0056cut.mp4: 384x640 1 person, 87.0ms\n",
      "video 1/1 (frame 330/375) c:\\Users\\santu\\OneDrive\\Escritorio\\Documentos ULPGC\\VC\\P4\\VC-P4\\TGC23_PdH_C0056cut.mp4: 384x640 1 person, 85.0ms\n",
      "video 1/1 (frame 331/375) c:\\Users\\santu\\OneDrive\\Escritorio\\Documentos ULPGC\\VC\\P4\\VC-P4\\TGC23_PdH_C0056cut.mp4: 384x640 1 person, 89.0ms\n",
      "video 1/1 (frame 332/375) c:\\Users\\santu\\OneDrive\\Escritorio\\Documentos ULPGC\\VC\\P4\\VC-P4\\TGC23_PdH_C0056cut.mp4: 384x640 1 person, 91.0ms\n",
      "video 1/1 (frame 333/375) c:\\Users\\santu\\OneDrive\\Escritorio\\Documentos ULPGC\\VC\\P4\\VC-P4\\TGC23_PdH_C0056cut.mp4: 384x640 1 person, 84.0ms\n",
      "video 1/1 (frame 334/375) c:\\Users\\santu\\OneDrive\\Escritorio\\Documentos ULPGC\\VC\\P4\\VC-P4\\TGC23_PdH_C0056cut.mp4: 384x640 1 person, 88.0ms\n",
      "video 1/1 (frame 335/375) c:\\Users\\santu\\OneDrive\\Escritorio\\Documentos ULPGC\\VC\\P4\\VC-P4\\TGC23_PdH_C0056cut.mp4: 384x640 1 person, 89.0ms\n",
      "video 1/1 (frame 336/375) c:\\Users\\santu\\OneDrive\\Escritorio\\Documentos ULPGC\\VC\\P4\\VC-P4\\TGC23_PdH_C0056cut.mp4: 384x640 1 person, 86.0ms\n",
      "video 1/1 (frame 337/375) c:\\Users\\santu\\OneDrive\\Escritorio\\Documentos ULPGC\\VC\\P4\\VC-P4\\TGC23_PdH_C0056cut.mp4: 384x640 1 person, 88.0ms\n",
      "video 1/1 (frame 338/375) c:\\Users\\santu\\OneDrive\\Escritorio\\Documentos ULPGC\\VC\\P4\\VC-P4\\TGC23_PdH_C0056cut.mp4: 384x640 1 person, 91.0ms\n",
      "video 1/1 (frame 339/375) c:\\Users\\santu\\OneDrive\\Escritorio\\Documentos ULPGC\\VC\\P4\\VC-P4\\TGC23_PdH_C0056cut.mp4: 384x640 1 person, 90.0ms\n",
      "video 1/1 (frame 340/375) c:\\Users\\santu\\OneDrive\\Escritorio\\Documentos ULPGC\\VC\\P4\\VC-P4\\TGC23_PdH_C0056cut.mp4: 384x640 1 person, 90.0ms\n",
      "video 1/1 (frame 341/375) c:\\Users\\santu\\OneDrive\\Escritorio\\Documentos ULPGC\\VC\\P4\\VC-P4\\TGC23_PdH_C0056cut.mp4: 384x640 1 person, 89.0ms\n",
      "video 1/1 (frame 342/375) c:\\Users\\santu\\OneDrive\\Escritorio\\Documentos ULPGC\\VC\\P4\\VC-P4\\TGC23_PdH_C0056cut.mp4: 384x640 1 person, 88.0ms\n",
      "video 1/1 (frame 343/375) c:\\Users\\santu\\OneDrive\\Escritorio\\Documentos ULPGC\\VC\\P4\\VC-P4\\TGC23_PdH_C0056cut.mp4: 384x640 1 person, 1 bird, 89.0ms\n",
      "video 1/1 (frame 344/375) c:\\Users\\santu\\OneDrive\\Escritorio\\Documentos ULPGC\\VC\\P4\\VC-P4\\TGC23_PdH_C0056cut.mp4: 384x640 1 person, 1 bird, 83.0ms\n",
      "video 1/1 (frame 345/375) c:\\Users\\santu\\OneDrive\\Escritorio\\Documentos ULPGC\\VC\\P4\\VC-P4\\TGC23_PdH_C0056cut.mp4: 384x640 1 person, 1 bird, 91.0ms\n",
      "video 1/1 (frame 346/375) c:\\Users\\santu\\OneDrive\\Escritorio\\Documentos ULPGC\\VC\\P4\\VC-P4\\TGC23_PdH_C0056cut.mp4: 384x640 1 person, 1 bird, 88.0ms\n",
      "video 1/1 (frame 347/375) c:\\Users\\santu\\OneDrive\\Escritorio\\Documentos ULPGC\\VC\\P4\\VC-P4\\TGC23_PdH_C0056cut.mp4: 384x640 2 persons, 1 bird, 88.0ms\n",
      "video 1/1 (frame 348/375) c:\\Users\\santu\\OneDrive\\Escritorio\\Documentos ULPGC\\VC\\P4\\VC-P4\\TGC23_PdH_C0056cut.mp4: 384x640 2 persons, 1 bird, 87.0ms\n",
      "video 1/1 (frame 349/375) c:\\Users\\santu\\OneDrive\\Escritorio\\Documentos ULPGC\\VC\\P4\\VC-P4\\TGC23_PdH_C0056cut.mp4: 384x640 1 person, 87.0ms\n",
      "video 1/1 (frame 350/375) c:\\Users\\santu\\OneDrive\\Escritorio\\Documentos ULPGC\\VC\\P4\\VC-P4\\TGC23_PdH_C0056cut.mp4: 384x640 1 person, 1 bird, 89.0ms\n",
      "video 1/1 (frame 351/375) c:\\Users\\santu\\OneDrive\\Escritorio\\Documentos ULPGC\\VC\\P4\\VC-P4\\TGC23_PdH_C0056cut.mp4: 384x640 1 person, 1 bird, 89.0ms\n",
      "video 1/1 (frame 352/375) c:\\Users\\santu\\OneDrive\\Escritorio\\Documentos ULPGC\\VC\\P4\\VC-P4\\TGC23_PdH_C0056cut.mp4: 384x640 2 persons, 89.0ms\n",
      "video 1/1 (frame 353/375) c:\\Users\\santu\\OneDrive\\Escritorio\\Documentos ULPGC\\VC\\P4\\VC-P4\\TGC23_PdH_C0056cut.mp4: 384x640 2 persons, 87.0ms\n",
      "video 1/1 (frame 354/375) c:\\Users\\santu\\OneDrive\\Escritorio\\Documentos ULPGC\\VC\\P4\\VC-P4\\TGC23_PdH_C0056cut.mp4: 384x640 2 persons, 90.0ms\n",
      "video 1/1 (frame 355/375) c:\\Users\\santu\\OneDrive\\Escritorio\\Documentos ULPGC\\VC\\P4\\VC-P4\\TGC23_PdH_C0056cut.mp4: 384x640 2 persons, 89.0ms\n",
      "video 1/1 (frame 356/375) c:\\Users\\santu\\OneDrive\\Escritorio\\Documentos ULPGC\\VC\\P4\\VC-P4\\TGC23_PdH_C0056cut.mp4: 384x640 2 persons, 91.0ms\n",
      "video 1/1 (frame 357/375) c:\\Users\\santu\\OneDrive\\Escritorio\\Documentos ULPGC\\VC\\P4\\VC-P4\\TGC23_PdH_C0056cut.mp4: 384x640 2 persons, 89.0ms\n",
      "video 1/1 (frame 358/375) c:\\Users\\santu\\OneDrive\\Escritorio\\Documentos ULPGC\\VC\\P4\\VC-P4\\TGC23_PdH_C0056cut.mp4: 384x640 2 persons, 99.0ms\n",
      "video 1/1 (frame 359/375) c:\\Users\\santu\\OneDrive\\Escritorio\\Documentos ULPGC\\VC\\P4\\VC-P4\\TGC23_PdH_C0056cut.mp4: 384x640 2 persons, 86.0ms\n",
      "video 1/1 (frame 360/375) c:\\Users\\santu\\OneDrive\\Escritorio\\Documentos ULPGC\\VC\\P4\\VC-P4\\TGC23_PdH_C0056cut.mp4: 384x640 2 persons, 87.0ms\n",
      "video 1/1 (frame 361/375) c:\\Users\\santu\\OneDrive\\Escritorio\\Documentos ULPGC\\VC\\P4\\VC-P4\\TGC23_PdH_C0056cut.mp4: 384x640 2 persons, 86.0ms\n",
      "video 1/1 (frame 362/375) c:\\Users\\santu\\OneDrive\\Escritorio\\Documentos ULPGC\\VC\\P4\\VC-P4\\TGC23_PdH_C0056cut.mp4: 384x640 2 persons, 86.0ms\n",
      "video 1/1 (frame 363/375) c:\\Users\\santu\\OneDrive\\Escritorio\\Documentos ULPGC\\VC\\P4\\VC-P4\\TGC23_PdH_C0056cut.mp4: 384x640 2 persons, 91.0ms\n",
      "video 1/1 (frame 364/375) c:\\Users\\santu\\OneDrive\\Escritorio\\Documentos ULPGC\\VC\\P4\\VC-P4\\TGC23_PdH_C0056cut.mp4: 384x640 2 persons, 93.0ms\n",
      "video 1/1 (frame 365/375) c:\\Users\\santu\\OneDrive\\Escritorio\\Documentos ULPGC\\VC\\P4\\VC-P4\\TGC23_PdH_C0056cut.mp4: 384x640 2 persons, 92.7ms\n",
      "video 1/1 (frame 366/375) c:\\Users\\santu\\OneDrive\\Escritorio\\Documentos ULPGC\\VC\\P4\\VC-P4\\TGC23_PdH_C0056cut.mp4: 384x640 2 persons, 88.0ms\n",
      "video 1/1 (frame 367/375) c:\\Users\\santu\\OneDrive\\Escritorio\\Documentos ULPGC\\VC\\P4\\VC-P4\\TGC23_PdH_C0056cut.mp4: 384x640 2 persons, 87.0ms\n",
      "video 1/1 (frame 368/375) c:\\Users\\santu\\OneDrive\\Escritorio\\Documentos ULPGC\\VC\\P4\\VC-P4\\TGC23_PdH_C0056cut.mp4: 384x640 2 persons, 87.0ms\n",
      "video 1/1 (frame 369/375) c:\\Users\\santu\\OneDrive\\Escritorio\\Documentos ULPGC\\VC\\P4\\VC-P4\\TGC23_PdH_C0056cut.mp4: 384x640 2 persons, 87.0ms\n",
      "video 1/1 (frame 370/375) c:\\Users\\santu\\OneDrive\\Escritorio\\Documentos ULPGC\\VC\\P4\\VC-P4\\TGC23_PdH_C0056cut.mp4: 384x640 2 persons, 88.0ms\n",
      "video 1/1 (frame 371/375) c:\\Users\\santu\\OneDrive\\Escritorio\\Documentos ULPGC\\VC\\P4\\VC-P4\\TGC23_PdH_C0056cut.mp4: 384x640 2 persons, 88.8ms\n",
      "video 1/1 (frame 372/375) c:\\Users\\santu\\OneDrive\\Escritorio\\Documentos ULPGC\\VC\\P4\\VC-P4\\TGC23_PdH_C0056cut.mp4: 384x640 2 persons, 88.0ms\n",
      "video 1/1 (frame 373/375) c:\\Users\\santu\\OneDrive\\Escritorio\\Documentos ULPGC\\VC\\P4\\VC-P4\\TGC23_PdH_C0056cut.mp4: 384x640 2 persons, 1 bird, 89.0ms\n",
      "video 1/1 (frame 374/375) c:\\Users\\santu\\OneDrive\\Escritorio\\Documentos ULPGC\\VC\\P4\\VC-P4\\TGC23_PdH_C0056cut.mp4: 384x640 2 persons, 1 bird, 87.0ms\n",
      "video 1/1 (frame 375/375) c:\\Users\\santu\\OneDrive\\Escritorio\\Documentos ULPGC\\VC\\P4\\VC-P4\\TGC23_PdH_C0056cut.mp4: 384x640 2 persons, 1 bird, 90.0ms\n",
      "Speed: 2.3ms preprocess, 89.8ms inference, 1.4ms postprocess per image at shape (1, 3, 384, 640)\n"
     ]
    }
   ],
   "source": [
    "# Carga del modelo\n",
    "model = YOLO('yolo11n.pt') #Contenedores\n",
    "#model = YOLO('yolov11n-seg.pt') #Máscaras\n",
    "#model = YOLO('yolo11n-pose.pt')  #Pose\n",
    "\n",
    "#Para un vídeo \n",
    "filename = \"TGC23_PdH_C0056cut.mp4\"\n",
    "results = model.track(source=filename, show=True)  # BoT-SORT tracker (por defecto)\n",
    "#results = model.track(source=filename, show=True, tracker=\"bytetrack.yaml\")  # ByteTrack tracker\n",
    "\n",
    "cv2.destroyAllWindows()"
   ]
  },
  {
   "cell_type": "markdown",
   "metadata": {},
   "source": [
    "Reconocimiento de caracteres tras instalar pytesseract y tesseract"
   ]
  },
  {
   "cell_type": "code",
   "execution_count": 7,
   "metadata": {},
   "outputs": [
    {
     "ename": "TesseractNotFoundError",
     "evalue": "C:/Users/santu/AppData/Local/Programs/Tesseract-OCR is not installed or it's not in your PATH. See README file for more information.",
     "output_type": "error",
     "traceback": [
      "\u001b[1;31m---------------------------------------------------------------------------\u001b[0m",
      "\u001b[1;31mPermissionError\u001b[0m                           Traceback (most recent call last)",
      "File \u001b[1;32mc:\\Users\\santu\\anaconda3\\envs\\P4_VC\\lib\\site-packages\\pytesseract\\pytesseract.py:423\u001b[0m, in \u001b[0;36mget_languages\u001b[1;34m(config)\u001b[0m\n\u001b[0;32m    422\u001b[0m \u001b[38;5;28;01mtry\u001b[39;00m:\n\u001b[1;32m--> 423\u001b[0m     result \u001b[38;5;241m=\u001b[39m \u001b[43msubprocess\u001b[49m\u001b[38;5;241;43m.\u001b[39;49m\u001b[43mrun\u001b[49m\u001b[43m(\u001b[49m\n\u001b[0;32m    424\u001b[0m \u001b[43m        \u001b[49m\u001b[43mcmd_args\u001b[49m\u001b[43m,\u001b[49m\n\u001b[0;32m    425\u001b[0m \u001b[43m        \u001b[49m\u001b[43mstdout\u001b[49m\u001b[38;5;241;43m=\u001b[39;49m\u001b[43msubprocess\u001b[49m\u001b[38;5;241;43m.\u001b[39;49m\u001b[43mPIPE\u001b[49m\u001b[43m,\u001b[49m\n\u001b[0;32m    426\u001b[0m \u001b[43m        \u001b[49m\u001b[43mstderr\u001b[49m\u001b[38;5;241;43m=\u001b[39;49m\u001b[43msubprocess\u001b[49m\u001b[38;5;241;43m.\u001b[39;49m\u001b[43mSTDOUT\u001b[49m\u001b[43m,\u001b[49m\n\u001b[0;32m    427\u001b[0m \u001b[43m    \u001b[49m\u001b[43m)\u001b[49m\n\u001b[0;32m    428\u001b[0m \u001b[38;5;28;01mexcept\u001b[39;00m \u001b[38;5;167;01mOSError\u001b[39;00m:\n",
      "File \u001b[1;32mc:\\Users\\santu\\anaconda3\\envs\\P4_VC\\lib\\subprocess.py:505\u001b[0m, in \u001b[0;36mrun\u001b[1;34m(input, capture_output, timeout, check, *popenargs, **kwargs)\u001b[0m\n\u001b[0;32m    503\u001b[0m     kwargs[\u001b[38;5;124m'\u001b[39m\u001b[38;5;124mstderr\u001b[39m\u001b[38;5;124m'\u001b[39m] \u001b[38;5;241m=\u001b[39m PIPE\n\u001b[1;32m--> 505\u001b[0m \u001b[38;5;28;01mwith\u001b[39;00m Popen(\u001b[38;5;241m*\u001b[39mpopenargs, \u001b[38;5;241m*\u001b[39m\u001b[38;5;241m*\u001b[39mkwargs) \u001b[38;5;28;01mas\u001b[39;00m process:\n\u001b[0;32m    506\u001b[0m     \u001b[38;5;28;01mtry\u001b[39;00m:\n",
      "File \u001b[1;32mc:\\Users\\santu\\anaconda3\\envs\\P4_VC\\lib\\subprocess.py:951\u001b[0m, in \u001b[0;36mPopen.__init__\u001b[1;34m(self, args, bufsize, executable, stdin, stdout, stderr, preexec_fn, close_fds, shell, cwd, env, universal_newlines, startupinfo, creationflags, restore_signals, start_new_session, pass_fds, user, group, extra_groups, encoding, errors, text, umask)\u001b[0m\n\u001b[0;32m    948\u001b[0m             \u001b[38;5;28mself\u001b[39m\u001b[38;5;241m.\u001b[39mstderr \u001b[38;5;241m=\u001b[39m io\u001b[38;5;241m.\u001b[39mTextIOWrapper(\u001b[38;5;28mself\u001b[39m\u001b[38;5;241m.\u001b[39mstderr,\n\u001b[0;32m    949\u001b[0m                     encoding\u001b[38;5;241m=\u001b[39mencoding, errors\u001b[38;5;241m=\u001b[39merrors)\n\u001b[1;32m--> 951\u001b[0m     \u001b[38;5;28;43mself\u001b[39;49m\u001b[38;5;241;43m.\u001b[39;49m\u001b[43m_execute_child\u001b[49m\u001b[43m(\u001b[49m\u001b[43margs\u001b[49m\u001b[43m,\u001b[49m\u001b[43m \u001b[49m\u001b[43mexecutable\u001b[49m\u001b[43m,\u001b[49m\u001b[43m \u001b[49m\u001b[43mpreexec_fn\u001b[49m\u001b[43m,\u001b[49m\u001b[43m \u001b[49m\u001b[43mclose_fds\u001b[49m\u001b[43m,\u001b[49m\n\u001b[0;32m    952\u001b[0m \u001b[43m                        \u001b[49m\u001b[43mpass_fds\u001b[49m\u001b[43m,\u001b[49m\u001b[43m \u001b[49m\u001b[43mcwd\u001b[49m\u001b[43m,\u001b[49m\u001b[43m \u001b[49m\u001b[43menv\u001b[49m\u001b[43m,\u001b[49m\n\u001b[0;32m    953\u001b[0m \u001b[43m                        \u001b[49m\u001b[43mstartupinfo\u001b[49m\u001b[43m,\u001b[49m\u001b[43m \u001b[49m\u001b[43mcreationflags\u001b[49m\u001b[43m,\u001b[49m\u001b[43m \u001b[49m\u001b[43mshell\u001b[49m\u001b[43m,\u001b[49m\n\u001b[0;32m    954\u001b[0m \u001b[43m                        \u001b[49m\u001b[43mp2cread\u001b[49m\u001b[43m,\u001b[49m\u001b[43m \u001b[49m\u001b[43mp2cwrite\u001b[49m\u001b[43m,\u001b[49m\n\u001b[0;32m    955\u001b[0m \u001b[43m                        \u001b[49m\u001b[43mc2pread\u001b[49m\u001b[43m,\u001b[49m\u001b[43m \u001b[49m\u001b[43mc2pwrite\u001b[49m\u001b[43m,\u001b[49m\n\u001b[0;32m    956\u001b[0m \u001b[43m                        \u001b[49m\u001b[43merrread\u001b[49m\u001b[43m,\u001b[49m\u001b[43m \u001b[49m\u001b[43merrwrite\u001b[49m\u001b[43m,\u001b[49m\n\u001b[0;32m    957\u001b[0m \u001b[43m                        \u001b[49m\u001b[43mrestore_signals\u001b[49m\u001b[43m,\u001b[49m\n\u001b[0;32m    958\u001b[0m \u001b[43m                        \u001b[49m\u001b[43mgid\u001b[49m\u001b[43m,\u001b[49m\u001b[43m \u001b[49m\u001b[43mgids\u001b[49m\u001b[43m,\u001b[49m\u001b[43m \u001b[49m\u001b[43muid\u001b[49m\u001b[43m,\u001b[49m\u001b[43m \u001b[49m\u001b[43mumask\u001b[49m\u001b[43m,\u001b[49m\n\u001b[0;32m    959\u001b[0m \u001b[43m                        \u001b[49m\u001b[43mstart_new_session\u001b[49m\u001b[43m)\u001b[49m\n\u001b[0;32m    960\u001b[0m \u001b[38;5;28;01mexcept\u001b[39;00m:\n\u001b[0;32m    961\u001b[0m     \u001b[38;5;66;03m# Cleanup if the child failed starting.\u001b[39;00m\n",
      "File \u001b[1;32mc:\\Users\\santu\\anaconda3\\envs\\P4_VC\\lib\\subprocess.py:1436\u001b[0m, in \u001b[0;36mPopen._execute_child\u001b[1;34m(self, args, executable, preexec_fn, close_fds, pass_fds, cwd, env, startupinfo, creationflags, shell, p2cread, p2cwrite, c2pread, c2pwrite, errread, errwrite, unused_restore_signals, unused_gid, unused_gids, unused_uid, unused_umask, unused_start_new_session)\u001b[0m\n\u001b[0;32m   1435\u001b[0m \u001b[38;5;28;01mtry\u001b[39;00m:\n\u001b[1;32m-> 1436\u001b[0m     hp, ht, pid, tid \u001b[38;5;241m=\u001b[39m \u001b[43m_winapi\u001b[49m\u001b[38;5;241;43m.\u001b[39;49m\u001b[43mCreateProcess\u001b[49m\u001b[43m(\u001b[49m\u001b[43mexecutable\u001b[49m\u001b[43m,\u001b[49m\u001b[43m \u001b[49m\u001b[43margs\u001b[49m\u001b[43m,\u001b[49m\n\u001b[0;32m   1437\u001b[0m \u001b[43m                             \u001b[49m\u001b[38;5;66;43;03m# no special security\u001b[39;49;00m\n\u001b[0;32m   1438\u001b[0m \u001b[43m                             \u001b[49m\u001b[38;5;28;43;01mNone\u001b[39;49;00m\u001b[43m,\u001b[49m\u001b[43m \u001b[49m\u001b[38;5;28;43;01mNone\u001b[39;49;00m\u001b[43m,\u001b[49m\n\u001b[0;32m   1439\u001b[0m \u001b[43m                             \u001b[49m\u001b[38;5;28;43mint\u001b[39;49m\u001b[43m(\u001b[49m\u001b[38;5;129;43;01mnot\u001b[39;49;00m\u001b[43m \u001b[49m\u001b[43mclose_fds\u001b[49m\u001b[43m)\u001b[49m\u001b[43m,\u001b[49m\n\u001b[0;32m   1440\u001b[0m \u001b[43m                             \u001b[49m\u001b[43mcreationflags\u001b[49m\u001b[43m,\u001b[49m\n\u001b[0;32m   1441\u001b[0m \u001b[43m                             \u001b[49m\u001b[43menv\u001b[49m\u001b[43m,\u001b[49m\n\u001b[0;32m   1442\u001b[0m \u001b[43m                             \u001b[49m\u001b[43mcwd\u001b[49m\u001b[43m,\u001b[49m\n\u001b[0;32m   1443\u001b[0m \u001b[43m                             \u001b[49m\u001b[43mstartupinfo\u001b[49m\u001b[43m)\u001b[49m\n\u001b[0;32m   1444\u001b[0m \u001b[38;5;28;01mfinally\u001b[39;00m:\n\u001b[0;32m   1445\u001b[0m     \u001b[38;5;66;03m# Child is launched. Close the parent's copy of those pipe\u001b[39;00m\n\u001b[0;32m   1446\u001b[0m     \u001b[38;5;66;03m# handles that only the child should have open.  You need\u001b[39;00m\n\u001b[1;32m   (...)\u001b[0m\n\u001b[0;32m   1449\u001b[0m     \u001b[38;5;66;03m# pipe will not close when the child process exits and the\u001b[39;00m\n\u001b[0;32m   1450\u001b[0m     \u001b[38;5;66;03m# ReadFile will hang.\u001b[39;00m\n",
      "\u001b[1;31mPermissionError\u001b[0m: [WinError 5] Acceso denegado",
      "\nDuring handling of the above exception, another exception occurred:\n",
      "\u001b[1;31mTesseractNotFoundError\u001b[0m                    Traceback (most recent call last)",
      "Cell \u001b[1;32mIn[7], line 11\u001b[0m\n\u001b[0;32m      8\u001b[0m pytesseract\u001b[38;5;241m.\u001b[39mpytesseract\u001b[38;5;241m.\u001b[39mtesseract_cmd \u001b[38;5;241m=\u001b[39m \u001b[38;5;124mr\u001b[39m\u001b[38;5;124m'\u001b[39m\u001b[38;5;124mC:/Users/santu/AppData/Local/Programs/Tesseract-OCR\u001b[39m\u001b[38;5;124m'\u001b[39m\n\u001b[0;32m     10\u001b[0m \u001b[38;5;66;03m# Lenguajes disponibles\u001b[39;00m\n\u001b[1;32m---> 11\u001b[0m \u001b[38;5;28mprint\u001b[39m(\u001b[43mpytesseract\u001b[49m\u001b[38;5;241;43m.\u001b[39;49m\u001b[43mget_languages\u001b[49m\u001b[43m(\u001b[49m\u001b[43mconfig\u001b[49m\u001b[38;5;241;43m=\u001b[39;49m\u001b[38;5;124;43m'\u001b[39;49m\u001b[38;5;124;43m'\u001b[39;49m\u001b[43m)\u001b[49m)\n\u001b[0;32m     13\u001b[0m \u001b[38;5;66;03m#Cargo imagen y ocnvierto a RGB\u001b[39;00m\n\u001b[0;32m     14\u001b[0m img \u001b[38;5;241m=\u001b[39m cv2\u001b[38;5;241m.\u001b[39mimread(\u001b[38;5;124m'\u001b[39m\u001b[38;5;124mocr_test.tif\u001b[39m\u001b[38;5;124m'\u001b[39m) \n",
      "File \u001b[1;32mc:\\Users\\santu\\anaconda3\\envs\\P4_VC\\lib\\site-packages\\pytesseract\\pytesseract.py:163\u001b[0m, in \u001b[0;36mrun_once.<locals>.wrapper\u001b[1;34m(*args, **kwargs)\u001b[0m\n\u001b[0;32m    160\u001b[0m \u001b[38;5;129m@wraps\u001b[39m(func)\n\u001b[0;32m    161\u001b[0m \u001b[38;5;28;01mdef\u001b[39;00m \u001b[38;5;21mwrapper\u001b[39m(\u001b[38;5;241m*\u001b[39margs, \u001b[38;5;241m*\u001b[39m\u001b[38;5;241m*\u001b[39mkwargs):\n\u001b[0;32m    162\u001b[0m     \u001b[38;5;28;01mif\u001b[39;00m \u001b[38;5;129;01mnot\u001b[39;00m kwargs\u001b[38;5;241m.\u001b[39mpop(\u001b[38;5;124m'\u001b[39m\u001b[38;5;124mcached\u001b[39m\u001b[38;5;124m'\u001b[39m, \u001b[38;5;28;01mFalse\u001b[39;00m) \u001b[38;5;129;01mor\u001b[39;00m wrapper\u001b[38;5;241m.\u001b[39m_result \u001b[38;5;129;01mis\u001b[39;00m wrapper:\n\u001b[1;32m--> 163\u001b[0m         wrapper\u001b[38;5;241m.\u001b[39m_result \u001b[38;5;241m=\u001b[39m func(\u001b[38;5;241m*\u001b[39margs, \u001b[38;5;241m*\u001b[39m\u001b[38;5;241m*\u001b[39mkwargs)\n\u001b[0;32m    164\u001b[0m     \u001b[38;5;28;01mreturn\u001b[39;00m wrapper\u001b[38;5;241m.\u001b[39m_result\n",
      "File \u001b[1;32mc:\\Users\\santu\\anaconda3\\envs\\P4_VC\\lib\\site-packages\\pytesseract\\pytesseract.py:429\u001b[0m, in \u001b[0;36mget_languages\u001b[1;34m(config)\u001b[0m\n\u001b[0;32m    423\u001b[0m     result \u001b[38;5;241m=\u001b[39m subprocess\u001b[38;5;241m.\u001b[39mrun(\n\u001b[0;32m    424\u001b[0m         cmd_args,\n\u001b[0;32m    425\u001b[0m         stdout\u001b[38;5;241m=\u001b[39msubprocess\u001b[38;5;241m.\u001b[39mPIPE,\n\u001b[0;32m    426\u001b[0m         stderr\u001b[38;5;241m=\u001b[39msubprocess\u001b[38;5;241m.\u001b[39mSTDOUT,\n\u001b[0;32m    427\u001b[0m     )\n\u001b[0;32m    428\u001b[0m \u001b[38;5;28;01mexcept\u001b[39;00m \u001b[38;5;167;01mOSError\u001b[39;00m:\n\u001b[1;32m--> 429\u001b[0m     \u001b[38;5;28;01mraise\u001b[39;00m TesseractNotFoundError()\n\u001b[0;32m    431\u001b[0m \u001b[38;5;66;03m# tesseract 3.x\u001b[39;00m\n\u001b[0;32m    432\u001b[0m \u001b[38;5;28;01mif\u001b[39;00m result\u001b[38;5;241m.\u001b[39mreturncode \u001b[38;5;129;01mnot\u001b[39;00m \u001b[38;5;129;01min\u001b[39;00m (\u001b[38;5;241m0\u001b[39m, \u001b[38;5;241m1\u001b[39m):\n",
      "\u001b[1;31mTesseractNotFoundError\u001b[0m: C:/Users/santu/AppData/Local/Programs/Tesseract-OCR is not installed or it's not in your PATH. See README file for more information."
     ]
    }
   ],
   "source": [
    "# Tesseract\n",
    "import cv2\n",
    "import pytesseract\n",
    "from pytesseract import Output\n",
    "\n",
    "# Previamente debes descargar los ejecutables\n",
    "# Si la ruta de Tesseract no está en el PATH, ruta al ejecutable\n",
    "pytesseract.pytesseract.tesseract_cmd = r'C:/Users/santu/AppData/Local/Programs/Tesseract-OCR/tesseract'\n",
    "\n",
    "# Lenguajes disponibles\n",
    "print(pytesseract.get_languages(config=''))\n",
    "\n",
    "#Cargo imagen y ocnvierto a RGB\n",
    "img = cv2.imread('ocr_test.tif') \n",
    "\n",
    "if img is not None:\n",
    "    #Convierte a RGB antes de procesar\n",
    "    img_rgb = cv2.cvtColor(img, cv2.COLOR_BGR2RGB)\n",
    "\n",
    "    #Texto localizado\n",
    "    print(pytesseract.image_to_string(img))\n",
    "\n",
    "    #Texto y localización en imagen de cada palabra\n",
    "    d = pytesseract.image_to_data(img_rgb, output_type=Output.DICT)\n",
    "\n",
    "    n_boxes = len(d['text'])\n",
    "    for i in range(n_boxes):\n",
    "        #Nivel de confianza\n",
    "        if int(d['conf'][i]) > 60:\n",
    "            text = d['text'][i]\n",
    "            conf = d['conf'][i]\n",
    "            (x, y, w, h) = (d['left'][i], d['top'][i], d['width'][i], d['height'][i])\n",
    "            img = cv2.rectangle(img, (x, y), (x + w, y + h), (0, 255, 0), 2)\n",
    "\n",
    "            print(f'Texto: {text} ({conf:.2f}%)\\nContenedor: {x,y,x+w,y+h}')\n",
    "\n",
    "    cv2.imshow('img', img_rgb)\n",
    "    cv2.waitKey(-1)\n",
    "\n",
    "   \n",
    "\n",
    "else:\n",
    "    print('Error de imagen')"
   ]
  },
  {
   "cell_type": "markdown",
   "metadata": {},
   "source": [
    "Reconocimiento de caracteres tras instalar easyocr"
   ]
  },
  {
   "cell_type": "code",
   "execution_count": 10,
   "metadata": {},
   "outputs": [
    {
     "name": "stderr",
     "output_type": "stream",
     "text": [
      "Neither CUDA nor MPS are available - defaulting to CPU. Note: This module is much faster with a GPU.\n",
      "Downloading detection model, please wait. This may take several minutes depending upon your network connection.\n"
     ]
    },
    {
     "name": "stdout",
     "output_type": "stream",
     "text": [
      "Progress: |██████████████████████████████████████████████████| 100.0% Complete"
     ]
    },
    {
     "name": "stderr",
     "output_type": "stream",
     "text": [
      "Downloading recognition model, please wait. This may take several minutes depending upon your network connection.\n"
     ]
    },
    {
     "name": "stdout",
     "output_type": "stream",
     "text": [
      "Progress: |██████████████████████████████████████████████████| 100.0% Complete\n",
      "Texto: Hasta el infinito y más allá\n",
      "Probabilidad: 0.67\n",
      "Contenedor: ((49, 85), (617, 147))\n"
     ]
    }
   ],
   "source": [
    "import easyocr\n",
    "\n",
    "#Carga del modelo de lengua\n",
    "reader = easyocr.Reader(['es']) \n",
    "\n",
    "#Reconocimiento de una imagen\n",
    "res = reader.readtext('ocr_test.tif')\n",
    "\n",
    "for (bbox, text, prob) in res:\n",
    "    # Coordenadas en orden \n",
    "    (top_left, top_right, bottom_right, bottom_left) = bbox\n",
    "    print(f'\\nTexto: {text}\\nProbabilidad: {prob:.2f}\\nContenedor: {tuple(map(int, top_left)),tuple(map(int, bottom_right))}')\n",
    "\n",
    "\n",
    "#Con restricción de caracteres reconocibles\n",
    "#result = reader.readtext('toy.tif', allowlist ='0123456789')"
   ]
  }
 ],
 "metadata": {
  "kernelspec": {
   "display_name": "P4_VC",
   "language": "python",
   "name": "python3"
  },
  "language_info": {
   "codemirror_mode": {
    "name": "ipython",
    "version": 3
   },
   "file_extension": ".py",
   "mimetype": "text/x-python",
   "name": "python",
   "nbconvert_exporter": "python",
   "pygments_lexer": "ipython3",
   "version": "3.9.20"
  },
  "orig_nbformat": 4
 },
 "nbformat": 4,
 "nbformat_minor": 2
}
